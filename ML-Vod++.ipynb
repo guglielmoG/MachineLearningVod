{
 "cells": [
  {
   "cell_type": "markdown",
   "metadata": {},
   "source": [
    "# Vodafone Challenge\n",
    "## Scrap notebook\n",
    "- **Separate each test** you make with a markdown cell like this one (press M when the cursor is on a cell but it is not editing). \n",
    "- Put a **small description** on what you are doing and why you do so (like if you manipulate data in a specific way, or apply a particular definition of distance, write the intuition behind. Both for you to remmember later and for team members)\n",
    "- Make sure you are working with the **proper data** i.e. the data (and their transformation) that you with to use are defined before you do the analysis. Bugs could appear if you do not define something and Python retrieves older values for the variables you are using.\n",
    "- **Do not modify df_backup**, always work with a copy [like df = df_backup.copy()]\n",
    "- Add short line of description in the Summary section\n",
    "- For each test, write briefly which value of the parameter tried (like learning rate constant, tried eta0 large (10^-2) not well, smaller (10^-7) seem to work best. Then changed with learning rate adaptivive [which?] and tried ... large (10^-2) worked best).\n",
    "\n",
    "**For the best test, build pipeline: bulleted version of all things done on the dataset until the result. It could be a useful thing to do for each test actually**"
   ]
  },
  {
   "cell_type": "markdown",
   "metadata": {},
   "source": [
    "## Summary\n",
    "\n",
    "1. **K-means on traffic data**: tested for different k's, both standardized and not. Performs poorly.\n",
    "2. **preprocessing zip-urb** (Abetone, Montoro, Ginosa, Capannori, Vigo di Fassa, Scarpiera e San Piero)\n",
    "3. **Perc imputation**"
   ]
  },
  {
   "cell_type": "markdown",
   "metadata": {},
   "source": [
    "## Code\n",
    "### *setup*"
   ]
  },
  {
   "cell_type": "code",
   "execution_count": 3,
   "metadata": {
    "collapsed": true
   },
   "outputs": [],
   "source": [
    "%matplotlib inline\n",
    "\n",
    "import pandas as pd\n",
    "import numpy as np\n",
    "import matplotlib.pyplot as plt\n",
    "\n",
    "from sklearn.neighbors import KNeighborsClassifier\n",
    "from sklearn.decomposition import PCA\n",
    "\n",
    "from sklearn.linear_model import SGDClassifier\n",
    "from sklearn.neural_network import MLPClassifier\n",
    "from sklearn.linear_model import LogisticRegression\n",
    "\n",
    "pd.set_option('display.max_columns', None)\n",
    "np.set_printoptions(threshold=np.NaN)"
   ]
  },
  {
   "cell_type": "code",
   "execution_count": 4,
   "metadata": {
    "collapsed": true
   },
   "outputs": [],
   "source": [
    "df_backup = pd.read_csv('dataset_challenge_v5.TRAINING.csv')"
   ]
  },
  {
   "cell_type": "markdown",
   "metadata": {},
   "source": [
    "### Cleaning\n",
    "**DeviceOperatingSystem**: I preferred not to create a specific category for 'windows' because too few observations, however, if the 'other' category reveals to explain well, we can unpack it (in a new dataset)"
   ]
  },
  {
   "cell_type": "code",
   "execution_count": 5,
   "metadata": {
    "collapsed": false
   },
   "outputs": [
    {
     "name": "stdout",
     "output_type": "stream",
     "text": [
      "{'iOS': 568, nan: 548, 'Android': 858, 'Windows Mobile': 6, 'Proprietary': 5, 'Windows Phone': 7, 'BlackBerry OS': 1, 'Firefox': 1, 'Symbian^3': 1, 'BREW': 1, 'Series 40': 2, 'BB10': 1, 'VRTXmc': 1}\n"
     ]
    }
   ],
   "source": [
    "df_clean = df_backup.copy()\n",
    "\n",
    "del df_clean['Unnamed: 0']\n",
    "\n",
    "c = list(df_clean.columns)\n",
    "c[0] = 'ID'\n",
    "df_clean.columns = c\n",
    "\n",
    "df_clean['ZipCode'] = df_clean['ZipCode'].map(lambda x: '%05i' % x, na_action='ignore')\n",
    "\n",
    "traffic_columns = ['File-Transfer', 'Games',\n",
    "       'Instant-Messaging-Applications', 'Mail', 'Music-Streaming',\n",
    "       'Network-Operation', 'P2P-Applications', 'Security',\n",
    "       'Streaming-Applications', 'Terminals', 'Unclassified', 'VoIP',\n",
    "       'Web-Applications']\n",
    "df_clean[traffic_columns]\n",
    "\n",
    "cats = df_clean['CustomerAge'].astype('category').cat.categories\n",
    "d = {cat:(15+10*i)/100 for i,cat in enumerate(cats)}\n",
    "df_clean['NumericAge'] = df_clean['CustomerAge'].map(lambda x: d[x], na_action='ignore')\n",
    "\n",
    "d = {}\n",
    "for elem in df_clean['DeviceOperatingSystem']:\n",
    "    d[elem] = d.get(elem, 0) + 1\n",
    "print(d) #some categories have very few values, group them\n",
    "OS_other = []\n",
    "for key in d:\n",
    "    if d[key] < 10:\n",
    "        OS_other.append(key)\n",
    "        d[key] = 'other'\n",
    "    else:\n",
    "        d[key] = key\n",
    "df_clean['OS_clean'] = df_clean['DeviceOperatingSystem'].map(lambda x: d[x], na_action='ignore')"
   ]
  },
  {
   "cell_type": "code",
   "execution_count": 6,
   "metadata": {
    "collapsed": false
   },
   "outputs": [
    {
     "name": "stderr",
     "output_type": "stream",
     "text": [
      "C:\\Users\\guglielmo\\Anaconda3\\lib\\site-packages\\ipykernel\\__main__.py:51: SettingWithCopyWarning: \n",
      "A value is trying to be set on a copy of a slice from a DataFrame\n",
      "\n",
      "See the caveats in the documentation: http://pandas.pydata.org/pandas-docs/stable/indexing.html#indexing-view-versus-copy\n"
     ]
    }
   ],
   "source": [
    "#Adding rural/urban information\n",
    "df_zip_istat = pd.read_csv('databases/database.csv')\n",
    "df_istat_urb = pd.read_csv('databases/it_postal_codes.csv/Foglio 2-Tabella 1.csv', error_bad_lines=False, sep = ';')\n",
    "my_urb_dict = {'Basso' : 0, 'Medio' : 1, 'Elevato' : 2}\n",
    "df_istat_urb['GradoUrbaniz'] = df_istat_urb['GradoUrbaniz'].map(lambda x: my_urb_dict[x], na_action = 'ignore')\n",
    "\n",
    "#check there are no datapoint for which we don't have zip but we've region\n",
    "df_clean['ZipCode'].isnull()\n",
    "df_clean['Region'][df_clean['ZipCode'].isnull()]\n",
    "len(df_clean['Region'][df_clean['ZipCode'].isnull()]) == np.sum(df_clean['Region'][df_clean['ZipCode'].isnull()].isnull())\n",
    "\n",
    "#we need to insert x for multiple cap cities\n",
    "isnan = lambda x: x != x\n",
    "#nan is unique type not equal to itself, so with this lambda function we get True only when the type is NaN\n",
    "\n",
    "for i in range(df_zip_istat.shape[0]):\n",
    "    cap = df_zip_istat.loc[i, 'cap/0']\n",
    "    cap  = '%05d' % cap\n",
    "    if not isnan(df_zip_istat.loc[i,'cap/1']):\n",
    "        if not isnan(df_zip_istat.loc[i,'cap/10']):   \n",
    "            cap = cap[:-2]+'xx'\n",
    "        else:\n",
    "            cap = cap[:-1]+'x'\n",
    "    df_zip_istat.loc[i, 'cap/0'] = cap\n",
    "\n",
    "d_zip_istat = df_zip_istat.set_index('cap/0').to_dict()['codice']\n",
    "d_istat_urb = df_istat_urb.set_index('ISTAT').to_dict()['GradoUrbaniz']\n",
    "\n",
    "mask = df_clean['ZipCode'].isnull()\n",
    "urban_col = np.zeros(df_clean.shape[0])\n",
    "urban_col_masked = urban_col[~ mask]\n",
    "d_zip_istat.update([('51021', 47023),( '83026', 64121),( '74025', 73007),( '55062', 46007),( '38039', 22217),('50037', 48053)])\n",
    "d_istat_urb.update([(22250, 0),( 78157, 1)])\n",
    "\n",
    "c = 0\n",
    "for i in df_clean['ZipCode'][~ mask]:\n",
    "    try:\n",
    "        temp = d_zip_istat[i]\n",
    "        urban_col_masked[c] = d_istat_urb[int(temp)]\n",
    "    except KeyError:\n",
    "        i = '%05d' % int(i)\n",
    "        if i[:-1]+'x' in d_zip_istat:\n",
    "            temp = d_zip_istat[i[:-1]+'x']\n",
    "        elif i[:-2]+'xx' in d_zip_istat:\n",
    "            temp = d_zip_istat[i[:-2]+'xx']\n",
    "        else:\n",
    "            raise()\n",
    "    c += 1\n",
    "    \n",
    "df_clean['Urban'] = df_clean['ZipCode'].copy()\n",
    "df_clean['Urban'][~ mask] = urban_col_masked"
   ]
  },
  {
   "cell_type": "markdown",
   "metadata": {},
   "source": [
    "### Class definition and useful dependencies\n",
    "Space that collects classes or function definition that come in handy throughtout the project"
   ]
  },
  {
   "cell_type": "code",
   "execution_count": 7,
   "metadata": {
    "collapsed": true
   },
   "outputs": [],
   "source": [
    "class buildTrain():\n",
    "    def __init__(self, X, y, perc=0.8, std=False, pca=0, seed=None):\n",
    "        if seed is not None:\n",
    "            np.random.seed(seed)\n",
    "        n_data, n_features = X.shape\n",
    "        assert n_data == len(y)\n",
    "        \n",
    "        dopca = pca is None or pca > 0\n",
    "        \n",
    "        #check and remove nan values\n",
    "        temp = X.copy()\n",
    "        temp[y.name] = y.copy()\n",
    "        temp.dropna(axis=0, how='any', inplace=True)\n",
    "        \n",
    "        if temp.shape[0] < n_data:\n",
    "            print('Warning: missing data found and removed. Old input shape: %d, %d, new input shape: %d, %d'\n",
    "                  % (X.shape[0], X.shape[1]+1, *temp.shape))\n",
    "            X = temp\n",
    "            y = temp[y.name]\n",
    "            X.drop(y.name, axis=1, inplace=True)\n",
    "            n_data, _ = X.shape\n",
    "    \n",
    "        assert n_data == len(y)\n",
    "        \n",
    "        perm = np.random.random(n_data)\n",
    "        train_mask = perm < perc\n",
    "        valid_mask = ~ train_mask\n",
    "        \n",
    "        train_data = X[train_mask]\n",
    "        train_target = y[train_mask]\n",
    "        valid_data = X[valid_mask]\n",
    "        valid_target = y[valid_mask]\n",
    "        assert (len(train_data)+len(valid_data)) == n_data\n",
    "        \n",
    "        if std:\n",
    "            mean = train_data.mean(axis=0)\n",
    "            std = train_data.std(axis=0) + 1e-10\n",
    "            train_data = (train_data - mean) / std\n",
    "            valid_data = (valid_data - mean) / std\n",
    "            print('Performed standardization')\n",
    "        \n",
    "        if dopca:\n",
    "            my_pca = PCA(n_components=pca)\n",
    "            my_pca.fit(train_data)\n",
    "            train_data = my_pca.transform(train_data)\n",
    "            valid_data = my_pca.transform(valid_data)\n",
    "            print('performed PCA, number of features: %d, explained variance for component:\\n'%(my_pca.n_components_), \n",
    "                  ['%.2f'%i for i in my_pca.explained_variance_ratio_])\n",
    "        \n",
    "        self.Xt = train_data\n",
    "        self.yt = train_target\n",
    "        self.Xv = valid_data\n",
    "        self.yv = valid_target\n",
    "        \n",
    "    def get_train(self):\n",
    "        return self.Xt, self.yt\n",
    "    \n",
    "    def get_valid(self):\n",
    "        return self.Xv, self.yv"
   ]
  },
  {
   "cell_type": "code",
   "execution_count": 8,
   "metadata": {
    "collapsed": true
   },
   "outputs": [],
   "source": [
    "class logger():\n",
    "    def __init__(self, verbose = True):\n",
    "        self.v = verbose\n",
    "        self.log_ = []\n",
    "        \n",
    "    def log_it(self, text):\n",
    "        #adds to log record\n",
    "        if not isinstance(text, str):\n",
    "            raise Exception('must pass text to logger')\n",
    "        if self.v:\n",
    "            print(text)\n",
    "        self.log_.append(text)\n",
    "        \n",
    "    def print_out(self, text):\n",
    "        if not isinstance(text, str):\n",
    "            raise Exception('must pass text to logger')\n",
    "        #doesn't add to log record\n",
    "        if self.v:\n",
    "            print(text)\n",
    "        \n",
    "    def show_img(self, array):\n",
    "        if not isinstance(array, np.ndarray):\n",
    "            raise Exception(1)\n",
    "        if self.v:\n",
    "            plt.imshow(array)\n",
    "        \n",
    "    def get_log(self):\n",
    "        return \"\\n\".join(self.log_)"
   ]
  },
  {
   "cell_type": "code",
   "execution_count": 9,
   "metadata": {
    "collapsed": true
   },
   "outputs": [],
   "source": [
    "def check_clusters(y, clust_labels, img_threshold=15, v=True):\n",
    "    #checks input\n",
    "    if y.ndim != 1: \n",
    "        raise Exception(2)\n",
    "    if len(y) != len(clust_labels):\n",
    "        raise Exception(4)\n",
    "    \n",
    "    #logger setup\n",
    "    my_log = logger(verbose=v)\n",
    "        \n",
    "    #build histogram of categories (how many point for each cat)\n",
    "    cats = {}\n",
    "    for i in y:\n",
    "        cats[i] = cats.get(i, 0) + 1\n",
    "    n_cats = len(cats)\n",
    "    \n",
    "    #build histogram of clusters (how many point in each cluster)\n",
    "    clusters = {}\n",
    "    for i in clust_labels:\n",
    "        clusters[i] = clusters.get(i, 0) + 1\n",
    "    n_clusters = len(clusters)\n",
    "        \n",
    "    #create mapping from categories to index (to easily store data)\n",
    "    #done because we assume y's values can be different from range(n_categories)\n",
    "    #cat_list useful to quickly go back (header of result matrix)\n",
    "    cat_map = {}\n",
    "    cat_list = []\n",
    "    for i, cat in enumerate(cats):\n",
    "        cat_map[cat] = i\n",
    "        cat_list.append(cat)\n",
    "    \n",
    "    #for each cluster, computes proportion of point belonging to each category\n",
    "    result = np.zeros((n_clusters, n_cats))\n",
    "    tot_per_clust = np.zeros((n_clusters,1), dtype=int)\n",
    "    for i, clust in enumerate(clusters):\n",
    "        labels = y[clust_labels == clust]\n",
    "        tot_per_clust[i] = clusters[clust]\n",
    "        for cat in labels:\n",
    "            result[i,cat_map[cat]] += 1\n",
    "            \n",
    "    #to compute percentage of category points\n",
    "    perc_cat = []\n",
    "    for clust in range(len(result)):\n",
    "        i_max = np.argmax(result[clust,:])\n",
    "        tot = cats[cat_list[i_max]]\n",
    "        perc_cat.append(result[clust, i_max] / tot * 100)\n",
    "        \n",
    "    #express each value as a proportion (normalization)\n",
    "    result = result / tot_per_clust * 100\n",
    "    \n",
    "    #show graphical representation if matrix not too big\n",
    "    if n_cats < img_threshold and n_clusters < img_threshold:\n",
    "        my_log.show_img(result)\n",
    "        \n",
    "    #for each cluster show the category that fits it best\n",
    "    for i,value in enumerate(np.argmax(result, axis=1)):\n",
    "        #frequency of category: number of datapoint of a specific category belonging to that cluster\n",
    "        #over the number of points in the cluster (variety within cluster)\n",
    "        #category clustering: number of datapoint of a specific category belonging to that cluster,\n",
    "        #over the total number of points of that category\n",
    "        my_log.log_it('cluster: %s --> top category: %s, frequency of category (variety within cluster): %.2f%%, category clustering: %.2f%%'\\\n",
    "              % (i, cat_list[value], result[i, value], perc_cat[i]))\n",
    "    score = np.sum(np.max(result, axis=1))/n_clusters\n",
    "    weighted = np.dot(np.max(result, axis=1), np.array(perc_cat))/100\n",
    "    #maybe it's best to weight the score by the category clustering index (see k-means example below)\n",
    "    my_log.log_it(\"Overall score (doesn't consider category clustering): %.2f%%, weighted: %.2f%%\"%(score, weighted))\n",
    "    return weighted, my_log.get_log()"
   ]
  },
  {
   "cell_type": "code",
   "execution_count": 10,
   "metadata": {
    "collapsed": true
   },
   "outputs": [],
   "source": [
    "def standardize(df, column):\n",
    "    if not isinstance(column, (str, int)):\n",
    "        raise Exception(1)\n",
    "    #returns a copy of the standardized column\n",
    "    c = df[column].copy()\n",
    "    mean = c.mean()\n",
    "    sd = c.std()\n",
    "    return (c - mean) / sd"
   ]
  },
  {
   "cell_type": "code",
   "execution_count": 11,
   "metadata": {
    "collapsed": true
   },
   "outputs": [],
   "source": [
    "def batch_std(df, columns):\n",
    "    if not isinstance(columns, str):\n",
    "        if len(columns) == 0:\n",
    "            raise Exception('nto enough columns')\n",
    "    else:\n",
    "        raise Exception('must be an array or list')\n",
    "    #returns a new dataframe with standardized columns\n",
    "    new_df = pd.DataFrame()\n",
    "    for column in columns:\n",
    "        temp = standardize(df, column)\n",
    "        new_df[column] = temp\n",
    "    return new_df"
   ]
  },
  {
   "cell_type": "code",
   "execution_count": 12,
   "metadata": {
    "collapsed": true
   },
   "outputs": [],
   "source": [
    "class test():\n",
    "    def __init__(self):\n",
    "        self.best = [0,0,0]\n",
    "        self.scores = []\n",
    "        \n",
    "    def update(self, score, k):\n",
    "        score, log = score\n",
    "        if score > self.best[0]:\n",
    "            self.best = score, k, log\n",
    "        self.scores.append((k, score))\n",
    "        \n",
    "    def get_result(self):\n",
    "        best = self.best\n",
    "        scores = self.scores\n",
    "        print('best weighted score: %.2f%%, number of clusters: %i' % (best[0], best[1]))\n",
    "        print('log of best: \\n%s' % best[2])\n",
    "        plt.figure()\n",
    "        plt.plot(*zip(*scores),'-')"
   ]
  },
  {
   "cell_type": "code",
   "execution_count": 124,
   "metadata": {
    "collapsed": false
   },
   "outputs": [],
   "source": [
    "class interface():\n",
    "    def __init__(self, seed = None):\n",
    "        if seed is None:\n",
    "            seed = np.random.randint(666766)\n",
    "        self.seed = seed\n",
    "            \n",
    "    def train(self, X, y, percentage=0.8, std=False, pca=0, threshold_unbalanced=0.6, epochs=30, **args):\n",
    "        np.random.seed(self.seed)\n",
    "        self._check_balanced(y, threshold_unbalanced, args)\n",
    "        _,_, valid = self._train(X, y, percentage, std, pca, epochs, args)\n",
    "        if self.unbalanced:\n",
    "            self._unbal_output(valid)\n",
    "        self.train_param = (X, y, percentage, std, pca, epochs, args)\n",
    "            \n",
    "    def _check_balanced(self, y, threshold_unbalanced, args):\n",
    "        unbalanced = False\n",
    "        \n",
    "        #check unbalanced dataset\n",
    "        d_cat = {}\n",
    "        clean_y = y[~y.isnull()]\n",
    "        for i in clean_y:\n",
    "            d_cat[i] = d_cat.get(i, 0) + 1\n",
    "        max_cat = 0\n",
    "        max_num = 0\n",
    "        for cat in d_cat:\n",
    "            if d_cat[cat] > max_num:\n",
    "                max_cat = cat\n",
    "                max_num = d_cat[cat]\n",
    "                    \n",
    "        if max_num / len(clean_y) > threshold_unbalanced:\n",
    "            print('Warning: found unbalanced dataset, training using balanced setting for class_weight')\n",
    "            if 'class_weight' in args and args['class_weight'] is None:\n",
    "                class_weight = {cat:1/(d_cat[cat]/len(clean_y)) for cat in d_cat}\n",
    "                args['class_weight'] = class_weight\n",
    "                print('Weights used:', {i:float('%.2f'%d_cat[i]) for i in class_weight})\n",
    "            unbalanced = True\n",
    "        self.unbalanced = unbalanced\n",
    "        \n",
    "    def _train(self, X, y, percentage, std, pca, epochs, args):\n",
    "        raise Exception('not implemented')\n",
    "            \n",
    "    def _unbal_output(self, valid):\n",
    "        Xv, yv = valid\n",
    "        obj = self.obj\n",
    "        d_cat = {}\n",
    "        for i in yv:\n",
    "            d_cat[i] = d_cat.get(i, 0) + 1\n",
    "        max_cat = 0\n",
    "        max_num = 0\n",
    "        for cat in d_cat:\n",
    "            if d_cat[cat] > max_num:\n",
    "                max_cat = cat\n",
    "                max_num = d_cat[cat]\n",
    "        mask = yv != max_cat\n",
    "        if np.sum(mask) == 0:\n",
    "            raise Exception('No data in smaller part of valid set')\n",
    "        minority_score = obj.score(Xv[mask], yv[mask])\n",
    "        majority_score = obj.score(Xv[~mask], yv[~mask])\n",
    "        print('Score on smaller part (%.2f%%) of validation set (unbalanced case): %.2f' % \n",
    "              (np.sum(mask)/len(yv)*100, minority_score))\n",
    "        print('Score on bigger part (%.2f%%) of validation set (unbalanced case): %.2f' % \n",
    "              (np.sum(~mask)/len(yv)*100, majority_score))\n",
    "        print('Category histogram in validation set:', d_cat)\n",
    "            \n",
    "   \n",
    "        \n",
    "    def test(self, n=10):\n",
    "        best = np.zeros(n)\n",
    "        worse = np.zeros(n)\n",
    "        for i in range(n):\n",
    "            np.random.seed(np.random.randint(10001)*i)\n",
    "            tscores, vscores,_ = self._train(self.train_param)\n",
    "            best[i] = np.max(vscores)\n",
    "            worse[i] = np.min(vscores)\n",
    "        print('average best performance: %.2f%%, standard deviation: %f'%(best.mean(), best.std()))\n",
    "        plt.figure()\n",
    "        plt.plot(np.arange(n), worse, color='r', label='worse performances')\n",
    "        plt.plot(np.arange(n), best, color='g', label='best performances')\n",
    "        legend = plt.legend(loc='upper center', shadow=True)\n",
    "        plt.xlabel('samples')\n",
    "        plt.ylabel('test score')\n",
    "        plt.show()\n",
    "        \n",
    "    def predict(self, X, y):\n",
    "        obj = self.obj\n",
    "        mask = y.isnull()\n",
    "        to_be_predicted = X[mask]\n",
    "        assert y.shape[0] == X.shape[0]\n",
    "        assert to_be_predicted.shape[0] != 0\n",
    "        return obj.predict(to_be_predicted)"
   ]
  },
  {
   "cell_type": "code",
   "execution_count": 125,
   "metadata": {
    "collapsed": true
   },
   "outputs": [],
   "source": [
    "def train_perc_warm(perc, X, y, epochs, eta0, percentage, f_eta, std, pca, v):\n",
    "    if f_eta is None:\n",
    "        return lambda x: x\n",
    "    \n",
    "    data = buildTrain(X, y, percentage, std, pca)\n",
    "    n_features = data.get_train()[0].shape[1]\n",
    "    n_classes = len(data.get_train()[1].unique())\n",
    "    \n",
    "    if n_classes == 1:\n",
    "        raise Exception(1)\n",
    "    if n_classes == 2:\n",
    "        n_classes = 1\n",
    "        \n",
    "    coef = np.random.randn(n_classes, n_features) * 1e-2\n",
    "    intercept = np.random.randn(n_classes) * 1e-2\n",
    "    eta = eta0\n",
    "    \n",
    "    tscores = []\n",
    "    vscores = []\n",
    "    for epoch in range(epochs):\n",
    "        perc.set_params(eta0=eta)\n",
    "        perc.fit(*data.get_train(), coef_init = coef, intercept_init = intercept)\n",
    "        tscore = perc.score(*data.get_train())\n",
    "        vscore = perc.score(*data.get_valid())\n",
    "        if v:\n",
    "            print(\"run=%i tscore=%g vscore=%g\" % (epoch+1, tscore, vscore))\n",
    "        tscores.append(tscore)\n",
    "        vscores.append(vscore)\n",
    "        coef, intercept = perc.coef_, perc.intercept_\n",
    "        eta = f_eta(eta0, epoch)\n",
    "    if v:\n",
    "        plt.figure()\n",
    "        plt.plot(np.arange(epochs), tscores, np.arange(epochs), vscores)\n",
    "        \n",
    "    return tscores, vscores, data.get_valid()"
   ]
  },
  {
   "cell_type": "code",
   "execution_count": 126,
   "metadata": {
    "collapsed": true
   },
   "outputs": [],
   "source": [
    "def train_perc_cold(perc, X, y, percentage, max_iter, std, pca):\n",
    "    data = buildTrain(X, y, percentage, std, pca)\n",
    "    \n",
    "    perc.set_params(max_iter=max_iter)\n",
    "    perc.fit(*data.get_train())\n",
    "    tscore = perc.score(*data.get_train())\n",
    "    vscore = perc.score(*data.get_valid())\n",
    "    print(\"tscore=%g vscore=%g\" % (tscore, vscore))\n",
    "        \n",
    "    return tscore, vscore, data.get_valid()"
   ]
  },
  {
   "cell_type": "code",
   "execution_count": 127,
   "metadata": {
    "collapsed": true
   },
   "outputs": [],
   "source": [
    "class perc(interface):\n",
    "    \n",
    "    def _train(self, X, y, percentage, std, pca, epochs, args):\n",
    "        warm_start = True\n",
    "        learning_rate = args.get('learning_rate', 'optimal')\n",
    "        it_interval = args.pop('it_interval', 100)\n",
    "        power_t = args.get('power_t', 0.5)\n",
    "        #check learning_rate\n",
    "        if learning_rate == 'constant':\n",
    "            f_eta = lambda eta0, epoch: eta0\n",
    "        elif learning_rate == 'invscaling':\n",
    "            f_eta = lambda eta0, epoch: eta0 / ((epoch + 1) * it_interval)**power_t\n",
    "        elif learning_rate == 'optimal':\n",
    "            warm_start = False\n",
    "            f_eta = None\n",
    "        else:\n",
    "            raise Exception('not valid value')                \n",
    "            \n",
    "        #compute max_iter\n",
    "        max_iter = epochs * it_interval\n",
    "        args['max_iter'] = it_interval\n",
    "            \n",
    "        #create multiple perceptron\n",
    "        perc_ = SGDClassifier(**args)\n",
    "\n",
    "        param_warm = (perc_, X, y, epochs, args['eta0'], percentage, f_eta, std, pca, True)\n",
    "        param_cold = (perc_, X, y, percentage, max_iter, std, pca)\n",
    "        \n",
    "        #perform analysis\n",
    "        if warm_start:\n",
    "            tscores, vscores, valid = train_perc_warm(*param_warm)\n",
    "        else:\n",
    "            tscores, vscores, valid = train_perc_cold(*param_cold)\n",
    "            \n",
    "        self.obj = perc_\n",
    "        return tscores, vscores, valid"
   ]
  },
  {
   "cell_type": "code",
   "execution_count": 128,
   "metadata": {
    "collapsed": true
   },
   "outputs": [],
   "source": [
    "def train_MLP(ml_perc, X, y, percentage=0.8, max_iter= 30, std=False, pca=0, v=True):\n",
    "    \n",
    "    data = buildTrain(X, y, percentage, std, pca)\n",
    "\n",
    "    tscores = []\n",
    "    vscores = []\n",
    "    for epoch in range(max_iter):\n",
    "        ml_perc.set_params(max_iter=epoch+1)\n",
    "        ml_perc.fit(*data.get_train())\n",
    "        tscore = ml_perc.score(*data.get_train())\n",
    "        vscore = ml_perc.score(*data.get_valid())\n",
    "        loss = ml_perc.loss_\n",
    "        if v:\n",
    "            print(f\"epoch={epoch} loss={loss} tscore={tscore} vscore={vscore}\")\n",
    "        tscores.append(tscore)\n",
    "        vscores.append(vscore)\n",
    "        ml_perc.set_params(warm_start=True)\n",
    "        \n",
    "    if v:\n",
    "        plt.figure()\n",
    "        plt.plot(np.arange(max_iter), tscores, np.arange(max_iter), vscores)\n",
    "    \n",
    "    return tscores, vscores, data.get_valid()"
   ]
  },
  {
   "cell_type": "code",
   "execution_count": 129,
   "metadata": {
    "collapsed": true
   },
   "outputs": [],
   "source": [
    "class MLP(interface):\n",
    "    \n",
    "    def _train(self, X, y, percentage, std, pca, epochs, args):             \n",
    "            \n",
    "        #create multiple perceptron\n",
    "        ml_perc_ = MLPClassifier(**args)\n",
    "        \n",
    "        param_warm = (ml_perc_, X, y, percentage, epochs, std, pca)\n",
    "        \n",
    "        tscores, vscores, valid = train_MLP(*param_warm)\n",
    "        \n",
    "        #save settings\n",
    "        self.obj = ml_perc_\n",
    "        return tscores, vscores, valid"
   ]
  },
  {
   "cell_type": "code",
   "execution_count": 130,
   "metadata": {
    "collapsed": true
   },
   "outputs": [],
   "source": [
    "def train_LR(log_reg, X, y, percentage=0.8, max_iter= 30, std=False, pca=0, v=True):\n",
    "    \n",
    "    data = buildTrain(X, y, percentage, std, pca)\n",
    "\n",
    "    tscores = []\n",
    "    vscores = []\n",
    "    for epoch in range(max_iter):\n",
    "        log_reg.set_params(max_iter=epoch+1)\n",
    "        log_reg.fit(*data.get_train())\n",
    "        tscore = log_reg.score(*data.get_train())\n",
    "        vscore = log_reg.score(*data.get_valid())\n",
    "        if v:\n",
    "            print(f\"epoch={epoch} tscore={tscore} vscore={vscore}\")\n",
    "        tscores.append(tscore)\n",
    "        vscores.append(vscore)\n",
    "        log_reg.set_params(warm_start=True)\n",
    "        \n",
    "    if v:\n",
    "        plt.figure()\n",
    "        plt.plot(np.arange(max_iter), tscores, np.arange(max_iter), vscores)\n",
    "    \n",
    "    return tscores, vscores, data.get_valid()"
   ]
  },
  {
   "cell_type": "code",
   "execution_count": 131,
   "metadata": {
    "collapsed": true
   },
   "outputs": [],
   "source": [
    "class LogReg(interface):\n",
    "    \n",
    "    #penalty=’l2’, dual=False, tol=0.0001, C=1.0, fit_intercept=True, intercept_scaling=1, \n",
    "    #class_weight=None, random_state=None, solver=’liblinear’, max_iter=100, multi_class=’ovr’, \n",
    "    #verbose=0, warm_start=False, n_jobs=1\n",
    "    #solver : {‘newton-cg’, ‘lbfgs’, ‘liblinear’, ‘sag’, ‘saga’},\n",
    "    #default: ‘liblinear’ Algorithm to use in the optimization problem.\n",
    "    #For small datasets, ‘liblinear’ is a good choice, whereas ‘sag’ and ‘saga’ are faster for large ones.\n",
    "    #For multiclass problems, only ‘newton-cg’, ‘sag’, ‘saga’ and ‘lbfgs’\n",
    "    #handle multinomial loss; ‘liblinear’ is limited to one-versus-rest schemes.\n",
    "    #‘newton-cg’, ‘lbfgs’ and ‘sag’ only handle L2 penalty, whereas ‘liblinear’ and ‘saga’ handle L1 penalty.\n",
    "    \n",
    "    #Multiclass option can be either ‘ovr’ or ‘multinomial’. If the option chosen is ‘ovr’, then a binary problem \n",
    "    #is fit for each label. Else the loss minimised is the multinomial loss fit across the entire probability distribution. \n",
    "    #Does not work for liblinear solver.\n",
    "\n",
    "         \n",
    "    def _train(self, X, y, percentage, std, pca, epochs, args):            \n",
    "        \n",
    "        #create logistic regression\n",
    "        log_regr_ = LogisticRegression(**args)\n",
    "        \n",
    "        param_warm = (log_regr_, X, y, percentage, epochs, std, pca)\n",
    "        \n",
    "        tscores, vscores, valid = train_LR(*param_warm)\n",
    "        \n",
    "        #save settings\n",
    "        self.obj = log_regr_\n",
    "        return tscores, vscores, valid"
   ]
  },
  {
   "cell_type": "markdown",
   "metadata": {},
   "source": [
    "## Questions\n",
    "1. How can we decide which approach to prefer between substituting with the mean of the column and using a trained supervised (with a certain accuracy), in the case of missing values?\n",
    "2. How do we optimize parameters in unbalanced dataset? Because for us we can go over 50% on big and small dataset\n",
    "4. What can we do if dataset unbalanced and we are using MLP?"
   ]
  },
  {
   "cell_type": "markdown",
   "metadata": {},
   "source": [
    "## Next Steps\n",
    "1. Train MLP (build interface if needed, should be needed)\n",
    "2. Predict age wrt traffic data for filling in the data\n",
    "3. Predict os wrt traffic data for filling in the data\n",
    "4. Predict urbaniz wrt traffic data for filling in the data\n",
    "5. Predict data allowance wrt traffic data for filling in the data\n",
    "6. Monthly data traffic\n",
    "7. others\n",
    "8. clusteringggg"
   ]
  },
  {
   "cell_type": "code",
   "execution_count": null,
   "metadata": {
    "collapsed": true
   },
   "outputs": [],
   "source": []
  },
  {
   "cell_type": "markdown",
   "metadata": {},
   "source": [
    "## Tests"
   ]
  },
  {
   "cell_type": "markdown",
   "metadata": {},
   "source": [
    "### K-means on traffic\n",
    "Just an exploratory study, let's see what we get..."
   ]
  },
  {
   "cell_type": "code",
   "execution_count": 15,
   "metadata": {
    "collapsed": false,
    "scrolled": true
   },
   "outputs": [
    {
     "name": "stdout",
     "output_type": "stream",
     "text": [
      "cluster: 0 --> top category: V-Bag, frequency of category (variety within cluster): 39.74%, category clustering: 12.30%\n",
      "cluster: 1 --> top category: V-Bag, frequency of category (variety within cluster): 38.95%, category clustering: 31.22%\n",
      "cluster: 2 --> top category: V-Pet, frequency of category (variety within cluster): 35.62%, category clustering: 25.00%\n",
      "cluster: 3 --> top category: V-Bag, frequency of category (variety within cluster): 39.75%, category clustering: 8.65%\n",
      "cluster: 4 --> top category: V-Bag, frequency of category (variety within cluster): 35.61%, category clustering: 23.92%\n",
      "cluster: 5 --> top category: V-Pet, frequency of category (variety within cluster): 42.65%, category clustering: 4.50%\n",
      "Overall score (doesn't consider category clustering): 38.72%, weighted: 39.83%\n"
     ]
    },
    {
     "data": {
      "image/png": "[encoded data removed]",
      "text/plain": [
       "<matplotlib.figure.Figure at 0x1a0dfdaa90>"
      ]
     },
     "metadata": {},
     "output_type": "display_data"
    }
   ],
   "source": [
    "from sklearn.cluster import KMeans\n",
    "\n",
    "X = df_clean[traffic_columns]\n",
    "y = df_clean['Product']\n",
    "\n",
    "km = KMeans(n_clusters=6, init='k-means++', n_init=10, n_jobs=4)\n",
    "km.fit(X)\n",
    "score = check_clusters(y=y, clust_labels=km.labels_)"
   ]
  },
  {
   "cell_type": "markdown",
   "metadata": {},
   "source": [
    "now we try the same but with standardized columns, see the difference"
   ]
  },
  {
   "cell_type": "code",
   "execution_count": 16,
   "metadata": {
    "collapsed": false
   },
   "outputs": [
    {
     "name": "stdout",
     "output_type": "stream",
     "text": [
      "cluster: 0 --> top category: V-Bag, frequency of category (variety within cluster): 36.99%, category clustering: 29.59%\n",
      "cluster: 1 --> top category: V-Bag, frequency of category (variety within cluster): 36.73%, category clustering: 53.65%\n",
      "cluster: 2 --> top category: V-Bag, frequency of category (variety within cluster): 35.71%, category clustering: 12.16%\n",
      "cluster: 3 --> top category: V-Bag, frequency of category (variety within cluster): 42.03%, category clustering: 3.92%\n",
      "cluster: 4 --> top category: V-Bag, frequency of category (variety within cluster): 100.00%, category clustering: 0.54%\n",
      "cluster: 5 --> top category: V-Bag, frequency of category (variety within cluster): 50.00%, category clustering: 0.14%\n",
      "Overall score (doesn't consider category clustering): 50.24%, weighted: 37.25%\n"
     ]
    },
    {
     "data": {
      "image/png": "[encoded data removed]",
      "text/plain": [
       "<matplotlib.figure.Figure at 0x1a0e8bc438>"
      ]
     },
     "metadata": {},
     "output_type": "display_data"
    }
   ],
   "source": [
    "X_std = batch_std(df_clean, traffic_columns)\n",
    "y = df_clean['Product']\n",
    "\n",
    "km = KMeans(n_clusters=6, init='k-means++', n_init=10, n_jobs=4)\n",
    "km.fit(X_std)\n",
    "score = check_clusters(y=y, clust_labels=km.labels_)"
   ]
  },
  {
   "cell_type": "markdown",
   "metadata": {},
   "source": [
    "It seems to have improved. Still the clusters seem to separate pretty poorly. Let's see the optimal value of k based on our previous score (using standardized data which seem to make more sense). We set the same seed each time so that the results are comparable and not influenced by different initial centroid allocation."
   ]
  },
  {
   "cell_type": "code",
   "execution_count": 17,
   "metadata": {
    "collapsed": false
   },
   "outputs": [
    {
     "name": "stdout",
     "output_type": "stream",
     "text": [
      "best weighted score: 38.99%, number of clusters: 9\n",
      "log of best: \n",
      "cluster: 0 --> top category: V-Bag, frequency of category (variety within cluster): 36.94%, category clustering: 29.05%\n",
      "cluster: 1 --> top category: V-Pet, frequency of category (variety within cluster): 37.44%, category clustering: 12.73%\n",
      "cluster: 2 --> top category: V-Bag, frequency of category (variety within cluster): 36.88%, category clustering: 53.38%\n",
      "cluster: 3 --> top category: V-Bag, frequency of category (variety within cluster): 44.87%, category clustering: 4.73%\n",
      "cluster: 4 --> top category: V-Bag, frequency of category (variety within cluster): 37.50%, category clustering: 1.62%\n",
      "cluster: 5 --> top category: V-Pet, frequency of category (variety within cluster): 50.00%, category clustering: 0.62%\n",
      "cluster: 6 --> top category: V-Pet, frequency of category (variety within cluster): 50.00%, category clustering: 0.31%\n",
      "cluster: 7 --> top category: V-Bag, frequency of category (variety within cluster): 100.00%, category clustering: 0.54%\n",
      "cluster: 8 --> top category: V-Bag, frequency of category (variety within cluster): 50.00%, category clustering: 0.14%\n",
      "Overall score (doesn't consider category clustering): 49.29%, weighted: 38.99%\n"
     ]
    },
    {
     "data": {
      "image/png": "[encoded data removed]",
      "text/plain": [
       "<matplotlib.figure.Figure at 0x1a0f369908>"
      ]
     },
     "metadata": {},
     "output_type": "display_data"
    }
   ],
   "source": [
    "my_test = test()\n",
    "\n",
    "np.random.seed(23453)\n",
    "X_std = batch_std(df_clean, traffic_columns)\n",
    "y = df_clean['Product']\n",
    "\n",
    "for k in range(2, 10):\n",
    "    km = KMeans(n_clusters=k, init='k-means++', n_init=10, n_jobs=4)\n",
    "    km.fit(X_std)\n",
    "    \n",
    "    score= check_clusters(y=y, clust_labels=km.labels_, v=False)\n",
    "    my_test.update(score, k)\n",
    "        \n",
    "my_test.get_result()"
   ]
  },
  {
   "cell_type": "markdown",
   "metadata": {},
   "source": [
    "### Hierarchical clustering on traffic data\n",
    "Same approach as for k-means, test difference between standardized and not."
   ]
  },
  {
   "cell_type": "code",
   "execution_count": 18,
   "metadata": {
    "collapsed": false
   },
   "outputs": [
    {
     "name": "stdout",
     "output_type": "stream",
     "text": [
      "best weighted score: 37.72%, number of clusters: 7\n",
      "log of best: \n",
      "cluster: 0 --> top category: V-Bag, frequency of category (variety within cluster): 39.15%, category clustering: 24.86%\n",
      "cluster: 1 --> top category: V-Bag, frequency of category (variety within cluster): 35.78%, category clustering: 62.03%\n",
      "cluster: 2 --> top category: V-Bag, frequency of category (variety within cluster): 43.18%, category clustering: 5.14%\n",
      "cluster: 3 --> top category: V-Bag, frequency of category (variety within cluster): 35.81%, category clustering: 7.16%\n",
      "cluster: 4 --> top category: V-Auto, frequency of category (variety within cluster): 50.00%, category clustering: 0.67%\n",
      "cluster: 5 --> top category: V-Bag, frequency of category (variety within cluster): 100.00%, category clustering: 0.54%\n",
      "cluster: 6 --> top category: V-Bag, frequency of category (variety within cluster): 100.00%, category clustering: 0.14%\n",
      "Overall score (doesn't consider category clustering): 57.70%, weighted: 37.72%\n"
     ]
    },
    {
     "data": {
      "image/png": "[encoded data removed]",
      "text/plain": [
       "<matplotlib.figure.Figure at 0x1a0f5424a8>"
      ]
     },
     "metadata": {},
     "output_type": "display_data"
    }
   ],
   "source": [
    "from sklearn.cluster import AgglomerativeClustering\n",
    "\n",
    "my_test = test()\n",
    "X_std = batch_std(df_clean, traffic_columns)\n",
    "y = df_clean['Product']\n",
    "\n",
    "for k in range(2, 8):\n",
    "    clust = AgglomerativeClustering(n_clusters=k, linkage='ward', affinity='euclidean')\n",
    "    clust.fit(X_std)\n",
    "    score = check_clusters(y=y, clust_labels=clust.labels_, v=False)\n",
    "    my_test.update(score, k)\n",
    "\n",
    "my_test.get_result()"
   ]
  },
  {
   "cell_type": "markdown",
   "metadata": {},
   "source": [
    "try complete linkage"
   ]
  },
  {
   "cell_type": "code",
   "execution_count": 19,
   "metadata": {
    "collapsed": false
   },
   "outputs": [
    {
     "name": "stdout",
     "output_type": "stream",
     "text": [
      "best weighted score: 38.60%, number of clusters: 7\n",
      "log of best: \n",
      "cluster: 0 --> top category: V-Bag, frequency of category (variety within cluster): 37.06%, category clustering: 98.65%\n",
      "cluster: 1 --> top category: V-Pet, frequency of category (variety within cluster): 50.00%, category clustering: 0.93%\n",
      "cluster: 2 --> top category: V-Pet, frequency of category (variety within cluster): 66.67%, category clustering: 0.62%\n",
      "cluster: 3 --> top category: V-Auto, frequency of category (variety within cluster): 50.00%, category clustering: 0.67%\n",
      "cluster: 4 --> top category: V-Bag, frequency of category (variety within cluster): 100.00%, category clustering: 0.54%\n",
      "cluster: 5 --> top category: V-Pet, frequency of category (variety within cluster): 100.00%, category clustering: 0.16%\n",
      "cluster: 6 --> top category: V-Bag, frequency of category (variety within cluster): 100.00%, category clustering: 0.14%\n",
      "Overall score (doesn't consider category clustering): 71.96%, weighted: 38.60%\n"
     ]
    },
    {
     "data": {
      "image/png": "[encoded data removed]",
      "text/plain": [
       "<matplotlib.figure.Figure at 0x1a0e91acc0>"
      ]
     },
     "metadata": {},
     "output_type": "display_data"
    }
   ],
   "source": [
    "from sklearn.cluster import AgglomerativeClustering\n",
    "\n",
    "my_test = test()\n",
    "X_std = batch_std(df_clean, traffic_columns)\n",
    "y = df_clean['Product']\n",
    "\n",
    "for k in range(2, 8):\n",
    "    clust = AgglomerativeClustering(n_clusters=k, linkage='complete', affinity='euclidean')\n",
    "    clust.fit(X_std)\n",
    "    score = check_clusters(y=y, clust_labels=clust.labels_, v=False)\n",
    "    my_test.update(score, k)\n",
    "\n",
    "my_test.get_result()"
   ]
  },
  {
   "cell_type": "markdown",
   "metadata": {},
   "source": [
    "### Perceptron (imputation of age data with traffic data)"
   ]
  },
  {
   "cell_type": "markdown",
   "metadata": {},
   "source": [
    "First of all we try to build a Perceptron to complete the age column keeping all the categories."
   ]
  },
  {
   "cell_type": "code",
   "execution_count": 113,
   "metadata": {
    "collapsed": false
   },
   "outputs": [
    {
     "name": "stdout",
     "output_type": "stream",
     "text": [
      "{0.85: 2, 0.65: 1, 0.35: 0, 0.75: 1, 0.55: 1, 0.45: 1, 0.25: 0, 0.15: 0}\n"
     ]
    }
   ],
   "source": [
    "df = df_clean.copy()\n",
    "#df.dropna(axis=0, how='any', subset=['NumericAge'], inplace=True)\n",
    "\n",
    "#merge some age ranges together\n",
    "#dict_numage_to_agecat = {i : int(100*i//40) for i in df[\"NumericAge\"].unique()}\n",
    "dict_numage_to_agecat = {0.85: 2, 0.65: 1, 0.35: 0, 0.75: 1, 0.55: 1, 0.45: 1, 0.25: 0, 0.15: 0}\n",
    "print(dict_numage_to_agecat)\n",
    "df[\"NumericAge\"] = df[\"NumericAge\"].map(lambda x: dict_numage_to_agecat[x], na_action = 'ignore')\n",
    "X = df[traffic_columns]\n",
    "y = df['NumericAge']\n",
    "my_perc = perc()"
   ]
  },
  {
   "cell_type": "code",
   "execution_count": 117,
   "metadata": {
    "collapsed": false
   },
   "outputs": [
    {
     "name": "stdout",
     "output_type": "stream",
     "text": [
      "Warning: found unbalanced dataset, training using balanced setting for class_weight\n",
      "Weights used: {2.0: 9.0, 1.0: 1210.0, 0.0: 661.0}\n",
      "Warning: missing data found and removed. Old input shape: 2000, 14, new input shape: 1880, 14\n",
      "run=1 tscore=0.382781 vscore=0.332432\n",
      "run=2 tscore=0.382781 vscore=0.335135\n",
      "run=3 tscore=0.384106 vscore=0.335135\n",
      "run=4 tscore=0.384106 vscore=0.337838\n",
      "run=5 tscore=0.384768 vscore=0.340541\n",
      "run=6 tscore=0.388079 vscore=0.340541\n",
      "run=7 tscore=0.389404 vscore=0.343243\n",
      "run=8 tscore=0.392715 vscore=0.343243\n",
      "run=9 tscore=0.394702 vscore=0.345946\n",
      "run=10 tscore=0.399338 vscore=0.348649\n",
      "run=11 tscore=0.400662 vscore=0.354054\n",
      "run=12 tscore=0.401325 vscore=0.354054\n",
      "run=13 tscore=0.403974 vscore=0.359459\n",
      "run=14 tscore=0.403974 vscore=0.359459\n",
      "run=15 tscore=0.40596 vscore=0.359459\n",
      "run=16 tscore=0.407947 vscore=0.359459\n",
      "run=17 tscore=0.408609 vscore=0.362162\n",
      "run=18 tscore=0.411921 vscore=0.364865\n",
      "run=19 tscore=0.411921 vscore=0.367568\n",
      "run=20 tscore=0.415232 vscore=0.367568\n",
      "run=21 tscore=0.417881 vscore=0.372973\n",
      "run=22 tscore=0.417881 vscore=0.372973\n",
      "run=23 tscore=0.418543 vscore=0.372973\n",
      "run=24 tscore=0.417219 vscore=0.381081\n",
      "run=25 tscore=0.419205 vscore=0.386486\n",
      "run=26 tscore=0.423841 vscore=0.389189\n",
      "run=27 tscore=0.425828 vscore=0.391892\n",
      "run=28 tscore=0.427815 vscore=0.394595\n",
      "run=29 tscore=0.431126 vscore=0.394595\n",
      "run=30 tscore=0.433113 vscore=0.402703\n",
      "run=31 tscore=0.437748 vscore=0.408108\n",
      "run=32 tscore=0.445033 vscore=0.405405\n",
      "run=33 tscore=0.45298 vscore=0.413514\n",
      "run=34 tscore=0.456954 vscore=0.421622\n",
      "run=35 tscore=0.460927 vscore=0.418919\n",
      "run=36 tscore=0.461589 vscore=0.416216\n",
      "run=37 tscore=0.470199 vscore=0.427027\n",
      "run=38 tscore=0.480132 vscore=0.42973\n",
      "run=39 tscore=0.491391 vscore=0.432432\n",
      "run=40 tscore=0.498675 vscore=0.437838\n",
      "run=41 tscore=0.507947 vscore=0.451351\n",
      "run=42 tscore=0.512583 vscore=0.462162\n",
      "run=43 tscore=0.52053 vscore=0.475676\n",
      "run=44 tscore=0.527152 vscore=0.483784\n",
      "run=45 tscore=0.53245 vscore=0.491892\n",
      "run=46 tscore=0.537748 vscore=0.505405\n",
      "run=47 tscore=0.549669 vscore=0.510811\n",
      "run=48 tscore=0.549669 vscore=0.545946\n",
      "run=49 tscore=0.555629 vscore=0.559459\n",
      "run=50 tscore=0.562914 vscore=0.57027\n",
      "run=51 tscore=0.568874 vscore=0.564865\n",
      "run=52 tscore=0.569536 vscore=0.575676\n",
      "run=53 tscore=0.570199 vscore=0.57027\n",
      "run=54 tscore=0.572185 vscore=0.578378\n",
      "run=55 tscore=0.568212 vscore=0.583784\n",
      "run=56 tscore=0.574834 vscore=0.597297\n",
      "run=57 tscore=0.572848 vscore=0.6\n",
      "run=58 tscore=0.57351 vscore=0.6\n",
      "run=59 tscore=0.572185 vscore=0.608108\n",
      "run=60 tscore=0.570199 vscore=0.616216\n",
      "run=61 tscore=0.570861 vscore=0.608108\n",
      "run=62 tscore=0.56755 vscore=0.616216\n",
      "run=63 tscore=0.56755 vscore=0.616216\n",
      "run=64 tscore=0.569536 vscore=0.627027\n",
      "run=65 tscore=0.572848 vscore=0.627027\n",
      "run=66 tscore=0.574834 vscore=0.635135\n",
      "run=67 tscore=0.575497 vscore=0.632432\n",
      "run=68 tscore=0.576821 vscore=0.627027\n",
      "run=69 tscore=0.578808 vscore=0.62973\n",
      "run=70 tscore=0.582781 vscore=0.627027\n",
      "run=71 tscore=0.576821 vscore=0.62973\n",
      "run=72 tscore=0.577483 vscore=0.62973\n",
      "run=73 tscore=0.582781 vscore=0.62973\n",
      "run=74 tscore=0.584106 vscore=0.62973\n",
      "run=75 tscore=0.586093 vscore=0.621622\n",
      "run=76 tscore=0.588079 vscore=0.624324\n",
      "run=77 tscore=0.593377 vscore=0.62973\n",
      "run=78 tscore=0.598675 vscore=0.627027\n",
      "run=79 tscore=0.596026 vscore=0.624324\n",
      "run=80 tscore=0.598675 vscore=0.616216\n",
      "run=81 tscore=0.6 vscore=0.624324\n",
      "run=82 tscore=0.605298 vscore=0.627027\n",
      "run=83 tscore=0.606623 vscore=0.632432\n",
      "run=84 tscore=0.609272 vscore=0.632432\n",
      "run=85 tscore=0.608609 vscore=0.637838\n",
      "run=86 tscore=0.607285 vscore=0.640541\n",
      "run=87 tscore=0.608609 vscore=0.645946\n",
      "run=88 tscore=0.612583 vscore=0.648649\n",
      "run=89 tscore=0.61457 vscore=0.648649\n",
      "run=90 tscore=0.612583 vscore=0.651351\n",
      "run=91 tscore=0.61457 vscore=0.651351\n",
      "run=92 tscore=0.615894 vscore=0.654054\n",
      "run=93 tscore=0.617219 vscore=0.651351\n",
      "run=94 tscore=0.62053 vscore=0.654054\n",
      "run=95 tscore=0.621854 vscore=0.659459\n",
      "run=96 tscore=0.621854 vscore=0.662162\n",
      "run=97 tscore=0.62053 vscore=0.659459\n",
      "run=98 tscore=0.625166 vscore=0.659459\n",
      "run=99 tscore=0.627152 vscore=0.656757\n",
      "run=100 tscore=0.629139 vscore=0.656757\n",
      "Score on smaller part (31.62%) of validation set (unbalanced case): 0.06\n",
      "Score on bigger part (68.38%) of validation set (unbalanced case): 0.93\n",
      "Category histogram in validation set: {0.0: 115, 1.0: 253, 2.0: 2}\n"
     ]
    },
    {
     "data": {
      "image/png": "[encoded data removed]",
      "text/plain": [
       "<matplotlib.figure.Figure at 0x1aaf2375d30>"
      ]
     },
     "metadata": {},
     "output_type": "display_data"
    }
   ],
   "source": [
    "my_perc.train(X, y, percentage=0.8, std=False, pca=0, threshold_unbalanced=0.6, epochs=100,  loss='log', penalty='none', alpha=1e-6,\n",
    "          power_t=0.7, it_interval=100, learning_rate='constant', eta0=1e-8,\n",
    "          class_weight=None)"
   ]
  },
  {
   "cell_type": "code",
   "execution_count": 119,
   "metadata": {
    "collapsed": false
   },
   "outputs": [
    {
     "data": {
      "text/plain": [
       "array([1., 1., 1., 1., 1., 1., 1., 1., 1., 1., 1., 1., 1., 1., 1., 1., 1.,\n",
       "       1., 1., 1., 1., 1., 1., 1., 1., 1., 1., 1., 1., 1., 1., 1., 1., 1.,\n",
       "       1., 1., 1., 1., 1., 1., 1., 1., 1., 1., 1., 1., 1., 1., 0., 1., 1.,\n",
       "       1., 1., 1., 1., 1., 0., 1., 1., 0., 1., 1., 1., 1., 1., 1., 1., 1.,\n",
       "       1., 1., 1., 1., 1., 1., 1., 1., 1., 1., 1., 1., 0., 1., 1., 1., 0.,\n",
       "       0., 1., 1., 1., 1., 1., 1., 1., 1., 1., 1., 1., 1., 1., 1., 1., 1.,\n",
       "       1., 1., 1., 1., 1., 1., 1., 1., 1., 1., 0., 1., 1., 1., 1., 1., 1.,\n",
       "       1.])"
      ]
     },
     "execution_count": 119,
     "metadata": {},
     "output_type": "execute_result"
    }
   ],
   "source": [
    "my_perc.predict(X,y)"
   ]
  },
  {
   "cell_type": "code",
   "execution_count": 23,
   "metadata": {
    "collapsed": true
   },
   "outputs": [],
   "source": [
    "df = df_clean.copy()\n",
    "#df.dropna(axis=0, how='any', subset=['Urban'], inplace=True)\n",
    "\n",
    "#merge some age ranges together\n",
    "#dict_numage_to_agecat = {i : int(100*i//40) for i in df[\"NumericAge\"].unique()}\n",
    "X = df[traffic_columns]\n",
    "#unbalanced?\n",
    "#np.bincount(y[~np.isnan(y)].astype(int))\n",
    "y = df['Urban'].map(lambda x: int(x), na_action = 'ignore')\n",
    "my_perc = perc()"
   ]
  },
  {
   "cell_type": "code",
   "execution_count": 24,
   "metadata": {
    "collapsed": true
   },
   "outputs": [
    {
     "name": "stdout",
     "output_type": "stream",
     "text": [
      "Warning: missing data found and removed. Old input shape: 2000, 14, new input shape: 1654, 14\n",
      "run=1 tscore=0.442835 vscore=0.403509\n",
      "run=2 tscore=0.442835 vscore=0.403509\n",
      "run=3 tscore=0.442835 vscore=0.403509\n",
      "run=4 tscore=0.442835 vscore=0.403509\n",
      "run=5 tscore=0.442835 vscore=0.403509\n",
      "run=6 tscore=0.442835 vscore=0.403509\n",
      "run=7 tscore=0.442835 vscore=0.403509\n",
      "run=8 tscore=0.442835 vscore=0.403509\n",
      "run=9 tscore=0.442835 vscore=0.403509\n",
      "run=10 tscore=0.442835 vscore=0.403509\n",
      "run=11 tscore=0.442835 vscore=0.403509\n",
      "run=12 tscore=0.442835 vscore=0.403509\n",
      "run=13 tscore=0.442835 vscore=0.403509\n",
      "run=14 tscore=0.442835 vscore=0.403509\n",
      "run=15 tscore=0.442835 vscore=0.403509\n",
      "run=16 tscore=0.442835 vscore=0.403509\n",
      "run=17 tscore=0.442835 vscore=0.403509\n",
      "run=18 tscore=0.442835 vscore=0.403509\n",
      "run=19 tscore=0.442835 vscore=0.403509\n",
      "run=20 tscore=0.442835 vscore=0.403509\n",
      "run=21 tscore=0.442835 vscore=0.403509\n",
      "run=22 tscore=0.442835 vscore=0.403509\n",
      "run=23 tscore=0.442835 vscore=0.403509\n",
      "run=24 tscore=0.442835 vscore=0.403509\n",
      "run=25 tscore=0.442835 vscore=0.403509\n",
      "run=26 tscore=0.442835 vscore=0.403509\n",
      "run=27 tscore=0.442835 vscore=0.403509\n",
      "run=28 tscore=0.442835 vscore=0.403509\n",
      "run=29 tscore=0.442835 vscore=0.403509\n",
      "run=30 tscore=0.442835 vscore=0.403509\n",
      "run=31 tscore=0.442835 vscore=0.403509\n",
      "run=32 tscore=0.442835 vscore=0.403509\n",
      "run=33 tscore=0.442835 vscore=0.403509\n",
      "run=34 tscore=0.442835 vscore=0.403509\n",
      "run=35 tscore=0.442835 vscore=0.403509\n",
      "run=36 tscore=0.442835 vscore=0.403509\n",
      "run=37 tscore=0.442835 vscore=0.403509\n",
      "run=38 tscore=0.442835 vscore=0.403509\n",
      "run=39 tscore=0.442835 vscore=0.403509\n",
      "run=40 tscore=0.442835 vscore=0.403509\n",
      "run=41 tscore=0.442835 vscore=0.403509\n",
      "run=42 tscore=0.442835 vscore=0.403509\n",
      "run=43 tscore=0.442835 vscore=0.403509\n",
      "run=44 tscore=0.442835 vscore=0.403509\n",
      "run=45 tscore=0.442835 vscore=0.403509\n",
      "run=46 tscore=0.442835 vscore=0.403509\n",
      "run=47 tscore=0.442835 vscore=0.403509\n",
      "run=48 tscore=0.442835 vscore=0.403509\n",
      "run=49 tscore=0.442835 vscore=0.403509\n",
      "run=50 tscore=0.442835 vscore=0.403509\n"
     ]
    },
    {
     "data": {
      "image/png": "[encoded data removed]",
      "text/plain": [
       "<matplotlib.figure.Figure at 0x1a0f6aada0>"
      ]
     },
     "metadata": {},
     "output_type": "display_data"
    }
   ],
   "source": [
    "my_perc.train(X, y, percentage=0.8, std=False, pca=0, threshold_unbalanced=0.6, epochs=100,  loss='log', penalty='none', alpha=1e-6,\n",
    "          power_t=0.7, it_interval=100, learning_rate='constant', eta0=1e-8,\n",
    "          class_weight=None)"
   ]
  },
  {
   "cell_type": "code",
   "execution_count": 25,
   "metadata": {
    "collapsed": true
   },
   "outputs": [],
   "source": [
    "df = df_clean.copy()\n",
    "\n",
    "X = df[traffic_columns]\n",
    "y = df['OS_clean']\n",
    "my_perc = perc()"
   ]
  },
  {
   "cell_type": "code",
   "execution_count": 26,
   "metadata": {
    "collapsed": true
   },
   "outputs": [
    {
     "name": "stdout",
     "output_type": "stream",
     "text": [
      "Warning: missing data found and removed. Old input shape: 2000, 14, new input shape: 1452, 14\n",
      "Performed standardization\n",
      "run=1 tscore=0.25475 vscore=0.265306\n",
      "run=2 tscore=0.255613 vscore=0.265306\n",
      "run=3 tscore=0.260794 vscore=0.268707\n",
      "run=4 tscore=0.265112 vscore=0.272109\n",
      "run=5 tscore=0.26943 vscore=0.278912\n",
      "run=6 tscore=0.272021 vscore=0.289116\n",
      "run=7 tscore=0.276339 vscore=0.292517\n",
      "run=8 tscore=0.279793 vscore=0.295918\n",
      "run=9 tscore=0.284974 vscore=0.295918\n",
      "run=10 tscore=0.288428 vscore=0.29932\n",
      "run=11 tscore=0.291019 vscore=0.302721\n",
      "run=12 tscore=0.294473 vscore=0.309524\n",
      "run=13 tscore=0.297927 vscore=0.316327\n",
      "run=14 tscore=0.303109 vscore=0.312925\n",
      "run=15 tscore=0.30829 vscore=0.316327\n",
      "run=16 tscore=0.312608 vscore=0.319728\n",
      "run=17 tscore=0.316062 vscore=0.319728\n",
      "run=18 tscore=0.321244 vscore=0.323129\n",
      "run=19 tscore=0.323834 vscore=0.329932\n",
      "run=20 tscore=0.324698 vscore=0.333333\n",
      "run=21 tscore=0.328152 vscore=0.333333\n",
      "run=22 tscore=0.334197 vscore=0.340136\n",
      "run=23 tscore=0.337651 vscore=0.336735\n",
      "run=24 tscore=0.341105 vscore=0.346939\n",
      "run=25 tscore=0.34456 vscore=0.353741\n",
      "run=26 tscore=0.346287 vscore=0.363946\n",
      "run=27 tscore=0.351468 vscore=0.370748\n",
      "run=28 tscore=0.356649 vscore=0.380952\n",
      "run=29 tscore=0.358377 vscore=0.384354\n",
      "run=30 tscore=0.363558 vscore=0.394558\n",
      "run=31 tscore=0.370466 vscore=0.394558\n",
      "run=32 tscore=0.374784 vscore=0.401361\n",
      "run=33 tscore=0.385147 vscore=0.414966\n",
      "run=34 tscore=0.388601 vscore=0.418367\n",
      "run=35 tscore=0.393782 vscore=0.421769\n",
      "run=36 tscore=0.3981 vscore=0.431973\n",
      "run=37 tscore=0.408463 vscore=0.438776\n",
      "run=38 tscore=0.42228 vscore=0.44898\n",
      "run=39 tscore=0.425734 vscore=0.462585\n",
      "run=40 tscore=0.432642 vscore=0.462585\n",
      "run=41 tscore=0.439551 vscore=0.465986\n",
      "run=42 tscore=0.44905 vscore=0.472789\n",
      "run=43 tscore=0.458549 vscore=0.472789\n",
      "run=44 tscore=0.467185 vscore=0.479592\n",
      "run=45 tscore=0.472366 vscore=0.486395\n",
      "run=46 tscore=0.47582 vscore=0.493197\n",
      "run=47 tscore=0.481865 vscore=0.5\n",
      "run=48 tscore=0.489637 vscore=0.506803\n",
      "run=49 tscore=0.490501 vscore=0.510204\n",
      "run=50 tscore=0.494819 vscore=0.513605\n",
      "run=51 tscore=0.496546 vscore=0.513605\n",
      "run=52 tscore=0.497409 vscore=0.513605\n",
      "run=53 tscore=0.502591 vscore=0.517007\n",
      "run=54 tscore=0.504318 vscore=0.520408\n",
      "run=55 tscore=0.505181 vscore=0.52381\n",
      "run=56 tscore=0.506045 vscore=0.520408\n",
      "run=57 tscore=0.507772 vscore=0.52381\n",
      "run=58 tscore=0.508636 vscore=0.530612\n",
      "run=59 tscore=0.51209 vscore=0.527211\n",
      "run=60 tscore=0.51468 vscore=0.534014\n",
      "run=61 tscore=0.515544 vscore=0.534014\n",
      "run=62 tscore=0.518135 vscore=0.534014\n",
      "run=63 tscore=0.519862 vscore=0.534014\n",
      "run=64 tscore=0.518998 vscore=0.534014\n",
      "run=65 tscore=0.521589 vscore=0.537415\n",
      "run=66 tscore=0.522453 vscore=0.534014\n",
      "run=67 tscore=0.52677 vscore=0.534014\n",
      "run=68 tscore=0.527634 vscore=0.537415\n",
      "run=69 tscore=0.52677 vscore=0.537415\n",
      "run=70 tscore=0.52677 vscore=0.537415\n"
     ]
    },
    {
     "data": {
      "image/png": "[encoded data removed]",
      "text/plain": [
       "<matplotlib.figure.Figure at 0x1a0e88ddd8>"
      ]
     },
     "metadata": {},
     "output_type": "display_data"
    }
   ],
   "source": [
    "my_perc.train(X, y, percentage=0.8, std=False, pca=0, threshold_unbalanced=0.6, epochs=100,  loss='log', penalty='none', alpha=1e-6,\n",
    "          power_t=0.7, it_interval=100, learning_rate='constant', eta0=1e-8,\n",
    "          class_weight=None))"
   ]
  },
  {
   "cell_type": "code",
   "execution_count": 27,
   "metadata": {
    "collapsed": false
   },
   "outputs": [
    {
     "name": "stdout",
     "output_type": "stream",
     "text": [
      "['0.2' '0.1' '0.3' '0.0' nan '0.5' '0.6' '0.4' '0.7' '0.9' '0.8' '1.0']\n"
     ]
    }
   ],
   "source": [
    "df = df_clean.copy()\n",
    "\n",
    "X = df[traffic_columns]\n",
    "\n",
    "y = df['DataAllowance'].map(lambda x: '%.1f'%x, na_action = 'ignore')\n",
    "print(y.unique())\n",
    "my_perc = perc()"
   ]
  },
  {
   "cell_type": "code",
   "execution_count": 29,
   "metadata": {
    "collapsed": false,
    "scrolled": true
   },
   "outputs": [
    {
     "name": "stdout",
     "output_type": "stream",
     "text": [
      "Warning: missing data found and removed. Old input shape: 2000, 14, new input shape: 1636, 14\n",
      "run=1 tscore=0.0726172 vscore=0.0764331\n",
      "run=2 tscore=0.0733737 vscore=0.0796178\n",
      "run=3 tscore=0.0741301 vscore=0.0796178\n",
      "run=4 tscore=0.0748865 vscore=0.0796178\n",
      "run=5 tscore=0.0763994 vscore=0.0796178\n",
      "run=6 tscore=0.0771558 vscore=0.0796178\n",
      "run=7 tscore=0.0801815 vscore=0.0796178\n",
      "run=8 tscore=0.080938 vscore=0.0828025\n",
      "run=9 tscore=0.0816944 vscore=0.0828025\n",
      "run=10 tscore=0.0839637 vscore=0.0859873\n",
      "run=11 tscore=0.0847201 vscore=0.0859873\n",
      "run=12 tscore=0.0877458 vscore=0.0859873\n",
      "run=13 tscore=0.0907716 vscore=0.089172\n",
      "run=14 tscore=0.0930408 vscore=0.0923567\n",
      "run=15 tscore=0.0930408 vscore=0.0955414\n",
      "run=16 tscore=0.0930408 vscore=0.0955414\n",
      "run=17 tscore=0.0945537 vscore=0.0955414\n",
      "run=18 tscore=0.0953101 vscore=0.0955414\n",
      "run=19 tscore=0.0990923 vscore=0.101911\n",
      "run=20 tscore=0.102118 vscore=0.101911\n",
      "run=21 tscore=0.106657 vscore=0.105096\n",
      "run=22 tscore=0.108926 vscore=0.10828\n",
      "run=23 tscore=0.111195 vscore=0.10828\n",
      "run=24 tscore=0.111195 vscore=0.117834\n",
      "run=25 tscore=0.120272 vscore=0.117834\n",
      "run=26 tscore=0.125567 vscore=0.127389\n",
      "run=27 tscore=0.135401 vscore=0.133758\n",
      "run=28 tscore=0.145991 vscore=0.143312\n",
      "run=29 tscore=0.152799 vscore=0.149682\n",
      "run=30 tscore=0.16112 vscore=0.165605\n",
      "run=31 tscore=0.170197 vscore=0.175159\n",
      "run=32 tscore=0.18003 vscore=0.181529\n",
      "run=33 tscore=0.195159 vscore=0.187898\n",
      "run=34 tscore=0.201967 vscore=0.191083\n",
      "run=35 tscore=0.211044 vscore=0.200637\n",
      "run=36 tscore=0.215582 vscore=0.197452\n",
      "run=37 tscore=0.218608 vscore=0.200637\n",
      "run=38 tscore=0.22239 vscore=0.200637\n",
      "run=39 tscore=0.223147 vscore=0.200637\n",
      "run=40 tscore=0.223147 vscore=0.200637\n",
      "run=41 tscore=0.225416 vscore=0.200637\n",
      "run=42 tscore=0.226172 vscore=0.200637\n",
      "run=43 tscore=0.226172 vscore=0.200637\n",
      "run=44 tscore=0.226929 vscore=0.200637\n",
      "run=45 tscore=0.226929 vscore=0.200637\n",
      "run=46 tscore=0.227685 vscore=0.200637\n",
      "run=47 tscore=0.227685 vscore=0.203822\n",
      "run=48 tscore=0.227685 vscore=0.207006\n",
      "run=49 tscore=0.228442 vscore=0.207006\n",
      "run=50 tscore=0.228442 vscore=0.207006\n",
      "run=51 tscore=0.228442 vscore=0.207006\n",
      "run=52 tscore=0.228442 vscore=0.207006\n",
      "run=53 tscore=0.228442 vscore=0.207006\n",
      "run=54 tscore=0.228442 vscore=0.207006\n",
      "run=55 tscore=0.228442 vscore=0.207006\n",
      "run=56 tscore=0.229955 vscore=0.207006\n",
      "run=57 tscore=0.229955 vscore=0.207006\n",
      "run=58 tscore=0.229198 vscore=0.207006\n",
      "run=59 tscore=0.229198 vscore=0.203822\n",
      "run=60 tscore=0.229198 vscore=0.203822\n",
      "run=61 tscore=0.229955 vscore=0.203822\n",
      "run=62 tscore=0.230711 vscore=0.203822\n",
      "run=63 tscore=0.231467 vscore=0.203822\n",
      "run=64 tscore=0.232224 vscore=0.203822\n",
      "run=65 tscore=0.232224 vscore=0.203822\n",
      "run=66 tscore=0.234493 vscore=0.203822\n",
      "run=67 tscore=0.236006 vscore=0.203822\n",
      "run=68 tscore=0.237519 vscore=0.207006\n",
      "run=69 tscore=0.239032 vscore=0.203822\n",
      "run=70 tscore=0.240545 vscore=0.200637\n",
      "run=71 tscore=0.24357 vscore=0.200637\n",
      "run=72 tscore=0.24584 vscore=0.200637\n",
      "run=73 tscore=0.247352 vscore=0.203822\n",
      "run=74 tscore=0.251891 vscore=0.213376\n",
      "run=75 tscore=0.255673 vscore=0.219745\n",
      "run=76 tscore=0.260212 vscore=0.219745\n",
      "run=77 tscore=0.263994 vscore=0.219745\n",
      "run=78 tscore=0.268533 vscore=0.219745\n",
      "run=79 tscore=0.270802 vscore=0.235669\n",
      "run=80 tscore=0.273828 vscore=0.257962\n"
     ]
    },
    {
     "data": {
      "image/png": "[encoded data removed]",
      "text/plain": [
       "<matplotlib.figure.Figure at 0x1a1be0c048>"
      ]
     },
     "metadata": {},
     "output_type": "display_data"
    }
   ],
   "source": [
    "my_perc.train(X, y, percentage=0.8, std=False, pca=0, threshold_unbalanced=0.6, epochs=100,  loss='log', penalty='none', alpha=1e-6,\n",
    "          power_t=0.7, it_interval=100, learning_rate='constant', eta0=1e-8,\n",
    "          class_weight=None)"
   ]
  },
  {
   "cell_type": "markdown",
   "metadata": {},
   "source": [
    "### MLP"
   ]
  },
  {
   "cell_type": "code",
   "execution_count": 133,
   "metadata": {
    "collapsed": true
   },
   "outputs": [],
   "source": [
    "df = df_clean.copy()\n",
    "\n",
    "X = df[traffic_columns]\n",
    "y = df['OS_clean']\n",
    "my_MLP = MLP()"
   ]
  },
  {
   "cell_type": "code",
   "execution_count": 134,
   "metadata": {
    "collapsed": false
   },
   "outputs": [
    {
     "name": "stdout",
     "output_type": "stream",
     "text": [
      "Warning: missing data found and removed. Old input shape: 2000, 14, new input shape: 1452, 14\n",
      "Performed standardization\n",
      "performed PCA, number of features: 13, explained variance for component:\n",
      " ['0.13', '0.11', '0.09', '0.09', '0.08', '0.08', '0.08', '0.07', '0.07', '0.07', '0.07', '0.06', '0.00']\n",
      "epoch=0 loss=1.1862727279457106 tscore=0.7471763683753258 vscore=0.7375415282392026\n",
      "epoch=1 loss=0.9279770018441144 tscore=0.7654213727193745 vscore=0.760797342192691\n",
      "epoch=2 loss=0.7650004093971651 tscore=0.788879235447437 vscore=0.7873754152823921\n",
      "epoch=3 loss=0.6822946307723022 tscore=0.8071242397914856 vscore=0.813953488372093"
     ]
    },
    {
     "name": "stderr",
     "output_type": "stream",
     "text": [
      "C:\\Users\\guglielmo\\Anaconda3\\lib\\site-packages\\sklearn\\neural_network\\multilayer_perceptron.py:564: ConvergenceWarning: Stochastic Optimizer: Maximum iterations (1) reached and the optimization hasn't converged yet.\n",
      "  % self.max_iter, ConvergenceWarning)\n"
     ]
    },
    {
     "name": "stdout",
     "output_type": "stream",
     "text": [
      "\n",
      "epoch=4 loss=0.6007340854940486 tscore=0.788879235447437 vscore=0.7940199335548173\n",
      "epoch=5 loss=0.49955777522314815 tscore=0.8323197219808862 vscore=0.8205980066445183\n",
      "epoch=6 loss=0.520467826570234 tscore=0.8158123370981755 vscore=0.8073089700996677\n",
      "epoch=7 loss=0.5027970333599734 tscore=0.8488271068635969 vscore=0.8438538205980066\n",
      "epoch=8 loss=0.4862199709000583 tscore=0.8375325803649001 vscore=0.8172757475083057\n",
      "epoch=9 loss=0.4847321175418403 tscore=0.8774978279756733 vscore=0.8504983388704319\n",
      "epoch=10 loss=0.4425897375473933 tscore=0.8245004344048653 vscore=0.8239202657807309\n",
      "epoch=11 loss=0.4039563318722115 tscore=0.8635968722849696 vscore=0.8538205980066446\n",
      "epoch=12 loss=0.4282257045715055 tscore=0.838401390095569 vscore=0.8538205980066446\n",
      "epoch=13 loss=0.47050047438075493 tscore=0.8679409209383145 vscore=0.8571428571428571\n",
      "epoch=14 loss=0.4151187380722343 tscore=0.8679409209383145 vscore=0.8106312292358804\n",
      "epoch=15 loss=0.39624551826056237 tscore=0.8635968722849696 vscore=0.8471760797342193\n",
      "epoch=16 loss=0.41966569252101926 tscore=0.8783666377063423 vscore=0.8538205980066446\n",
      "epoch=17 loss=0.4866304343444584 tscore=0.8505647263249348 vscore=0.8239202657807309\n",
      "epoch=18 loss=0.43372679765973654 tscore=0.8601216333622936 vscore=0.867109634551495\n",
      "epoch=19 loss=0.44240155470003356 tscore=0.8575152041702867 vscore=0.8538205980066446\n",
      "epoch=20 loss=0.47772936964394397 tscore=0.8575152041702867 vscore=0.8305647840531561\n",
      "epoch=21 loss=0.45356688653618077 tscore=0.8462206776715899 vscore=0.8471760797342193\n",
      "epoch=22 loss=0.4531273738580053 tscore=0.8488271068635969 vscore=0.8438538205980066\n",
      "epoch=23 loss=0.45310977621644294 tscore=0.8740225890529973 vscore=0.8438538205980066\n",
      "epoch=24 loss=0.4033120167967452 tscore=0.8766290182450044 vscore=0.8172757475083057\n",
      "epoch=25 loss=0.4913366632078044 tscore=0.8696785403996524 vscore=0.8338870431893688\n",
      "epoch=26 loss=0.4738512694000523 tscore=0.8740225890529973 vscore=0.8338870431893688\n",
      "epoch=27 loss=0.4083904229012517 tscore=0.8792354474370113 vscore=0.8571428571428571\n",
      "epoch=28 loss=0.45108282048319354 tscore=0.8444830582102519 vscore=0.8073089700996677\n",
      "epoch=29 loss=0.46749180053185785 tscore=0.8609904430929627 vscore=0.8272425249169435\n",
      "epoch=30 loss=0.37925516328740055 tscore=0.8705473501303215 vscore=0.8637873754152824\n",
      "epoch=31 loss=0.41811269194659567 tscore=0.8905299739357081 vscore=0.8637873754152824\n",
      "epoch=32 loss=0.3250479136222438 tscore=0.8809730668983493 vscore=0.840531561461794\n",
      "epoch=33 loss=0.3657899905838115 tscore=0.89748045178106 vscore=0.8471760797342193\n",
      "epoch=34 loss=0.37700468271773635 tscore=0.8992180712423979 vscore=0.8538205980066446\n",
      "epoch=35 loss=0.33748946580770456 tscore=0.8887923544743701 vscore=0.8737541528239202\n",
      "epoch=36 loss=0.3608999238077318 tscore=0.8879235447437012 vscore=0.8604651162790697\n",
      "epoch=37 loss=0.34375654701615993 tscore=0.8983492615117289 vscore=0.8338870431893688\n",
      "epoch=38 loss=0.3421102334679642 tscore=0.896611642050391 vscore=0.8504983388704319\n",
      "epoch=39 loss=0.3468287393073753 tscore=0.9061685490877498 vscore=0.8338870431893688\n",
      "epoch=40 loss=0.33650161364787673 tscore=0.8853171155516942 vscore=0.8538205980066446\n",
      "epoch=41 loss=0.3402006210472133 tscore=0.8818418766290183 vscore=0.8372093023255814\n",
      "epoch=42 loss=0.3323745212107006 tscore=0.889661164205039 vscore=0.8571428571428571\n",
      "epoch=43 loss=0.35154070952179806 tscore=0.8835794960903562 vscore=0.8438538205980066\n",
      "epoch=44 loss=0.3573823940190031 tscore=0.8783666377063423 vscore=0.8571428571428571\n",
      "epoch=45 loss=0.3613805414119803 tscore=0.8801042571676803 vscore=0.8538205980066446\n",
      "epoch=46 loss=0.3498427111615607 tscore=0.896611642050391 vscore=0.8571428571428571\n",
      "epoch=47 loss=0.3162608851492233 tscore=0.8783666377063423 vscore=0.8272425249169435\n",
      "epoch=48 loss=0.36214674139794156 tscore=0.9070373588184187 vscore=0.8737541528239202\n",
      "epoch=49 loss=0.29115180496220616 tscore=0.893136403127715 vscore=0.8837209302325582\n"
     ]
    },
    {
     "data": {
      "image/png": "[encoded data removed]",
      "text/plain": [
       "<matplotlib.figure.Figure at 0x1aaf2843ef0>"
      ]
     },
     "metadata": {},
     "output_type": "display_data"
    }
   ],
   "source": [
    "my_MLP.train(X, y, percentage=0.8, std=True, pca=None, threshold_unbalanced=0.6, epochs=50,\n",
    "             hidden_layer_sizes = (200,), batch_size = 100, learning_rate_init=1e-1, solver = 'adam', \n",
    "             learning_rate = 'constant', momentum = 0.0, nesterovs_momentum = False,\n",
    "             alpha = 0.0, tol = -1)"
   ]
  },
  {
   "cell_type": "code",
   "execution_count": 135,
   "metadata": {
    "collapsed": false
   },
   "outputs": [
    {
     "data": {
      "text/plain": [
       "array(['Android', 'Android', 'Android', 'Android', 'Android', 'Android',\n",
       "       'Android', 'Android', 'Android', 'Android', 'Android', 'Android',\n",
       "       'Android', 'Android', 'Android', 'Android', 'Android', 'Android',\n",
       "       'Android', 'Android', 'Android', 'Android', 'Android', 'Android',\n",
       "       'Android', 'Android', 'Android', 'Android', 'Android', 'Android',\n",
       "       'Android', 'Android', 'Android', 'Android', 'Android', 'Android',\n",
       "       'Android', 'Android', 'Android', 'Android', 'Android', 'Android',\n",
       "       'Android', 'Android', 'iOS', 'Android', 'Android', 'Android',\n",
       "       'Android', 'Android', 'Android', 'Android', 'Android', 'Android',\n",
       "       'Android', 'Android', 'Android', 'Android', 'Android', 'Android',\n",
       "       'Android', 'Android', 'Android', 'Android', 'Android', 'Android',\n",
       "       'Android', 'Android', 'Android', 'Android', 'Android', 'Android',\n",
       "       'Android', 'Android', 'Android', 'Android', 'Android', 'Android',\n",
       "       'Android', 'Android', 'Android', 'Android', 'Android', 'Android',\n",
       "       'Android', 'Android', 'Android', 'Android', 'Android', 'iOS',\n",
       "       'Android', 'Android', 'Android', 'Android', 'Android', 'Android',\n",
       "       'Android', 'Android', 'Android', 'Android', 'Android', 'Android',\n",
       "       'Android', 'Android', 'Android', 'Android', 'Android', 'Android',\n",
       "       'Android', 'Android', 'Android', 'Android', 'Android', 'Android',\n",
       "       'Android', 'Android', 'Android', 'Android', 'Android', 'Android',\n",
       "       'Android', 'Android', 'Android', 'Android', 'Android', 'Android',\n",
       "       'Android', 'Android', 'Android', 'Android', 'Android', 'Android',\n",
       "       'Android', 'Android', 'Android', 'Android', 'Android', 'Android',\n",
       "       'Android', 'Android', 'Android', 'Android', 'Android', 'Android',\n",
       "       'Android', 'Android', 'Android', 'Android', 'Android', 'Android',\n",
       "       'Android', 'Android', 'Android', 'Android', 'Android', 'Android',\n",
       "       'Android', 'Android', 'Android', 'Android', 'Android', 'Android',\n",
       "       'Android', 'Android', 'Android', 'Android', 'Android', 'Android',\n",
       "       'Android', 'Android', 'Android', 'Android', 'Android', 'Android',\n",
       "       'Android', 'Android', 'Android', 'Android', 'Android', 'Android',\n",
       "       'Android', 'Android', 'Android', 'Android', 'Android', 'Android',\n",
       "       'Android', 'Android', 'Android', 'Android', 'Android', 'Android',\n",
       "       'Android', 'Android', 'Android', 'Android', 'Android', 'Android',\n",
       "       'Android', 'Android', 'Android', 'Android', 'Android', 'Android',\n",
       "       'Android', 'Android', 'Android', 'Android', 'Android', 'Android',\n",
       "       'Android', 'Android', 'Android', 'Android', 'Android', 'Android',\n",
       "       'Android', 'Android', 'Android', 'Android', 'Android', 'Android',\n",
       "       'Android', 'Android', 'Android', 'Android', 'Android', 'Android',\n",
       "       'Android', 'Android', 'Android', 'Android', 'Android', 'Android',\n",
       "       'Android', 'Android', 'Android', 'Android', 'Android', 'Android',\n",
       "       'Android', 'Android', 'Android', 'Android', 'Android', 'Android',\n",
       "       'Android', 'Android', 'Android', 'Android', 'Android', 'Android',\n",
       "       'Android', 'Android', 'Android', 'Android', 'Android', 'Android',\n",
       "       'Android', 'Android', 'Android', 'Android', 'Android', 'Android',\n",
       "       'Android', 'Android', 'Android', 'Android', 'Android', 'Android',\n",
       "       'Android', 'Android', 'Android', 'Android', 'Android', 'Android',\n",
       "       'Android', 'Android', 'Android', 'Android', 'Android', 'Android',\n",
       "       'Android', 'iOS', 'Android', 'Android', 'Android', 'Android',\n",
       "       'Android', 'Android', 'Android', 'Android', 'Android', 'Android',\n",
       "       'Android', 'Android', 'Android', 'Android', 'Android', 'Android',\n",
       "       'Android', 'Android', 'Android', 'Android', 'Android', 'Android',\n",
       "       'Android', 'iOS', 'Android', 'Android', 'Android', 'Android',\n",
       "       'Android', 'Android', 'Android', 'Android', 'Android', 'Android',\n",
       "       'Android', 'Android', 'Android', 'Android', 'Android', 'Android',\n",
       "       'Android', 'Android', 'Android', 'Android', 'Android', 'Android',\n",
       "       'Android', 'Android', 'Android', 'Android', 'Android', 'Android',\n",
       "       'Android', 'Android', 'Android', 'Android', 'Android', 'Android',\n",
       "       'Android', 'Android', 'Android', 'Android', 'Android', 'Android',\n",
       "       'Android', 'Android', 'Android', 'Android', 'Android', 'Android',\n",
       "       'Android', 'Android', 'Android', 'Android', 'Android', 'Android',\n",
       "       'Android', 'Android', 'Android', 'Android', 'Android', 'Android',\n",
       "       'Android', 'Android', 'Android', 'iOS', 'Android', 'Android',\n",
       "       'Android', 'Android', 'Android', 'Android', 'Android', 'Android',\n",
       "       'Android', 'Android', 'Android', 'Android', 'Android', 'Android',\n",
       "       'Android', 'Android', 'Android', 'Android', 'Android', 'Android',\n",
       "       'Android', 'Android', 'Android', 'Android', 'Android', 'Android',\n",
       "       'Android', 'Android', 'Android', 'Android', 'Android', 'Android',\n",
       "       'Android', 'Android', 'Android', 'Android', 'Android', 'Android',\n",
       "       'Android', 'Android', 'Android', 'Android', 'Android', 'Android',\n",
       "       'Android', 'Android', 'Android', 'Android', 'Android', 'Android',\n",
       "       'Android', 'Android', 'Android', 'Android', 'Android', 'Android',\n",
       "       'Android', 'Android', 'Android', 'Android', 'Android', 'Android',\n",
       "       'Android', 'Android', 'Android', 'Android', 'Android', 'Android',\n",
       "       'Android', 'Android', 'Android', 'Android', 'Android', 'Android',\n",
       "       'Android', 'Android', 'Android', 'Android', 'Android', 'Android',\n",
       "       'Android', 'Android', 'Android', 'Android', 'Android', 'Android',\n",
       "       'Android', 'Android', 'Android', 'Android', 'Android', 'Android',\n",
       "       'Android', 'Android', 'Android', 'Android', 'Android', 'Android',\n",
       "       'Android', 'Android', 'Android', 'Android', 'Android', 'Android',\n",
       "       'Android', 'Android', 'Android', 'Android', 'Android', 'Android',\n",
       "       'Android', 'Android', 'Android', 'Android', 'Android', 'Android',\n",
       "       'Android', 'Android', 'Android', 'Android', 'Android', 'Android',\n",
       "       'Android', 'Android', 'Android', 'Android', 'Android', 'Android',\n",
       "       'Android', 'iOS', 'Android', 'Android', 'Android', 'Android',\n",
       "       'Android', 'Android', 'Android', 'Android', 'Android', 'Android',\n",
       "       'Android', 'Android', 'Android', 'iOS', 'Android', 'Android',\n",
       "       'Android', 'Android', 'Android', 'Android', 'Android', 'Android',\n",
       "       'Android', 'Android', 'Android', 'Android', 'Android', 'iOS',\n",
       "       'Android', 'Android', 'Android', 'Android', 'Android', 'Android',\n",
       "       'Android', 'Android', 'Android', 'Android', 'Android', 'Android',\n",
       "       'Android', 'Android', 'Android', 'Android', 'Android', 'Android',\n",
       "       'Android', 'Android'], dtype='<U7')"
      ]
     },
     "execution_count": 135,
     "metadata": {},
     "output_type": "execute_result"
    }
   ],
   "source": [
    "my_MLP.predict(X,y)"
   ]
  },
  {
   "cell_type": "code",
   "execution_count": 78,
   "metadata": {
    "collapsed": false
   },
   "outputs": [
    {
     "data": {
      "text/plain": [
       "{'Android': 858, 'iOS': 568, nan: 548, 'other': 26}"
      ]
     },
     "execution_count": 78,
     "metadata": {},
     "output_type": "execute_result"
    }
   ],
   "source": [
    "a = df_clean['OS_clean'].copy()\n",
    "d = dict()\n",
    "for i in a:\n",
    "    d[i] = d.get(i, 0) + 1\n",
    "d"
   ]
  },
  {
   "cell_type": "markdown",
   "metadata": {},
   "source": [
    "# Logistic Regression"
   ]
  },
  {
   "cell_type": "code",
   "execution_count": 26,
   "metadata": {
    "collapsed": false
   },
   "outputs": [],
   "source": [
    "df = df_clean.copy()\n",
    "\n",
    "X = df[traffic_columns]\n",
    "y = df['OS_clean']\n",
    "my_lr = LogReg()"
   ]
  },
  {
   "cell_type": "code",
   "execution_count": 29,
   "metadata": {
    "collapsed": false
   },
   "outputs": [
    {
     "name": "stdout",
     "output_type": "stream",
     "text": [
      "Warning: missing data found and removed. Old input shape: 2000, 14, new input shape: 1452, 14\n",
      "Performed standardization\n",
      "performed PCA, number of features: 13, explained variance for component:\n",
      " ['0.13', '0.11', '0.10', '0.08', '0.08', '0.08', '0.08', '0.08', '0.07', '0.07', '0.07', '0.07', '0.00']\n",
      "epoch=0 tscore=0.6376068376068376 vscore=0.6773049645390071\n",
      "epoch=1 tscore=0.6435897435897436 vscore=0.7198581560283688\n",
      "epoch=2 tscore=0.7162393162393162 vscore=0.8014184397163121\n",
      "epoch=3 tscore=0.7188034188034188 vscore=0.7978723404255319\n",
      "epoch=4 tscore=0.7188034188034188 vscore=0.7978723404255319\n",
      "epoch=5 tscore=0.7188034188034188 vscore=0.7978723404255319\n",
      "epoch=6 tscore=0.7188034188034188 vscore=0.7978723404255319"
     ]
    },
    {
     "name": "stderr",
     "output_type": "stream",
     "text": [
      "C:\\Users\\guglielmo\\Anaconda3\\lib\\site-packages\\sklearn\\utils\\optimize.py:203: ConvergenceWarning: newton-cg failed to converge. Increase the number of iterations.\n",
      "  \"number of iterations.\", ConvergenceWarning)\n",
      "C:\\Users\\guglielmo\\Anaconda3\\lib\\site-packages\\sklearn\\utils\\optimize.py:203: ConvergenceWarning: newton-cg failed to converge. Increase the number of iterations.\n",
      "  \"number of iterations.\", ConvergenceWarning)\n",
      "C:\\Users\\guglielmo\\Anaconda3\\lib\\site-packages\\sklearn\\utils\\optimize.py:203: ConvergenceWarning: newton-cg failed to converge. Increase the number of iterations.\n",
      "  \"number of iterations.\", ConvergenceWarning)\n",
      "C:\\Users\\guglielmo\\Anaconda3\\lib\\site-packages\\sklearn\\utils\\optimize.py:203: ConvergenceWarning: newton-cg failed to converge. Increase the number of iterations.\n",
      "  \"number of iterations.\", ConvergenceWarning)\n",
      "C:\\Users\\guglielmo\\Anaconda3\\lib\\site-packages\\sklearn\\utils\\optimize.py:203: ConvergenceWarning: newton-cg failed to converge. Increase the number of iterations.\n",
      "  \"number of iterations.\", ConvergenceWarning)\n"
     ]
    },
    {
     "name": "stdout",
     "output_type": "stream",
     "text": [
      "\n",
      "epoch=7 tscore=0.7188034188034188 vscore=0.7978723404255319\n",
      "epoch=8 tscore=0.7188034188034188 vscore=0.7978723404255319\n",
      "epoch=9 tscore=0.7188034188034188 vscore=0.7978723404255319\n",
      "epoch=10 tscore=0.7188034188034188 vscore=0.7978723404255319\n",
      "epoch=11 tscore=0.7188034188034188 vscore=0.7978723404255319\n",
      "epoch=12 tscore=0.7188034188034188 vscore=0.7978723404255319\n",
      "epoch=13 tscore=0.7188034188034188 vscore=0.7978723404255319\n",
      "epoch=14 tscore=0.7188034188034188 vscore=0.7978723404255319\n",
      "epoch=15 tscore=0.7188034188034188 vscore=0.7978723404255319\n",
      "epoch=16 tscore=0.7188034188034188 vscore=0.7978723404255319\n",
      "epoch=17 tscore=0.7188034188034188 vscore=0.7978723404255319\n",
      "epoch=18 tscore=0.7188034188034188 vscore=0.7978723404255319\n",
      "epoch=19 tscore=0.7188034188034188 vscore=0.7978723404255319\n",
      "epoch=20 tscore=0.7188034188034188 vscore=0.7978723404255319\n",
      "epoch=21 tscore=0.7188034188034188 vscore=0.7978723404255319\n",
      "epoch=22 tscore=0.7188034188034188 vscore=0.7978723404255319\n",
      "epoch=23 tscore=0.7188034188034188 vscore=0.7978723404255319\n",
      "epoch=24 tscore=0.7188034188034188 vscore=0.7978723404255319\n",
      "epoch=25 tscore=0.7188034188034188 vscore=0.7978723404255319\n",
      "epoch=26 tscore=0.7188034188034188 vscore=0.7978723404255319\n",
      "epoch=27 tscore=0.7188034188034188 vscore=0.7978723404255319\n",
      "epoch=28 tscore=0.7188034188034188 vscore=0.7978723404255319\n",
      "epoch=29 tscore=0.7188034188034188 vscore=0.7978723404255319\n",
      "epoch=30 tscore=0.7188034188034188 vscore=0.7978723404255319\n",
      "epoch=31 tscore=0.7188034188034188 vscore=0.7978723404255319\n",
      "epoch=32 tscore=0.7188034188034188 vscore=0.7978723404255319\n",
      "epoch=33 tscore=0.7188034188034188 vscore=0.7978723404255319\n",
      "epoch=34 tscore=0.7188034188034188 vscore=0.7978723404255319\n",
      "epoch=35 tscore=0.7188034188034188 vscore=0.7978723404255319\n",
      "epoch=36 tscore=0.7188034188034188 vscore=0.7978723404255319\n",
      "epoch=37 tscore=0.7188034188034188 vscore=0.7978723404255319\n",
      "epoch=38 tscore=0.7188034188034188 vscore=0.7978723404255319\n",
      "epoch=39 tscore=0.7188034188034188 vscore=0.7978723404255319\n",
      "epoch=40 tscore=0.7188034188034188 vscore=0.7978723404255319\n",
      "epoch=41 tscore=0.7188034188034188 vscore=0.7978723404255319\n",
      "epoch=42 tscore=0.7188034188034188 vscore=0.7978723404255319\n",
      "epoch=43 tscore=0.7188034188034188 vscore=0.7978723404255319\n",
      "epoch=44 tscore=0.7188034188034188 vscore=0.7978723404255319\n",
      "epoch=45 tscore=0.7188034188034188 vscore=0.7978723404255319\n",
      "epoch=46 tscore=0.7188034188034188 vscore=0.7978723404255319\n",
      "epoch=47 tscore=0.7188034188034188 vscore=0.7978723404255319\n",
      "epoch=48 tscore=0.7188034188034188 vscore=0.7978723404255319\n",
      "epoch=49 tscore=0.7188034188034188 vscore=0.7978723404255319\n"
     ]
    },
    {
     "data": {
      "image/png": "[encoded data removed]",
      "text/plain": [
       "<matplotlib.figure.Figure at 0x1aaf2143358>"
      ]
     },
     "metadata": {},
     "output_type": "display_data"
    }
   ],
   "source": [
    "my_lr.train(X, y, percentage=0.8, std=True, pca=None, epochs=50, threshold_unbalanced=0.6, \n",
    "            penalty=\"l2\", dual=False, tol=0.0001, C=1.0, fit_intercept=True, intercept_scaling=1, \n",
    "            class_weight=None,  solver=\"newton-cg\", max_iter=100, multi_class=\"multinomial\")"
   ]
  },
  {
   "cell_type": "code",
   "execution_count": null,
   "metadata": {
    "collapsed": true
   },
   "outputs": [],
   "source": []
  }
 ],
 "metadata": {
  "kernelspec": {
   "display_name": "Python 3",
   "language": "python",
   "name": "python3"
  },
  "language_info": {
   "codemirror_mode": {
    "name": "ipython",
    "version": 3
   },
   "file_extension": ".py",
   "mimetype": "text/x-python",
   "name": "python",
   "nbconvert_exporter": "python",
   "pygments_lexer": "ipython3",
   "version": "3.6.0"
  }
 },
 "nbformat": 4,
 "nbformat_minor": 2
}
