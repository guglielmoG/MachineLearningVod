{
 "cells": [
  {
   "cell_type": "markdown",
   "metadata": {},
   "source": [
    "# Vodafone Challenge\n",
    "## Scrap notebook\n",
    "- **Separate each test** you make with a markdown cell like this one (press M when the cursor is on a cell but it is not editing). \n",
    "- Put a **small description** on what you are doing and why you do so (like if you manipulate data in a specific way, or apply a particular definition of distance, write the intuition behind. Both for you to remmember later and for team members)\n",
    "- Make sure you are working with the **proper data** i.e. the data (and their transformation) that you with to use are defined before you do the analysis. Bugs could appear if you do not define something and Python retrieves older values for the variables you are using.\n",
    "- **Do not modify df_backup**, always work with a copy [like df = df_backup.copy()]\n",
    "- Add short line of description in the Summary section\n",
    "- For each test, write briefly which value of the parameter tried (like learning rate constant, tried eta0 large (10^-2) not well, smaller (10^-7) seem to work best. Then changed with learning rate adaptivive [which?] and tried ... large (10^-2) worked best).\n",
    "\n",
    "**For the best test, build pipeline: bulleted version of all things done on the dataset until the result. It could be a useful thing to do for each test actually**"
   ]
  },
  {
   "cell_type": "markdown",
   "metadata": {},
   "source": [
    "## Summary\n",
    "\n",
    "1. **K-means on traffic data**: tested for different k's, both standardized and not. Performs poorly.\n",
    "2. **preprocessing zip-urb** (Abetone, Montoro, Ginosa, Capannori, Vigo di Fassa, Scarpiera e San Piero)\n",
    "3. **Perc imputation**"
   ]
  },
  {
   "cell_type": "markdown",
   "metadata": {},
   "source": [
    "## Code\n",
    "### *setup*"
   ]
  },
  {
   "cell_type": "code",
   "execution_count": 8,
   "metadata": {},
   "outputs": [],
   "source": [
    "%matplotlib inline\n",
    "\n",
    "import pandas as pd\n",
    "import numpy as np\n",
    "import matplotlib.pyplot as plt\n",
    "\n",
    "from sklearn.neighbors import KNeighborsClassifier\n",
    "from sklearn.decomposition import PCA\n",
    "\n",
    "from sklearn.linear_model import SGDClassifier\n",
    "from sklearn.neural_network import MLPClassifier\n",
    "from sklearn.linear_model import LogisticRegression\n",
    "\n",
    "pd.set_option('display.max_columns', None)\n",
    "np.set_printoptions(threshold=np.NaN)"
   ]
  },
  {
   "cell_type": "code",
   "execution_count": 9,
   "metadata": {},
   "outputs": [],
   "source": [
    "df_backup = pd.read_csv('dataset_challenge_v5.TRAINING.csv')"
   ]
  },
  {
   "cell_type": "markdown",
   "metadata": {},
   "source": [
    "### Cleaning\n",
    "**DeviceOperatingSystem**: I preferred not to create a specific category for 'windows' because too few observations, however, if the 'other' category reveals to explain well, we can unpack it (in a new dataset)"
   ]
  },
  {
   "cell_type": "code",
   "execution_count": 10,
   "metadata": {},
   "outputs": [
    {
     "name": "stdout",
     "output_type": "stream",
     "text": [
      "{'iOS': 568, nan: 548, 'Android': 858, 'Windows Mobile': 6, 'Proprietary': 5, 'Windows Phone': 7, 'BlackBerry OS': 1, 'Firefox': 1, 'Symbian^3': 1, 'BREW': 1, 'Series 40': 2, 'BB10': 1, 'VRTXmc': 1}\n"
     ]
    }
   ],
   "source": [
    "df_clean = df_backup.copy()\n",
    "\n",
    "del df_clean['Unnamed: 0']\n",
    "\n",
    "c = list(df_clean.columns)\n",
    "c[0] = 'ID'\n",
    "df_clean.columns = c\n",
    "\n",
    "df_clean['ZipCode'] = df_clean['ZipCode'].map(lambda x: '%05i' % x, na_action='ignore')\n",
    "\n",
    "traffic_columns = ['File-Transfer', 'Games',\n",
    "       'Instant-Messaging-Applications', 'Mail', 'Music-Streaming',\n",
    "       'Network-Operation', 'P2P-Applications', 'Security',\n",
    "       'Streaming-Applications', 'Terminals', 'Unclassified', 'VoIP',\n",
    "       'Web-Applications']\n",
    "df_clean[traffic_columns]\n",
    "\n",
    "cats = df_clean['CustomerAge'].astype('category').cat.categories\n",
    "d = {cat:(15+10*i)/100 for i,cat in enumerate(cats)}\n",
    "df_clean['NumericAge'] = df_clean['CustomerAge'].map(lambda x: d[x], na_action='ignore')\n",
    "\n",
    "d = {}\n",
    "for elem in df_clean['DeviceOperatingSystem']:\n",
    "    d[elem] = d.get(elem, 0) + 1\n",
    "print(d) #some categories have very few values, group them\n",
    "OS_other = []\n",
    "for key in d:\n",
    "    if d[key] < 10:\n",
    "        OS_other.append(key)\n",
    "        d[key] = 'other'\n",
    "    else:\n",
    "        d[key] = key\n",
    "df_clean['OS_clean'] = df_clean['DeviceOperatingSystem'].map(lambda x: d[x], na_action='ignore')"
   ]
  },
  {
   "cell_type": "code",
   "execution_count": 11,
   "metadata": {},
   "outputs": [
    {
     "name": "stderr",
     "output_type": "stream",
     "text": [
      "/Users/Renato/anaconda3/lib/python3.6/site-packages/ipykernel_launcher.py:51: SettingWithCopyWarning: \n",
      "A value is trying to be set on a copy of a slice from a DataFrame\n",
      "\n",
      "See the caveats in the documentation: http://pandas.pydata.org/pandas-docs/stable/indexing.html#indexing-view-versus-copy\n"
     ]
    }
   ],
   "source": [
    "#Adding rural/urban information\n",
    "df_zip_istat = pd.read_csv('databases/database.csv')\n",
    "df_istat_urb = pd.read_csv('databases/it_postal_codes.csv/Foglio 2-Tabella 1.csv', error_bad_lines=False, sep = ';')\n",
    "my_urb_dict = {'Basso' : 0, 'Medio' : 1, 'Elevato' : 2}\n",
    "df_istat_urb['GradoUrbaniz'] = df_istat_urb['GradoUrbaniz'].map(lambda x: my_urb_dict[x], na_action = 'ignore')\n",
    "\n",
    "#check there are no datapoint for which we don't have zip but we've region\n",
    "df_clean['ZipCode'].isnull()\n",
    "df_clean['Region'][df_clean['ZipCode'].isnull()]\n",
    "len(df_clean['Region'][df_clean['ZipCode'].isnull()]) == np.sum(df_clean['Region'][df_clean['ZipCode'].isnull()].isnull())\n",
    "\n",
    "#we need to insert x for multiple cap cities\n",
    "isnan = lambda x: x != x\n",
    "#nan is unique type not equal to itself, so with this lambda function we get True only when the type is NaN\n",
    "\n",
    "for i in range(df_zip_istat.shape[0]):\n",
    "    cap = df_zip_istat.loc[i, 'cap/0']\n",
    "    cap  = '%05d' % cap\n",
    "    if not isnan(df_zip_istat.loc[i,'cap/1']):\n",
    "        if not isnan(df_zip_istat.loc[i,'cap/10']):   \n",
    "            cap = cap[:-2]+'xx'\n",
    "        else:\n",
    "            cap = cap[:-1]+'x'\n",
    "    df_zip_istat.loc[i, 'cap/0'] = cap\n",
    "\n",
    "d_zip_istat = df_zip_istat.set_index('cap/0').to_dict()['codice']\n",
    "d_istat_urb = df_istat_urb.set_index('ISTAT').to_dict()['GradoUrbaniz']\n",
    "\n",
    "mask = df_clean['ZipCode'].isnull()\n",
    "urban_col = np.zeros(df_clean.shape[0])\n",
    "urban_col_masked = urban_col[~ mask]\n",
    "d_zip_istat.update([('51021', 47023),( '83026', 64121),( '74025', 73007),( '55062', 46007),( '38039', 22217),('50037', 48053)])\n",
    "d_istat_urb.update([(22250, 0),( 78157, 1)])\n",
    "\n",
    "c = 0\n",
    "for i in df_clean['ZipCode'][~ mask]:\n",
    "    try:\n",
    "        temp = d_zip_istat[i]\n",
    "        urban_col_masked[c] = d_istat_urb[int(temp)]\n",
    "    except KeyError:\n",
    "        i = '%05d' % int(i)\n",
    "        if i[:-1]+'x' in d_zip_istat:\n",
    "            temp = d_zip_istat[i[:-1]+'x']\n",
    "        elif i[:-2]+'xx' in d_zip_istat:\n",
    "            temp = d_zip_istat[i[:-2]+'xx']\n",
    "        else:\n",
    "            raise()\n",
    "    c += 1\n",
    "    \n",
    "df_clean['Urban'] = df_clean['ZipCode'].copy()\n",
    "df_clean['Urban'][~ mask] = urban_col_masked"
   ]
  },
  {
   "cell_type": "markdown",
   "metadata": {},
   "source": [
    "### Class definition and useful dependencies\n",
    "Space that collects classes or function definition that come in handy throughtout the project"
   ]
  },
  {
   "cell_type": "code",
   "execution_count": 12,
   "metadata": {},
   "outputs": [],
   "source": [
    "class buildTrain():\n",
    "    def __init__(self, X, y, perc=0.8, std=False, pca=0, seed=None):\n",
    "        if seed is not None:\n",
    "            np.random.seed(seed)\n",
    "        n_data, n_features = X.shape\n",
    "        assert n_data == len(y)\n",
    "        \n",
    "        dopca = pca is None or pca > 0\n",
    "        \n",
    "        #check and remove nan values\n",
    "        temp = X.copy()\n",
    "        temp[y.name] = y.copy()\n",
    "        temp.dropna(axis=0, how='any', inplace=True)\n",
    "        \n",
    "        if temp.shape[0] < n_data:\n",
    "            print('Warning: missing data found and removed. Old input shape: %d, %d, new input shape: %d, %d'\n",
    "                  % (X.shape[0], X.shape[1]+1, *temp.shape))\n",
    "            X = temp\n",
    "            y = temp[y.name]\n",
    "            X.drop(y.name, axis=1, inplace=True)\n",
    "            n_data, _ = X.shape\n",
    "    \n",
    "        assert n_data == len(y)\n",
    "        \n",
    "        perm = np.random.random(n_data)\n",
    "        train_mask = perm < perc\n",
    "        valid_mask = ~ train_mask\n",
    "        \n",
    "        train_data = X[train_mask]\n",
    "        train_target = y[train_mask]\n",
    "        valid_data = X[valid_mask]\n",
    "        valid_target = y[valid_mask]\n",
    "        assert (len(train_data)+len(valid_data)) == n_data\n",
    "        \n",
    "        if std:\n",
    "            mean = train_data.mean(axis=0)\n",
    "            std = train_data.std(axis=0) + 1e-10\n",
    "            train_data = (train_data - mean) / std\n",
    "            valid_data = (valid_data - mean) / std\n",
    "            print('Performed standardization')\n",
    "        \n",
    "        if dopca:\n",
    "            my_pca = PCA(n_components=pca)\n",
    "            my_pca.fit(train_data)\n",
    "            train_data = my_pca.transform(train_data)\n",
    "            valid_data = my_pca.transform(valid_data)\n",
    "            print('performed PCA, number of features: %d, explained variance for component:\\n'%(my_pca.n_components_), \n",
    "                  ['%.2f'%i for i in my_pca.explained_variance_ratio_])\n",
    "        \n",
    "        self.Xt = train_data\n",
    "        self.yt = train_target\n",
    "        self.Xv = valid_data\n",
    "        self.yv = valid_target\n",
    "        \n",
    "    def get_train(self):\n",
    "        return self.Xt, self.yt\n",
    "    \n",
    "    def get_valid(self):\n",
    "        return self.Xv, self.yv"
   ]
  },
  {
   "cell_type": "code",
   "execution_count": 13,
   "metadata": {},
   "outputs": [],
   "source": [
    "class logger():\n",
    "    def __init__(self, verbose = True):\n",
    "        self.v = verbose\n",
    "        self.log_ = []\n",
    "        \n",
    "    def log_it(self, text):\n",
    "        #adds to log record\n",
    "        if not isinstance(text, str):\n",
    "            raise Exception('must pass text to logger')\n",
    "        if self.v:\n",
    "            print(text)\n",
    "        self.log_.append(text)\n",
    "        \n",
    "    def print_out(self, text):\n",
    "        if not isinstance(text, str):\n",
    "            raise Exception('must pass text to logger')\n",
    "        #doesn't add to log record\n",
    "        if self.v:\n",
    "            print(text)\n",
    "        \n",
    "    def show_img(self, array):\n",
    "        if not isinstance(array, np.ndarray):\n",
    "            raise Exception(1)\n",
    "        if self.v:\n",
    "            plt.imshow(array)\n",
    "        \n",
    "    def get_log(self):\n",
    "        return \"\\n\".join(self.log_)"
   ]
  },
  {
   "cell_type": "code",
   "execution_count": 14,
   "metadata": {},
   "outputs": [],
   "source": [
    "def check_clusters(y, clust_labels, img_threshold=15, v=True):\n",
    "    #checks input\n",
    "    if y.ndim != 1: \n",
    "        raise Exception(2)\n",
    "    if len(y) != len(clust_labels):\n",
    "        raise Exception(4)\n",
    "    \n",
    "    #logger setup\n",
    "    my_log = logger(verbose=v)\n",
    "        \n",
    "    #build histogram of categories (how many point for each cat)\n",
    "    cats = {}\n",
    "    for i in y:\n",
    "        cats[i] = cats.get(i, 0) + 1\n",
    "    n_cats = len(cats)\n",
    "    \n",
    "    #build histogram of clusters (how many point in each cluster)\n",
    "    clusters = {}\n",
    "    for i in clust_labels:\n",
    "        clusters[i] = clusters.get(i, 0) + 1\n",
    "    n_clusters = len(clusters)\n",
    "        \n",
    "    #create mapping from categories to index (to easily store data)\n",
    "    #done because we assume y's values can be different from range(n_categories)\n",
    "    #cat_list useful to quickly go back (header of result matrix)\n",
    "    cat_map = {}\n",
    "    cat_list = []\n",
    "    for i, cat in enumerate(cats):\n",
    "        cat_map[cat] = i\n",
    "        cat_list.append(cat)\n",
    "    \n",
    "    #for each cluster, computes proportion of point belonging to each category\n",
    "    result = np.zeros((n_clusters, n_cats))\n",
    "    tot_per_clust = np.zeros((n_clusters,1), dtype=int)\n",
    "    for i, clust in enumerate(clusters):\n",
    "        labels = y[clust_labels == clust]\n",
    "        tot_per_clust[i] = clusters[clust]\n",
    "        for cat in labels:\n",
    "            result[i,cat_map[cat]] += 1\n",
    "            \n",
    "    #to compute percentage of category points\n",
    "    perc_cat = []\n",
    "    for clust in range(len(result)):\n",
    "        i_max = np.argmax(result[clust,:])\n",
    "        tot = cats[cat_list[i_max]]\n",
    "        perc_cat.append(result[clust, i_max] / tot * 100)\n",
    "        \n",
    "    #express each value as a proportion (normalization)\n",
    "    result = result / tot_per_clust * 100\n",
    "    \n",
    "    #show graphical representation if matrix not too big\n",
    "    if n_cats < img_threshold and n_clusters < img_threshold:\n",
    "        my_log.show_img(result)\n",
    "        \n",
    "    #for each cluster show the category that fits it best\n",
    "    for i,value in enumerate(np.argmax(result, axis=1)):\n",
    "        #frequency of category: number of datapoint of a specific category belonging to that cluster\n",
    "        #over the number of points in the cluster (variety within cluster)\n",
    "        #category clustering: number of datapoint of a specific category belonging to that cluster,\n",
    "        #over the total number of points of that category\n",
    "        my_log.log_it('cluster: %s --> top category: %s, frequency of category (variety within cluster): %.2f%%, category clustering: %.2f%%'\\\n",
    "              % (i, cat_list[value], result[i, value], perc_cat[i]))\n",
    "    score = np.sum(np.max(result, axis=1))/n_clusters\n",
    "    weighted = np.dot(np.max(result, axis=1), np.array(perc_cat))/100\n",
    "    #maybe it's best to weight the score by the category clustering index (see k-means example below)\n",
    "    my_log.log_it(\"Overall score (doesn't consider category clustering): %.2f%%, weighted: %.2f%%\"%(score, weighted))\n",
    "    return weighted, my_log.get_log()"
   ]
  },
  {
   "cell_type": "code",
   "execution_count": 15,
   "metadata": {},
   "outputs": [],
   "source": [
    "def standardize(df, column):\n",
    "    if not isinstance(column, (str, int)):\n",
    "        raise Exception(1)\n",
    "    #returns a copy of the standardized column\n",
    "    c = df[column].copy()\n",
    "    mean = c.mean()\n",
    "    sd = c.std()\n",
    "    return (c - mean) / sd"
   ]
  },
  {
   "cell_type": "code",
   "execution_count": 16,
   "metadata": {},
   "outputs": [],
   "source": [
    "def batch_std(df, columns):\n",
    "    if not isinstance(columns, str):\n",
    "        if len(columns) == 0:\n",
    "            raise Exception('nto enough columns')\n",
    "    else:\n",
    "        raise Exception('must be an array or list')\n",
    "    #returns a new dataframe with standardized columns\n",
    "    new_df = pd.DataFrame()\n",
    "    for column in columns:\n",
    "        temp = standardize(df, column)\n",
    "        new_df[column] = temp\n",
    "    return new_df"
   ]
  },
  {
   "cell_type": "code",
   "execution_count": 17,
   "metadata": {},
   "outputs": [],
   "source": [
    "class test():\n",
    "    def __init__(self):\n",
    "        self.best = [0,0,0]\n",
    "        self.scores = []\n",
    "        \n",
    "    def update(self, score, k):\n",
    "        score, log = score\n",
    "        if score > self.best[0]:\n",
    "            self.best = score, k, log\n",
    "        self.scores.append((k, score))\n",
    "        \n",
    "    def get_result(self):\n",
    "        best = self.best\n",
    "        scores = self.scores\n",
    "        print('best weighted score: %.2f%%, number of clusters: %i' % (best[0], best[1]))\n",
    "        print('log of best: \\n%s' % best[2])\n",
    "        plt.figure()\n",
    "        plt.plot(*zip(*scores),'-')"
   ]
  },
  {
   "cell_type": "code",
   "execution_count": 18,
   "metadata": {},
   "outputs": [],
   "source": [
    "def train_perc_warm(perc, X, y, epochs, eta0, percentage=0.8, f_eta=None, std=False, pca=0, v=True):\n",
    "    if f_eta is None:\n",
    "        return lambda x: x\n",
    "    \n",
    "    data = buildTrain(X, y, percentage, std, pca)\n",
    "    n_features = data.get_train()[0].shape[1]\n",
    "    n_classes = len(data.get_train()[1].unique())\n",
    "    \n",
    "    if n_classes == 1:\n",
    "        raise Exception(1)\n",
    "    if n_classes == 2:\n",
    "        n_classes = 1\n",
    "        \n",
    "    coef = np.random.randn(n_classes, n_features) * 1e-2\n",
    "    intercept = np.random.randn(n_classes) * 1e-2\n",
    "    eta = eta0\n",
    "    \n",
    "    tscores = []\n",
    "    vscores = []\n",
    "    for epoch in range(epochs):\n",
    "        perc.set_params(eta0=eta)\n",
    "        perc.fit(*data.get_train(), coef_init = coef, intercept_init = intercept)\n",
    "        tscore = perc.score(*data.get_train())\n",
    "        vscore = perc.score(*data.get_valid())\n",
    "        if v:\n",
    "            print(\"run=%i tscore=%g vscore=%g\" % (epoch+1, tscore, vscore))\n",
    "        tscores.append(tscore)\n",
    "        vscores.append(vscore)\n",
    "        coef, intercept = perc.coef_, perc.intercept_\n",
    "        eta = f_eta(eta0, epoch)\n",
    "    if v:\n",
    "        plt.figure()\n",
    "        plt.plot(np.arange(epochs), tscores, np.arange(epochs), vscores)\n",
    "        \n",
    "    return tscores, vscores, data.get_valid()"
   ]
  },
  {
   "cell_type": "code",
   "execution_count": 19,
   "metadata": {},
   "outputs": [],
   "source": [
    "def train_perc_cold(perc, X, y, percentage=0.8, max_iter= 5000, std=False, pca=0):\n",
    "    data = buildTrain(X, y, percentage, std, pca)\n",
    "    \n",
    "    perc.set_params(max_iter=max_iter)\n",
    "    perc.fit(*data.get_train())\n",
    "    tscore = perc.score(*data.get_train())\n",
    "    vscore = perc.score(*data.get_valid())\n",
    "    print(\"tscore=%g vscore=%g\" % (tscore, vscore))\n",
    "        \n",
    "    return tscore, vscore, data.get_valid()"
   ]
  },
  {
   "cell_type": "code",
   "execution_count": 20,
   "metadata": {},
   "outputs": [],
   "source": [
    "class perc():\n",
    "    def __init__(self, seed = None):\n",
    "        if seed is None:\n",
    "            seed = np.random.randint(666766)\n",
    "        self.seed = seed\n",
    "            \n",
    "    def train(self, X, y, percentage=0.8, std=False, pca=0, loss = 'log', penalty = 'none', alpha = 0.0001, power_t = 0.5, \n",
    "               max_iter = 5000, it_interval = 100, threshold_unbalanced=0.6, class_weight=None, \n",
    "               learning_rate='invscaling', eta0=1e-2):\n",
    "        \n",
    "        warm_start = True\n",
    "        #check learning_rate\n",
    "        if learning_rate == 'constant':\n",
    "            f_eta = lambda eta0, epoch: eta0\n",
    "        elif learning_rate == 'invscaling':\n",
    "            f_eta = lambda eta0, epoch: eta0 / ((epoch + 1) * it_interval)**power_t\n",
    "        elif learning_rate == 'optimal':\n",
    "            warm_start = False\n",
    "            f_eta = None\n",
    "        else:\n",
    "            raise Exception('not valid value')\n",
    "            \n",
    "        unbalanced = False\n",
    "        \n",
    "        #check unbalanced dataset\n",
    "        d_cat = {}\n",
    "        clean_y = y[~y.isnull()]\n",
    "        for i in clean_y:\n",
    "            d_cat[i] = d_cat.get(i, 0) + 1\n",
    "        max_cat = 0\n",
    "        max_num = 0\n",
    "        for cat in d_cat:\n",
    "            if d_cat[cat] > max_num:\n",
    "                max_cat = cat\n",
    "                max_num = d_cat[cat]\n",
    "                    \n",
    "        if max_num / len(clean_y) > threshold_unbalanced:\n",
    "            print('Warning: found unbalanced dataset, training using balanced setting for class_weight')\n",
    "            if class_weight is None:\n",
    "                \n",
    "                d_cat = {cat:1/(d_cat[cat]/len(clean_y)) for cat in d_cat}\n",
    "                class_weight = d_cat\n",
    "                print('Weights used:', {i:float('%.2f'%d_cat[i]) for i in d_cat})\n",
    "            unbalanced = True\n",
    "                \n",
    "            \n",
    "        #compute epochs\n",
    "        epochs = max_iter // it_interval\n",
    "            \n",
    "        #create multiple perceptron\n",
    "        perc_ = SGDClassifier(loss=loss, penalty=penalty, max_iter=it_interval,\n",
    "                             alpha=alpha, learning_rate=learning_rate, eta0=eta0,\n",
    "                             warm_start=warm_start, n_jobs=-1, power_t=power_t, class_weight=class_weight)\n",
    "\n",
    "        param_warm = (perc_, X, y, epochs, eta0, percentage, f_eta, std, pca)\n",
    "        param_cold = (perc_, X, y, percentage, max_iter, std, pca)\n",
    "        \n",
    "        #perform analysis\n",
    "        np.random.seed(self.seed)\n",
    "        if warm_start:\n",
    "            tscores, vscores, valid = train_perc_warm(*param_warm)\n",
    "        else:\n",
    "            tscores, vscores, valid = train_perc_cold(*param_cold)\n",
    "        \n",
    "        if unbalanced:\n",
    "            Xv, yv = valid\n",
    "            d_cat = {}\n",
    "            for i in yv:\n",
    "                d_cat[i] = d_cat.get(i, 0) + 1\n",
    "            max_cat = 0\n",
    "            max_num = 0\n",
    "            for cat in d_cat:\n",
    "                if d_cat[cat] > max_num:\n",
    "                    max_cat = cat\n",
    "                    max_num = d_cat[cat]\n",
    "            mask = yv != max_cat\n",
    "            if np.sum(mask) == 0:\n",
    "                raise Exception('No data in smaller part of valid set')\n",
    "            print(Xv.shape, yv.shape)\n",
    "            minority_score = perc_.score(Xv[mask], yv[mask])\n",
    "            majority_score = perc_.score(Xv[~mask], yv[~mask])\n",
    "            print('Score on smaller part (%.2f%%) of validation set (unbalanced case): %.2f' % \n",
    "                  (np.sum(mask)/len(yv)*100, minority_score))\n",
    "            print('Score on bigger part (%.2f%%) of validation set (unbalanced case): %.2f' % \n",
    "                  (np.sum(~mask)/len(yv)*100, majority_score))\n",
    "            print('Category histogram in validation set:', d_cat)\n",
    "            \n",
    "        #save settings\n",
    "        self.param_warm = param_warm\n",
    "        self.param_cold = param_cold\n",
    "        self.warm_start = warm_start\n",
    "        self.perc_ = perc_\n",
    "        \n",
    "    def test(self, n=10):\n",
    "        param_warm, param_cold = self.param_warm, self.param_cold\n",
    "        \n",
    "        best = np.zeros(n)\n",
    "        worse = np.zeros(n)\n",
    "        for i in range(n):\n",
    "            np.random.seed(np.random.randint(10001)*i)\n",
    "            if self.warm_start:\n",
    "                tscores, vscores,_ = train_perc_warm(*param_warm, v=False)\n",
    "            else:\n",
    "                tscores, vscores,_ = train_perc_cold(*param_cold)\n",
    "            best[i] = np.max(vscores)\n",
    "            worse[i] = np.min(vscores)\n",
    "        print('average best performance: %.2f%%, standard deviation: %f'%(best.mean(), best.std()))\n",
    "        plt.figure()\n",
    "        plt.plot(np.arange(n), worse, color='r', label='worse performances')\n",
    "        plt.plot(np.arange(n), best, color='g', label='best performances')\n",
    "        legend = plt.legend(loc='upper center', shadow=True)\n",
    "        plt.xlabel('samples')\n",
    "        plt.ylabel('test score')\n",
    "        plt.show()\n",
    "        \n",
    "    def predict(self, X, y):\n",
    "        perc_ = self.perc_\n",
    "        mask = np.isnan(y)\n",
    "        to_be_predicted = X[mask]\n",
    "        assert y.shape[0] == X.shape[0]\n",
    "        assert to_be_predicted.shape[0] != 0\n",
    "        return perc_.predict(to_be_predicted)"
   ]
  },
  {
   "cell_type": "code",
   "execution_count": 21,
   "metadata": {},
   "outputs": [],
   "source": [
    "def train_MLP(ml_perc, X, y, percentage=0.8, max_iter= 30, std=False, pca=0, v=True):\n",
    "    \n",
    "    data = buildTrain(X, y, percentage, std, pca)\n",
    "\n",
    "    tscores = []\n",
    "    vscores = []\n",
    "    for epoch in range(max_iter):\n",
    "        ml_perc.set_params(max_iter=epoch+1)\n",
    "        ml_perc.fit(*data.get_train())\n",
    "        tscore = ml_perc.score(*data.get_train())\n",
    "        vscore = ml_perc.score(*data.get_valid())\n",
    "        loss = ml_perc.loss_\n",
    "        if v:\n",
    "            print(f\"epoch={epoch} loss={loss} tscore={tscore} vscore={vscore}\")\n",
    "        tscores.append(tscore)\n",
    "        vscores.append(vscore)\n",
    "        ml_perc.set_params(warm_start=True)\n",
    "        \n",
    "    if v:\n",
    "        plt.figure()\n",
    "        plt.plot(np.arange(max_iter), tscores, np.arange(max_iter), vscores)\n",
    "    \n",
    "    return tscores, vscores, data.get_valid()"
   ]
  },
  {
   "cell_type": "code",
   "execution_count": 22,
   "metadata": {},
   "outputs": [],
   "source": [
    "class MLP():\n",
    "    \n",
    "    def __init__(self, seed = None):\n",
    "        if seed is None:\n",
    "            seed = np.random.randint(666766)\n",
    "        self.seed = seed\n",
    "        \n",
    "    #loss = 'log', penalty = 'none', alpha = 0.0001, power_t = 0.5, class_weight=None, \n",
    "    #learning_rate='invscaling', eta0=1e-2 , max_iter = 5000, it_interval = 100\n",
    "    \n",
    "    def train(self, X, y, percentage=0.8, std=False, pca=0,  threshold_unbalanced=0.6, epochs = 30, **args):\n",
    "            \n",
    "        unbalanced = False\n",
    "        \n",
    "        #check unbalanced dataset\n",
    "        d_cat = {}\n",
    "        clean_y = y[~y.isnull()]\n",
    "        for i in clean_y:\n",
    "            d_cat[i] = d_cat.get(i, 0) + 1\n",
    "        max_cat = 0\n",
    "        max_num = 0\n",
    "        for cat in d_cat:\n",
    "            if d_cat[cat] > max_num:\n",
    "                max_cat = cat\n",
    "                max_num = d_cat[cat]\n",
    "                    \n",
    "        if max_num / len(clean_y) > threshold_unbalanced:\n",
    "            print('Warning: found unbalanced dataset, training using balanced setting for class_weight')\n",
    "            if class_weight is None:\n",
    "                \n",
    "                d_cat = {cat:1/(d_cat[cat]/len(clean_y)) for cat in d_cat}\n",
    "                class_weight = d_cat\n",
    "                print('Weights used:', {i:float('%.2f'%d_cat[i]) for i in d_cat})\n",
    "            unbalanced = True\n",
    "                \n",
    "            \n",
    "        #create multiple perceptron\n",
    "        ml_perc_ = MLPClassifier(**args)\n",
    "        \n",
    "        param_warm = (ml_perc_, X, y, percentage, epochs, std, pca)\n",
    "        \n",
    "        #perform analysis\n",
    "        np.random.seed(self.seed)\n",
    "        \n",
    "        tscores, vscores, valid = train_MLP(*param_warm)\n",
    "        \n",
    "        if unbalanced:\n",
    "            Xv, yv = valid\n",
    "            d_cat = {}\n",
    "            for i in yv:\n",
    "                d_cat[i] = d_cat.get(i, 0) + 1\n",
    "            max_cat = 0\n",
    "            max_num = 0\n",
    "            for cat in d_cat:\n",
    "                if d_cat[cat] > max_num:\n",
    "                    max_cat = cat\n",
    "                    max_num = d_cat[cat]\n",
    "            mask = yv != max_cat\n",
    "            if np.sum(mask) == 0:\n",
    "                raise Exception('No data in smaller part of valid set')\n",
    "            print(Xv.shape, yv.shape)\n",
    "            minority_score = perc_.score(Xv[mask], yv[mask])\n",
    "            majority_score = perc_.score(Xv[~mask], yv[~mask])\n",
    "            print('Score on smaller part (%.2f%%) of validation set (unbalanced case): %.2f' % \n",
    "                  (np.sum(mask)/len(yv)*100, minority_score))\n",
    "            print('Score on bigger part (%.2f%%) of validation set (unbalanced case): %.2f' % \n",
    "                  (np.sum(~mask)/len(yv)*100, majority_score))\n",
    "            print('Category histogram in validation set:', d_cat)\n",
    "            \n",
    "        #save settings\n",
    "        self.param_warm = param_warm\n",
    "        self.ml_perc_ = ml_perc_\n",
    "        \n",
    "    def test(self, n=10):\n",
    "        param_warm = self.param_warm\n",
    "        \n",
    "        best = np.zeros(n)\n",
    "        worse = np.zeros(n)\n",
    "        for i in range(n):\n",
    "            np.random.seed(np.random.randint(10001)*i)\n",
    "            \n",
    "            tscores, vscores,_ = train_MLP(*param_warm, v=False)\n",
    "            best[i] = np.max(vscores)\n",
    "            worse[i] = np.min(vscores)\n",
    "        print('average best performance: %.2f%%, standard deviation: %f'%(best.mean(), best.std()))\n",
    "        plt.figure()\n",
    "        plt.plot(np.arange(n), worse, color='r', label='worse performances')\n",
    "        plt.plot(np.arange(n), best, color='g', label='best performances')\n",
    "        legend = plt.legend(loc='upper center', shadow=True)\n",
    "        plt.xlabel('samples')\n",
    "        plt.ylabel('test score')\n",
    "        plt.show()\n",
    "        \n",
    "    def predict(self, X, y):\n",
    "        ml_perc_ = self.ml_perc_\n",
    "        mask = y.isnull()\n",
    "        to_be_predicted = X[mask]\n",
    "        assert y.shape[0] == X.shape[0]\n",
    "        assert to_be_predicted.shape[0] != 0\n",
    "        return ml_perc_.predict(to_be_predicted)  "
   ]
  },
  {
   "cell_type": "code",
   "execution_count": 23,
   "metadata": {},
   "outputs": [],
   "source": [
    "def train_LR(log_reg, X, y, percentage=0.8, max_iter= 30, std=False, pca=0, v=True):\n",
    "    \n",
    "    data = buildTrain(X, y, percentage, std, pca)\n",
    "\n",
    "    tscores = []\n",
    "    vscores = []\n",
    "    for epoch in range(max_iter):\n",
    "        log_reg.set_params(max_iter=epoch+1)\n",
    "        log_reg.fit(*data.get_train())\n",
    "        tscore = log_reg.score(*data.get_train())\n",
    "        vscore = log_reg.score(*data.get_valid())\n",
    "        if v:\n",
    "            print(f\"epoch={epoch} loss={loss} tscore={tscore} vscore={vscore}\")\n",
    "        tscores.append(tscore)\n",
    "        vscores.append(vscore)\n",
    "        log_reg.set_params(warm_start=True)\n",
    "        \n",
    "    if v:\n",
    "        plt.figure()\n",
    "        plt.plot(np.arange(max_iter), tscores, np.arange(max_iter), vscores)\n",
    "    \n",
    "    return tscores, vscores, data.get_valid()"
   ]
  },
  {
   "cell_type": "code",
   "execution_count": 24,
   "metadata": {},
   "outputs": [],
   "source": [
    "class LogisticRegression():\n",
    "    \n",
    "    def __init__(self, seed = None):\n",
    "        if seed is None:\n",
    "            seed = np.random.randint(666766)\n",
    "        self.seed = seed\n",
    "        \n",
    "    #ti lascio parte della documentazione cosi capisci che parametri usare:\n",
    "    \n",
    "\n",
    "    #penalty=’l2’, dual=False, tol=0.0001, C=1.0, fit_intercept=True, intercept_scaling=1, \n",
    "    #class_weight=None, random_state=None, solver=’liblinear’, max_iter=100, multi_class=’ovr’, \n",
    "    #verbose=0, warm_start=False, n_jobs=1\n",
    "    #solver : {‘newton-cg’, ‘lbfgs’, ‘liblinear’, ‘sag’, ‘saga’},\n",
    "    #default: ‘liblinear’ Algorithm to use in the optimization problem.\n",
    "    #For small datasets, ‘liblinear’ is a good choice, whereas ‘sag’ and ‘saga’ are faster for large ones.\n",
    "    #For multiclass problems, only ‘newton-cg’, ‘sag’, ‘saga’ and ‘lbfgs’\n",
    "    #handle multinomial loss; ‘liblinear’ is limited to one-versus-rest schemes.\n",
    "    #‘newton-cg’, ‘lbfgs’ and ‘sag’ only handle L2 penalty, whereas ‘liblinear’ and ‘saga’ handle L1 penalty.\n",
    "    \n",
    "    #Multiclass option can be either ‘ovr’ or ‘multinomial’. If the option chosen is ‘ovr’, then a binary problem is fit for each label. \n",
    "    #Else the loss minimised is the multinomial loss fit across the entire probability distribution. Does not work for liblinear solver.\n",
    "\n",
    "         \n",
    "    def train(self, X, y, percentage=0.8, std=False, pca=0,  threshold_unbalanced=0.6, epochs = 30, **args):\n",
    "            \n",
    "        unbalanced = False\n",
    "        \n",
    "        #check unbalanced dataset\n",
    "        d_cat = {}\n",
    "        clean_y = y[~y.isnull()]\n",
    "        for i in clean_y:\n",
    "            d_cat[i] = d_cat.get(i, 0) + 1\n",
    "        max_cat = 0\n",
    "        max_num = 0\n",
    "        for cat in d_cat:\n",
    "            if d_cat[cat] > max_num:\n",
    "                max_cat = cat\n",
    "                max_num = d_cat[cat]\n",
    "                    \n",
    "        if max_num / len(clean_y) > threshold_unbalanced:\n",
    "            print('Warning: found unbalanced dataset, training using balanced setting for class_weight')\n",
    "            if class_weight is None:\n",
    "                \n",
    "                d_cat = {cat:1/(d_cat[cat]/len(clean_y)) for cat in d_cat}\n",
    "                class_weight = d_cat\n",
    "                print('Weights used:', {i:float('%.2f'%d_cat[i]) for i in d_cat})\n",
    "            unbalanced = True\n",
    "                \n",
    "            \n",
    "        #create logistic regression\n",
    "        log_regr_ = LogisticRegression(**args)\n",
    "        \n",
    "        param_warm = (log_regr_, X, y, percentage, epochs, std, pca)\n",
    "        \n",
    "        #perform analysis\n",
    "        np.random.seed(self.seed)\n",
    "        \n",
    "        tscores, vscores, valid = train_LR(*param_warm)\n",
    "        \n",
    "        if unbalanced:\n",
    "            Xv, yv = valid\n",
    "            d_cat = {}\n",
    "            for i in yv:\n",
    "                d_cat[i] = d_cat.get(i, 0) + 1\n",
    "            max_cat = 0\n",
    "            max_num = 0\n",
    "            for cat in d_cat:\n",
    "                if d_cat[cat] > max_num:\n",
    "                    max_cat = cat\n",
    "                    max_num = d_cat[cat]\n",
    "            mask = yv != max_cat\n",
    "            if np.sum(mask) == 0:\n",
    "                raise Exception('No data in smaller part of valid set')\n",
    "            print(Xv.shape, yv.shape)\n",
    "            minority_score = log_regr_.score(Xv[mask], yv[mask])\n",
    "            majority_score = log_regr_.score(Xv[~mask], yv[~mask])\n",
    "            print('Score on smaller part (%.2f%%) of validation set (unbalanced case): %.2f' % \n",
    "                  (np.sum(mask)/len(yv)*100, minority_score))\n",
    "            print('Score on bigger part (%.2f%%) of validation set (unbalanced case): %.2f' % \n",
    "                  (np.sum(~mask)/len(yv)*100, majority_score))\n",
    "            print('Category histogram in validation set:', d_cat)\n",
    "            \n",
    "        #save settings\n",
    "        self.param_warm = param_warm\n",
    "        self.log_regr_ = log_regr_\n",
    "        \n",
    "        \n",
    "    def predict(self, X, y):\n",
    "        log_regr_ = self.log_regr_\n",
    "        mask = y.isnull()\n",
    "        to_be_predicted = X[mask]\n",
    "        assert y.shape[0] == X.shape[0]\n",
    "        assert to_be_predicted.shape[0] != 0\n",
    "        return log_regr_.predict(to_be_predicted)  "
   ]
  },
  {
   "cell_type": "markdown",
   "metadata": {},
   "source": [
    "## Questions\n",
    "1. How can we decide which approach to prefer between substituting with the mean of the column and using a trained supervised (with a certain accuracy), in the case of missing values?\n",
    "2. How do we optimize parameters in unbalanced dataset? Because for us we can go over 50% on big and small dataset\n",
    "4. What can we do if dataset unbalanced and we are using MLP?"
   ]
  },
  {
   "cell_type": "markdown",
   "metadata": {},
   "source": [
    "## Next Steps\n",
    "1. Train MLP (build interface if needed, should be needed)\n",
    "2. Predict age wrt traffic data for filling in the data\n",
    "3. Predict os wrt traffic data for filling in the data\n",
    "4. Predict urbaniz wrt traffic data for filling in the data\n",
    "5. Predict data allowance wrt traffic data for filling in the data\n",
    "6. Monthly data traffic\n",
    "7. others\n",
    "8. clusteringggg"
   ]
  },
  {
   "cell_type": "code",
   "execution_count": null,
   "metadata": {},
   "outputs": [],
   "source": []
  },
  {
   "cell_type": "markdown",
   "metadata": {},
   "source": [
    "## Tests"
   ]
  },
  {
   "cell_type": "markdown",
   "metadata": {},
   "source": [
    "### K-means on traffic\n",
    "Just an exploratory study, let's see what we get..."
   ]
  },
  {
   "cell_type": "code",
   "execution_count": 15,
   "metadata": {
    "scrolled": true
   },
   "outputs": [
    {
     "name": "stdout",
     "output_type": "stream",
     "text": [
      "cluster: 0 --> top category: V-Bag, frequency of category (variety within cluster): 39.74%, category clustering: 12.30%\n",
      "cluster: 1 --> top category: V-Bag, frequency of category (variety within cluster): 38.95%, category clustering: 31.22%\n",
      "cluster: 2 --> top category: V-Pet, frequency of category (variety within cluster): 35.62%, category clustering: 25.00%\n",
      "cluster: 3 --> top category: V-Bag, frequency of category (variety within cluster): 39.75%, category clustering: 8.65%\n",
      "cluster: 4 --> top category: V-Bag, frequency of category (variety within cluster): 35.61%, category clustering: 23.92%\n",
      "cluster: 5 --> top category: V-Pet, frequency of category (variety within cluster): 42.65%, category clustering: 4.50%\n",
      "Overall score (doesn't consider category clustering): 38.72%, weighted: 39.83%\n"
     ]
    },
    {
     "data": {
      "image/png": "[encoded data removed]",
      "text/plain": [
       "<matplotlib.figure.Figure at 0x1a0dfdaa90>"
      ]
     },
     "metadata": {},
     "output_type": "display_data"
    }
   ],
   "source": [
    "from sklearn.cluster import KMeans\n",
    "\n",
    "X = df_clean[traffic_columns]\n",
    "y = df_clean['Product']\n",
    "\n",
    "km = KMeans(n_clusters=6, init='k-means++', n_init=10, n_jobs=4)\n",
    "km.fit(X)\n",
    "score = check_clusters(y=y, clust_labels=km.labels_)"
   ]
  },
  {
   "cell_type": "markdown",
   "metadata": {},
   "source": [
    "now we try the same but with standardized columns, see the difference"
   ]
  },
  {
   "cell_type": "code",
   "execution_count": 16,
   "metadata": {},
   "outputs": [
    {
     "name": "stdout",
     "output_type": "stream",
     "text": [
      "cluster: 0 --> top category: V-Bag, frequency of category (variety within cluster): 36.99%, category clustering: 29.59%\n",
      "cluster: 1 --> top category: V-Bag, frequency of category (variety within cluster): 36.73%, category clustering: 53.65%\n",
      "cluster: 2 --> top category: V-Bag, frequency of category (variety within cluster): 35.71%, category clustering: 12.16%\n",
      "cluster: 3 --> top category: V-Bag, frequency of category (variety within cluster): 42.03%, category clustering: 3.92%\n",
      "cluster: 4 --> top category: V-Bag, frequency of category (variety within cluster): 100.00%, category clustering: 0.54%\n",
      "cluster: 5 --> top category: V-Bag, frequency of category (variety within cluster): 50.00%, category clustering: 0.14%\n",
      "Overall score (doesn't consider category clustering): 50.24%, weighted: 37.25%\n"
     ]
    },
    {
     "data": {
      "image/png": "[encoded data removed]",
      "text/plain": [
       "<matplotlib.figure.Figure at 0x1a0e8bc438>"
      ]
     },
     "metadata": {},
     "output_type": "display_data"
    }
   ],
   "source": [
    "X_std = batch_std(df_clean, traffic_columns)\n",
    "y = df_clean['Product']\n",
    "\n",
    "km = KMeans(n_clusters=6, init='k-means++', n_init=10, n_jobs=4)\n",
    "km.fit(X_std)\n",
    "score = check_clusters(y=y, clust_labels=km.labels_)"
   ]
  },
  {
   "cell_type": "markdown",
   "metadata": {},
   "source": [
    "It seems to have improved. Still the clusters seem to separate pretty poorly. Let's see the optimal value of k based on our previous score (using standardized data which seem to make more sense). We set the same seed each time so that the results are comparable and not influenced by different initial centroid allocation."
   ]
  },
  {
   "cell_type": "code",
   "execution_count": 17,
   "metadata": {},
   "outputs": [
    {
     "name": "stdout",
     "output_type": "stream",
     "text": [
      "best weighted score: 38.99%, number of clusters: 9\n",
      "log of best: \n",
      "cluster: 0 --> top category: V-Bag, frequency of category (variety within cluster): 36.94%, category clustering: 29.05%\n",
      "cluster: 1 --> top category: V-Pet, frequency of category (variety within cluster): 37.44%, category clustering: 12.73%\n",
      "cluster: 2 --> top category: V-Bag, frequency of category (variety within cluster): 36.88%, category clustering: 53.38%\n",
      "cluster: 3 --> top category: V-Bag, frequency of category (variety within cluster): 44.87%, category clustering: 4.73%\n",
      "cluster: 4 --> top category: V-Bag, frequency of category (variety within cluster): 37.50%, category clustering: 1.62%\n",
      "cluster: 5 --> top category: V-Pet, frequency of category (variety within cluster): 50.00%, category clustering: 0.62%\n",
      "cluster: 6 --> top category: V-Pet, frequency of category (variety within cluster): 50.00%, category clustering: 0.31%\n",
      "cluster: 7 --> top category: V-Bag, frequency of category (variety within cluster): 100.00%, category clustering: 0.54%\n",
      "cluster: 8 --> top category: V-Bag, frequency of category (variety within cluster): 50.00%, category clustering: 0.14%\n",
      "Overall score (doesn't consider category clustering): 49.29%, weighted: 38.99%\n"
     ]
    },
    {
     "data": {
      "image/png": "[encoded data removed]",
      "text/plain": [
       "<matplotlib.figure.Figure at 0x1a0f369908>"
      ]
     },
     "metadata": {},
     "output_type": "display_data"
    }
   ],
   "source": [
    "my_test = test()\n",
    "\n",
    "np.random.seed(23453)\n",
    "X_std = batch_std(df_clean, traffic_columns)\n",
    "y = df_clean['Product']\n",
    "\n",
    "for k in range(2, 10):\n",
    "    km = KMeans(n_clusters=k, init='k-means++', n_init=10, n_jobs=4)\n",
    "    km.fit(X_std)\n",
    "    \n",
    "    score= check_clusters(y=y, clust_labels=km.labels_, v=False)\n",
    "    my_test.update(score, k)\n",
    "        \n",
    "my_test.get_result()"
   ]
  },
  {
   "cell_type": "markdown",
   "metadata": {},
   "source": [
    "### Hierarchical clustering on traffic data\n",
    "Same approach as for k-means, test difference between standardized and not."
   ]
  },
  {
   "cell_type": "code",
   "execution_count": 18,
   "metadata": {},
   "outputs": [
    {
     "name": "stdout",
     "output_type": "stream",
     "text": [
      "best weighted score: 37.72%, number of clusters: 7\n",
      "log of best: \n",
      "cluster: 0 --> top category: V-Bag, frequency of category (variety within cluster): 39.15%, category clustering: 24.86%\n",
      "cluster: 1 --> top category: V-Bag, frequency of category (variety within cluster): 35.78%, category clustering: 62.03%\n",
      "cluster: 2 --> top category: V-Bag, frequency of category (variety within cluster): 43.18%, category clustering: 5.14%\n",
      "cluster: 3 --> top category: V-Bag, frequency of category (variety within cluster): 35.81%, category clustering: 7.16%\n",
      "cluster: 4 --> top category: V-Auto, frequency of category (variety within cluster): 50.00%, category clustering: 0.67%\n",
      "cluster: 5 --> top category: V-Bag, frequency of category (variety within cluster): 100.00%, category clustering: 0.54%\n",
      "cluster: 6 --> top category: V-Bag, frequency of category (variety within cluster): 100.00%, category clustering: 0.14%\n",
      "Overall score (doesn't consider category clustering): 57.70%, weighted: 37.72%\n"
     ]
    },
    {
     "data": {
      "image/png": "[encoded data removed]",
      "text/plain": [
       "<matplotlib.figure.Figure at 0x1a0f5424a8>"
      ]
     },
     "metadata": {},
     "output_type": "display_data"
    }
   ],
   "source": [
    "from sklearn.cluster import AgglomerativeClustering\n",
    "\n",
    "my_test = test()\n",
    "X_std = batch_std(df_clean, traffic_columns)\n",
    "y = df_clean['Product']\n",
    "\n",
    "for k in range(2, 8):\n",
    "    clust = AgglomerativeClustering(n_clusters=k, linkage='ward', affinity='euclidean')\n",
    "    clust.fit(X_std)\n",
    "    score = check_clusters(y=y, clust_labels=clust.labels_, v=False)\n",
    "    my_test.update(score, k)\n",
    "\n",
    "my_test.get_result()"
   ]
  },
  {
   "cell_type": "markdown",
   "metadata": {},
   "source": [
    "try complete linkage"
   ]
  },
  {
   "cell_type": "code",
   "execution_count": 19,
   "metadata": {},
   "outputs": [
    {
     "name": "stdout",
     "output_type": "stream",
     "text": [
      "best weighted score: 38.60%, number of clusters: 7\n",
      "log of best: \n",
      "cluster: 0 --> top category: V-Bag, frequency of category (variety within cluster): 37.06%, category clustering: 98.65%\n",
      "cluster: 1 --> top category: V-Pet, frequency of category (variety within cluster): 50.00%, category clustering: 0.93%\n",
      "cluster: 2 --> top category: V-Pet, frequency of category (variety within cluster): 66.67%, category clustering: 0.62%\n",
      "cluster: 3 --> top category: V-Auto, frequency of category (variety within cluster): 50.00%, category clustering: 0.67%\n",
      "cluster: 4 --> top category: V-Bag, frequency of category (variety within cluster): 100.00%, category clustering: 0.54%\n",
      "cluster: 5 --> top category: V-Pet, frequency of category (variety within cluster): 100.00%, category clustering: 0.16%\n",
      "cluster: 6 --> top category: V-Bag, frequency of category (variety within cluster): 100.00%, category clustering: 0.14%\n",
      "Overall score (doesn't consider category clustering): 71.96%, weighted: 38.60%\n"
     ]
    },
    {
     "data": {
      "image/png": "[encoded data removed]",
      "text/plain": [
       "<matplotlib.figure.Figure at 0x1a0e91acc0>"
      ]
     },
     "metadata": {},
     "output_type": "display_data"
    }
   ],
   "source": [
    "from sklearn.cluster import AgglomerativeClustering\n",
    "\n",
    "my_test = test()\n",
    "X_std = batch_std(df_clean, traffic_columns)\n",
    "y = df_clean['Product']\n",
    "\n",
    "for k in range(2, 8):\n",
    "    clust = AgglomerativeClustering(n_clusters=k, linkage='complete', affinity='euclidean')\n",
    "    clust.fit(X_std)\n",
    "    score = check_clusters(y=y, clust_labels=clust.labels_, v=False)\n",
    "    my_test.update(score, k)\n",
    "\n",
    "my_test.get_result()"
   ]
  },
  {
   "cell_type": "markdown",
   "metadata": {},
   "source": [
    "### Perceptron (imputation of age data with traffic data)"
   ]
  },
  {
   "cell_type": "markdown",
   "metadata": {},
   "source": [
    "First of all we try to build a Perceptron to complete the age column keeping all the categories."
   ]
  },
  {
   "cell_type": "code",
   "execution_count": 51,
   "metadata": {},
   "outputs": [
    {
     "name": "stdout",
     "output_type": "stream",
     "text": [
      "{0.85: 2, 0.65: 1, 0.35: 0, 0.75: 1, 0.55: 1, 0.45: 1, 0.25: 0, 0.15: 0}\n"
     ]
    }
   ],
   "source": [
    "df = df_clean.copy()\n",
    "#df.dropna(axis=0, how='any', subset=['NumericAge'], inplace=True)\n",
    "\n",
    "#merge some age ranges together\n",
    "#dict_numage_to_agecat = {i : int(100*i//40) for i in df[\"NumericAge\"].unique()}\n",
    "dict_numage_to_agecat = {0.85: 2, 0.65: 1, 0.35: 0, 0.75: 1, 0.55: 1, 0.45: 1, 0.25: 0, 0.15: 0}\n",
    "print(dict_numage_to_agecat)\n",
    "df[\"NumericAge\"] = df[\"NumericAge\"].map(lambda x: dict_numage_to_agecat[x], na_action = 'ignore')\n",
    "X = df[traffic_columns]\n",
    "y = df['NumericAge']\n",
    "my_perc = perc()"
   ]
  },
  {
   "cell_type": "code",
   "execution_count": 53,
   "metadata": {},
   "outputs": [
    {
     "name": "stdout",
     "output_type": "stream",
     "text": [
      "Warning: found unbalanced dataset, training using balanced setting for class_weight\n",
      "Warning: missing data found and removed. Old input shape: 2000, 14, new input shape: 1880, 14\n",
      "run=1 tscore=0.306109 vscore=0.259358\n",
      "run=2 tscore=0.325365 vscore=0.280749\n",
      "run=3 tscore=0.337981 vscore=0.283422\n",
      "run=4 tscore=0.347278 vscore=0.28877\n",
      "run=5 tscore=0.353918 vscore=0.296791\n",
      "run=6 tscore=0.357238 vscore=0.299465\n",
      "run=7 tscore=0.358566 vscore=0.302139\n",
      "run=8 tscore=0.36255 vscore=0.302139\n",
      "run=9 tscore=0.36255 vscore=0.304813\n",
      "run=10 tscore=0.36255 vscore=0.304813\n",
      "run=11 tscore=0.363214 vscore=0.304813\n",
      "run=12 tscore=0.363214 vscore=0.304813\n",
      "run=13 tscore=0.363214 vscore=0.304813\n",
      "run=14 tscore=0.363214 vscore=0.304813\n",
      "run=15 tscore=0.363214 vscore=0.304813\n",
      "run=16 tscore=0.363214 vscore=0.304813\n",
      "run=17 tscore=0.363214 vscore=0.304813\n",
      "run=18 tscore=0.363214 vscore=0.304813\n",
      "run=19 tscore=0.363214 vscore=0.304813\n",
      "run=20 tscore=0.363214 vscore=0.304813\n",
      "run=21 tscore=0.363214 vscore=0.304813\n",
      "run=22 tscore=0.363214 vscore=0.304813\n",
      "run=23 tscore=0.363214 vscore=0.304813\n",
      "run=24 tscore=0.363214 vscore=0.304813\n",
      "run=25 tscore=0.363214 vscore=0.304813\n",
      "run=26 tscore=0.363214 vscore=0.304813\n",
      "run=27 tscore=0.363214 vscore=0.304813\n",
      "run=28 tscore=0.363214 vscore=0.304813\n",
      "run=29 tscore=0.363214 vscore=0.304813\n",
      "run=30 tscore=0.363214 vscore=0.304813\n",
      "run=31 tscore=0.363214 vscore=0.304813\n",
      "run=32 tscore=0.363214 vscore=0.304813\n",
      "run=33 tscore=0.363214 vscore=0.304813\n",
      "run=34 tscore=0.363214 vscore=0.304813\n",
      "run=35 tscore=0.363214 vscore=0.304813\n",
      "run=36 tscore=0.363214 vscore=0.304813\n",
      "run=37 tscore=0.363214 vscore=0.304813\n",
      "run=38 tscore=0.363214 vscore=0.304813\n",
      "run=39 tscore=0.363214 vscore=0.304813\n",
      "run=40 tscore=0.363214 vscore=0.304813\n",
      "run=41 tscore=0.363214 vscore=0.304813\n",
      "run=42 tscore=0.363214 vscore=0.304813\n",
      "run=43 tscore=0.363214 vscore=0.304813\n",
      "run=44 tscore=0.363214 vscore=0.304813\n",
      "run=45 tscore=0.363214 vscore=0.304813\n",
      "run=46 tscore=0.363214 vscore=0.304813\n",
      "run=47 tscore=0.363214 vscore=0.304813\n",
      "run=48 tscore=0.363214 vscore=0.304813\n"
     ]
    },
    {
     "ename": "KeyboardInterrupt",
     "evalue": "",
     "output_type": "error",
     "traceback": [
      "\u001b[0;31m---------------------------------------------------------------------------\u001b[0m",
      "\u001b[0;31mKeyboardInterrupt\u001b[0m                         Traceback (most recent call last)",
      "\u001b[0;32m<ipython-input-53-30b7b2e95819>\u001b[0m in \u001b[0;36m<module>\u001b[0;34m()\u001b[0m\n\u001b[1;32m      1\u001b[0m my_perc.train(X, y, percentage=0.8, std=False, loss='log', penalty='none', alpha=1e-6,\n\u001b[1;32m      2\u001b[0m           \u001b[0mpower_t\u001b[0m\u001b[0;34m=\u001b[0m\u001b[0;36m0.7\u001b[0m\u001b[0;34m,\u001b[0m \u001b[0mmax_iter\u001b[0m\u001b[0;34m=\u001b[0m\u001b[0;36m8000\u001b[0m\u001b[0;34m,\u001b[0m \u001b[0mit_interval\u001b[0m\u001b[0;34m=\u001b[0m\u001b[0;36m100\u001b[0m\u001b[0;34m,\u001b[0m \u001b[0mlearning_rate\u001b[0m\u001b[0;34m=\u001b[0m\u001b[0;34m'constant'\u001b[0m\u001b[0;34m,\u001b[0m \u001b[0meta0\u001b[0m\u001b[0;34m=\u001b[0m\u001b[0;36m1e-8\u001b[0m\u001b[0;34m,\u001b[0m\u001b[0;34m\u001b[0m\u001b[0m\n\u001b[0;32m----> 3\u001b[0;31m           threshold_unbalanced=0.6, class_weight={2: 2.00, 1: 1.55, 0: 4.0})\n\u001b[0m",
      "\u001b[0;32m<ipython-input-47-b4f3da4b08da>\u001b[0m in \u001b[0;36mtrain\u001b[0;34m(self, X, y, percentage, std, pca, loss, penalty, alpha, power_t, max_iter, it_interval, threshold_unbalanced, class_weight, learning_rate, eta0)\u001b[0m\n\u001b[1;32m     59\u001b[0m         \u001b[0mnp\u001b[0m\u001b[0;34m.\u001b[0m\u001b[0mrandom\u001b[0m\u001b[0;34m.\u001b[0m\u001b[0mseed\u001b[0m\u001b[0;34m(\u001b[0m\u001b[0mself\u001b[0m\u001b[0;34m.\u001b[0m\u001b[0mseed\u001b[0m\u001b[0;34m)\u001b[0m\u001b[0;34m\u001b[0m\u001b[0m\n\u001b[1;32m     60\u001b[0m         \u001b[0;32mif\u001b[0m \u001b[0mwarm_start\u001b[0m\u001b[0;34m:\u001b[0m\u001b[0;34m\u001b[0m\u001b[0m\n\u001b[0;32m---> 61\u001b[0;31m             \u001b[0mtscores\u001b[0m\u001b[0;34m,\u001b[0m \u001b[0mvscores\u001b[0m\u001b[0;34m,\u001b[0m \u001b[0mvalid\u001b[0m \u001b[0;34m=\u001b[0m \u001b[0mtrain_perc_warm\u001b[0m\u001b[0;34m(\u001b[0m\u001b[0;34m*\u001b[0m\u001b[0mparam_warm\u001b[0m\u001b[0;34m)\u001b[0m\u001b[0;34m\u001b[0m\u001b[0m\n\u001b[0m\u001b[1;32m     62\u001b[0m         \u001b[0;32melse\u001b[0m\u001b[0;34m:\u001b[0m\u001b[0;34m\u001b[0m\u001b[0m\n\u001b[1;32m     63\u001b[0m             \u001b[0mtscores\u001b[0m\u001b[0;34m,\u001b[0m \u001b[0mvscores\u001b[0m\u001b[0;34m,\u001b[0m \u001b[0mvalid\u001b[0m \u001b[0;34m=\u001b[0m \u001b[0mtrain_perc_cold\u001b[0m\u001b[0;34m(\u001b[0m\u001b[0;34m*\u001b[0m\u001b[0mparam_cold\u001b[0m\u001b[0;34m)\u001b[0m\u001b[0;34m\u001b[0m\u001b[0m\n",
      "\u001b[0;32m<ipython-input-45-d886f608861f>\u001b[0m in \u001b[0;36mtrain_perc_warm\u001b[0;34m(perc, X, y, epochs, eta0, percentage, f_eta, std, pca, v)\u001b[0m\n\u001b[1;32m     20\u001b[0m     \u001b[0;32mfor\u001b[0m \u001b[0mepoch\u001b[0m \u001b[0;32min\u001b[0m \u001b[0mrange\u001b[0m\u001b[0;34m(\u001b[0m\u001b[0mepochs\u001b[0m\u001b[0;34m)\u001b[0m\u001b[0;34m:\u001b[0m\u001b[0;34m\u001b[0m\u001b[0m\n\u001b[1;32m     21\u001b[0m         \u001b[0mperc\u001b[0m\u001b[0;34m.\u001b[0m\u001b[0mset_params\u001b[0m\u001b[0;34m(\u001b[0m\u001b[0meta0\u001b[0m\u001b[0;34m=\u001b[0m\u001b[0meta\u001b[0m\u001b[0;34m)\u001b[0m\u001b[0;34m\u001b[0m\u001b[0m\n\u001b[0;32m---> 22\u001b[0;31m         \u001b[0mperc\u001b[0m\u001b[0;34m.\u001b[0m\u001b[0mfit\u001b[0m\u001b[0;34m(\u001b[0m\u001b[0;34m*\u001b[0m\u001b[0mdata\u001b[0m\u001b[0;34m.\u001b[0m\u001b[0mget_train\u001b[0m\u001b[0;34m(\u001b[0m\u001b[0;34m)\u001b[0m\u001b[0;34m,\u001b[0m \u001b[0mcoef_init\u001b[0m \u001b[0;34m=\u001b[0m \u001b[0mcoef\u001b[0m\u001b[0;34m,\u001b[0m \u001b[0mintercept_init\u001b[0m \u001b[0;34m=\u001b[0m \u001b[0mintercept\u001b[0m\u001b[0;34m)\u001b[0m\u001b[0;34m\u001b[0m\u001b[0m\n\u001b[0m\u001b[1;32m     23\u001b[0m         \u001b[0mtscore\u001b[0m \u001b[0;34m=\u001b[0m \u001b[0mperc\u001b[0m\u001b[0;34m.\u001b[0m\u001b[0mscore\u001b[0m\u001b[0;34m(\u001b[0m\u001b[0;34m*\u001b[0m\u001b[0mdata\u001b[0m\u001b[0;34m.\u001b[0m\u001b[0mget_train\u001b[0m\u001b[0;34m(\u001b[0m\u001b[0;34m)\u001b[0m\u001b[0;34m)\u001b[0m\u001b[0;34m\u001b[0m\u001b[0m\n\u001b[1;32m     24\u001b[0m         \u001b[0mvscore\u001b[0m \u001b[0;34m=\u001b[0m \u001b[0mperc\u001b[0m\u001b[0;34m.\u001b[0m\u001b[0mscore\u001b[0m\u001b[0;34m(\u001b[0m\u001b[0;34m*\u001b[0m\u001b[0mdata\u001b[0m\u001b[0;34m.\u001b[0m\u001b[0mget_valid\u001b[0m\u001b[0;34m(\u001b[0m\u001b[0;34m)\u001b[0m\u001b[0;34m)\u001b[0m\u001b[0;34m\u001b[0m\u001b[0m\n",
      "\u001b[0;32m~/anaconda3/lib/python3.6/site-packages/sklearn/linear_model/stochastic_gradient.py\u001b[0m in \u001b[0;36mfit\u001b[0;34m(self, X, y, coef_init, intercept_init, sample_weight)\u001b[0m\n\u001b[1;32m    584\u001b[0m                          \u001b[0mloss\u001b[0m\u001b[0;34m=\u001b[0m\u001b[0mself\u001b[0m\u001b[0;34m.\u001b[0m\u001b[0mloss\u001b[0m\u001b[0;34m,\u001b[0m \u001b[0mlearning_rate\u001b[0m\u001b[0;34m=\u001b[0m\u001b[0mself\u001b[0m\u001b[0;34m.\u001b[0m\u001b[0mlearning_rate\u001b[0m\u001b[0;34m,\u001b[0m\u001b[0;34m\u001b[0m\u001b[0m\n\u001b[1;32m    585\u001b[0m                          \u001b[0mcoef_init\u001b[0m\u001b[0;34m=\u001b[0m\u001b[0mcoef_init\u001b[0m\u001b[0;34m,\u001b[0m \u001b[0mintercept_init\u001b[0m\u001b[0;34m=\u001b[0m\u001b[0mintercept_init\u001b[0m\u001b[0;34m,\u001b[0m\u001b[0;34m\u001b[0m\u001b[0m\n\u001b[0;32m--> 586\u001b[0;31m                          sample_weight=sample_weight)\n\u001b[0m\u001b[1;32m    587\u001b[0m \u001b[0;34m\u001b[0m\u001b[0m\n\u001b[1;32m    588\u001b[0m \u001b[0;34m\u001b[0m\u001b[0m\n",
      "\u001b[0;32m~/anaconda3/lib/python3.6/site-packages/sklearn/linear_model/stochastic_gradient.py\u001b[0m in \u001b[0;36m_fit\u001b[0;34m(self, X, y, alpha, C, loss, learning_rate, coef_init, intercept_init, sample_weight)\u001b[0m\n\u001b[1;32m    442\u001b[0m \u001b[0;34m\u001b[0m\u001b[0m\n\u001b[1;32m    443\u001b[0m         self._partial_fit(X, y, alpha, C, loss, learning_rate, self._max_iter,\n\u001b[0;32m--> 444\u001b[0;31m                           classes, sample_weight, coef_init, intercept_init)\n\u001b[0m\u001b[1;32m    445\u001b[0m \u001b[0;34m\u001b[0m\u001b[0m\n\u001b[1;32m    446\u001b[0m         if (self._tol is not None and self._tol > -np.inf\n",
      "\u001b[0;32m~/anaconda3/lib/python3.6/site-packages/sklearn/linear_model/stochastic_gradient.py\u001b[0m in \u001b[0;36m_partial_fit\u001b[0;34m(self, X, y, alpha, C, loss, learning_rate, max_iter, classes, sample_weight, coef_init, intercept_init)\u001b[0m\n\u001b[1;32m    398\u001b[0m                                  \u001b[0mlearning_rate\u001b[0m\u001b[0;34m=\u001b[0m\u001b[0mlearning_rate\u001b[0m\u001b[0;34m,\u001b[0m\u001b[0;34m\u001b[0m\u001b[0m\n\u001b[1;32m    399\u001b[0m                                  \u001b[0msample_weight\u001b[0m\u001b[0;34m=\u001b[0m\u001b[0msample_weight\u001b[0m\u001b[0;34m,\u001b[0m\u001b[0;34m\u001b[0m\u001b[0m\n\u001b[0;32m--> 400\u001b[0;31m                                  max_iter=max_iter)\n\u001b[0m\u001b[1;32m    401\u001b[0m         \u001b[0;32melif\u001b[0m \u001b[0mn_classes\u001b[0m \u001b[0;34m==\u001b[0m \u001b[0;36m2\u001b[0m\u001b[0;34m:\u001b[0m\u001b[0;34m\u001b[0m\u001b[0m\n\u001b[1;32m    402\u001b[0m             self._fit_binary(X, y, alpha=alpha, C=C,\n",
      "\u001b[0;32m~/anaconda3/lib/python3.6/site-packages/sklearn/linear_model/stochastic_gradient.py\u001b[0m in \u001b[0;36m_fit_multiclass\u001b[0;34m(self, X, y, alpha, C, learning_rate, sample_weight, max_iter)\u001b[0m\n\u001b[1;32m    491\u001b[0m                                 \u001b[0mmax_iter\u001b[0m\u001b[0;34m,\u001b[0m \u001b[0mself\u001b[0m\u001b[0;34m.\u001b[0m\u001b[0m_expanded_class_weight\u001b[0m\u001b[0;34m[\u001b[0m\u001b[0mi\u001b[0m\u001b[0;34m]\u001b[0m\u001b[0;34m,\u001b[0m\u001b[0;34m\u001b[0m\u001b[0m\n\u001b[1;32m    492\u001b[0m                                 1., sample_weight)\n\u001b[0;32m--> 493\u001b[0;31m             for i in range(len(self.classes_)))\n\u001b[0m\u001b[1;32m    494\u001b[0m \u001b[0;34m\u001b[0m\u001b[0m\n\u001b[1;32m    495\u001b[0m         \u001b[0;31m# take the maximum of n_iter_ over every binary fit\u001b[0m\u001b[0;34m\u001b[0m\u001b[0;34m\u001b[0m\u001b[0m\n",
      "\u001b[0;32m~/anaconda3/lib/python3.6/site-packages/sklearn/externals/joblib/parallel.py\u001b[0m in \u001b[0;36m__call__\u001b[0;34m(self, iterable)\u001b[0m\n\u001b[1;32m    795\u001b[0m         \u001b[0;32mfinally\u001b[0m\u001b[0;34m:\u001b[0m\u001b[0;34m\u001b[0m\u001b[0m\n\u001b[1;32m    796\u001b[0m             \u001b[0;32mif\u001b[0m \u001b[0;32mnot\u001b[0m \u001b[0mself\u001b[0m\u001b[0;34m.\u001b[0m\u001b[0m_managed_backend\u001b[0m\u001b[0;34m:\u001b[0m\u001b[0;34m\u001b[0m\u001b[0m\n\u001b[0;32m--> 797\u001b[0;31m                 \u001b[0mself\u001b[0m\u001b[0;34m.\u001b[0m\u001b[0m_terminate_backend\u001b[0m\u001b[0;34m(\u001b[0m\u001b[0;34m)\u001b[0m\u001b[0;34m\u001b[0m\u001b[0m\n\u001b[0m\u001b[1;32m    798\u001b[0m             \u001b[0mself\u001b[0m\u001b[0;34m.\u001b[0m\u001b[0m_jobs\u001b[0m \u001b[0;34m=\u001b[0m \u001b[0mlist\u001b[0m\u001b[0;34m(\u001b[0m\u001b[0;34m)\u001b[0m\u001b[0;34m\u001b[0m\u001b[0m\n\u001b[1;32m    799\u001b[0m         \u001b[0moutput\u001b[0m \u001b[0;34m=\u001b[0m \u001b[0mself\u001b[0m\u001b[0;34m.\u001b[0m\u001b[0m_output\u001b[0m\u001b[0;34m\u001b[0m\u001b[0m\n",
      "\u001b[0;32m~/anaconda3/lib/python3.6/site-packages/sklearn/externals/joblib/parallel.py\u001b[0m in \u001b[0;36m_terminate_backend\u001b[0;34m(self)\u001b[0m\n\u001b[1;32m    568\u001b[0m     \u001b[0;32mdef\u001b[0m \u001b[0m_terminate_backend\u001b[0m\u001b[0;34m(\u001b[0m\u001b[0mself\u001b[0m\u001b[0;34m)\u001b[0m\u001b[0;34m:\u001b[0m\u001b[0;34m\u001b[0m\u001b[0m\n\u001b[1;32m    569\u001b[0m         \u001b[0;32mif\u001b[0m \u001b[0mself\u001b[0m\u001b[0;34m.\u001b[0m\u001b[0m_backend\u001b[0m \u001b[0;32mis\u001b[0m \u001b[0;32mnot\u001b[0m \u001b[0;32mNone\u001b[0m\u001b[0;34m:\u001b[0m\u001b[0;34m\u001b[0m\u001b[0m\n\u001b[0;32m--> 570\u001b[0;31m             \u001b[0mself\u001b[0m\u001b[0;34m.\u001b[0m\u001b[0m_backend\u001b[0m\u001b[0;34m.\u001b[0m\u001b[0mterminate\u001b[0m\u001b[0;34m(\u001b[0m\u001b[0;34m)\u001b[0m\u001b[0;34m\u001b[0m\u001b[0m\n\u001b[0m\u001b[1;32m    571\u001b[0m \u001b[0;34m\u001b[0m\u001b[0m\n\u001b[1;32m    572\u001b[0m     \u001b[0;32mdef\u001b[0m \u001b[0m_dispatch\u001b[0m\u001b[0;34m(\u001b[0m\u001b[0mself\u001b[0m\u001b[0;34m,\u001b[0m \u001b[0mbatch\u001b[0m\u001b[0;34m)\u001b[0m\u001b[0;34m:\u001b[0m\u001b[0;34m\u001b[0m\u001b[0m\n",
      "\u001b[0;32m~/anaconda3/lib/python3.6/site-packages/sklearn/externals/joblib/_parallel_backends.py\u001b[0m in \u001b[0;36mterminate\u001b[0;34m(self)\u001b[0m\n\u001b[1;32m    134\u001b[0m         \u001b[0;32mif\u001b[0m \u001b[0mself\u001b[0m\u001b[0;34m.\u001b[0m\u001b[0m_pool\u001b[0m \u001b[0;32mis\u001b[0m \u001b[0;32mnot\u001b[0m \u001b[0;32mNone\u001b[0m\u001b[0;34m:\u001b[0m\u001b[0;34m\u001b[0m\u001b[0m\n\u001b[1;32m    135\u001b[0m             \u001b[0mself\u001b[0m\u001b[0;34m.\u001b[0m\u001b[0m_pool\u001b[0m\u001b[0;34m.\u001b[0m\u001b[0mclose\u001b[0m\u001b[0;34m(\u001b[0m\u001b[0;34m)\u001b[0m\u001b[0;34m\u001b[0m\u001b[0m\n\u001b[0;32m--> 136\u001b[0;31m             \u001b[0mself\u001b[0m\u001b[0;34m.\u001b[0m\u001b[0m_pool\u001b[0m\u001b[0;34m.\u001b[0m\u001b[0mterminate\u001b[0m\u001b[0;34m(\u001b[0m\u001b[0;34m)\u001b[0m  \u001b[0;31m# terminate does a join()\u001b[0m\u001b[0;34m\u001b[0m\u001b[0m\n\u001b[0m\u001b[1;32m    137\u001b[0m             \u001b[0mself\u001b[0m\u001b[0;34m.\u001b[0m\u001b[0m_pool\u001b[0m \u001b[0;34m=\u001b[0m \u001b[0;32mNone\u001b[0m\u001b[0;34m\u001b[0m\u001b[0m\n\u001b[1;32m    138\u001b[0m \u001b[0;34m\u001b[0m\u001b[0m\n",
      "\u001b[0;32m~/anaconda3/lib/python3.6/multiprocessing/pool.py\u001b[0m in \u001b[0;36mterminate\u001b[0;34m(self)\u001b[0m\n\u001b[1;32m    539\u001b[0m         \u001b[0mself\u001b[0m\u001b[0;34m.\u001b[0m\u001b[0m_state\u001b[0m \u001b[0;34m=\u001b[0m \u001b[0mTERMINATE\u001b[0m\u001b[0;34m\u001b[0m\u001b[0m\n\u001b[1;32m    540\u001b[0m         \u001b[0mself\u001b[0m\u001b[0;34m.\u001b[0m\u001b[0m_worker_handler\u001b[0m\u001b[0;34m.\u001b[0m\u001b[0m_state\u001b[0m \u001b[0;34m=\u001b[0m \u001b[0mTERMINATE\u001b[0m\u001b[0;34m\u001b[0m\u001b[0m\n\u001b[0;32m--> 541\u001b[0;31m         \u001b[0mself\u001b[0m\u001b[0;34m.\u001b[0m\u001b[0m_terminate\u001b[0m\u001b[0;34m(\u001b[0m\u001b[0;34m)\u001b[0m\u001b[0;34m\u001b[0m\u001b[0m\n\u001b[0m\u001b[1;32m    542\u001b[0m \u001b[0;34m\u001b[0m\u001b[0m\n\u001b[1;32m    543\u001b[0m     \u001b[0;32mdef\u001b[0m \u001b[0mjoin\u001b[0m\u001b[0;34m(\u001b[0m\u001b[0mself\u001b[0m\u001b[0;34m)\u001b[0m\u001b[0;34m:\u001b[0m\u001b[0;34m\u001b[0m\u001b[0m\n",
      "\u001b[0;32m~/anaconda3/lib/python3.6/multiprocessing/util.py\u001b[0m in \u001b[0;36m__call__\u001b[0;34m(self, wr, _finalizer_registry, sub_debug, getpid)\u001b[0m\n\u001b[1;32m    184\u001b[0m                 sub_debug('finalizer calling %s with args %s and kwargs %s',\n\u001b[1;32m    185\u001b[0m                           self._callback, self._args, self._kwargs)\n\u001b[0;32m--> 186\u001b[0;31m                 \u001b[0mres\u001b[0m \u001b[0;34m=\u001b[0m \u001b[0mself\u001b[0m\u001b[0;34m.\u001b[0m\u001b[0m_callback\u001b[0m\u001b[0;34m(\u001b[0m\u001b[0;34m*\u001b[0m\u001b[0mself\u001b[0m\u001b[0;34m.\u001b[0m\u001b[0m_args\u001b[0m\u001b[0;34m,\u001b[0m \u001b[0;34m**\u001b[0m\u001b[0mself\u001b[0m\u001b[0;34m.\u001b[0m\u001b[0m_kwargs\u001b[0m\u001b[0;34m)\u001b[0m\u001b[0;34m\u001b[0m\u001b[0m\n\u001b[0m\u001b[1;32m    187\u001b[0m             \u001b[0mself\u001b[0m\u001b[0;34m.\u001b[0m\u001b[0m_weakref\u001b[0m \u001b[0;34m=\u001b[0m \u001b[0mself\u001b[0m\u001b[0;34m.\u001b[0m\u001b[0m_callback\u001b[0m \u001b[0;34m=\u001b[0m \u001b[0mself\u001b[0m\u001b[0;34m.\u001b[0m\u001b[0m_args\u001b[0m \u001b[0;34m=\u001b[0m\u001b[0;31m \u001b[0m\u001b[0;31m\\\u001b[0m\u001b[0;34m\u001b[0m\u001b[0m\n\u001b[1;32m    188\u001b[0m                             \u001b[0mself\u001b[0m\u001b[0;34m.\u001b[0m\u001b[0m_kwargs\u001b[0m \u001b[0;34m=\u001b[0m \u001b[0mself\u001b[0m\u001b[0;34m.\u001b[0m\u001b[0m_key\u001b[0m \u001b[0;34m=\u001b[0m \u001b[0;32mNone\u001b[0m\u001b[0;34m\u001b[0m\u001b[0m\n",
      "\u001b[0;32m~/anaconda3/lib/python3.6/multiprocessing/pool.py\u001b[0m in \u001b[0;36m_terminate_pool\u001b[0;34m(cls, taskqueue, inqueue, outqueue, pool, worker_handler, task_handler, result_handler, cache)\u001b[0m\n\u001b[1;32m    580\u001b[0m         \u001b[0mutil\u001b[0m\u001b[0;34m.\u001b[0m\u001b[0mdebug\u001b[0m\u001b[0;34m(\u001b[0m\u001b[0;34m'joining worker handler'\u001b[0m\u001b[0;34m)\u001b[0m\u001b[0;34m\u001b[0m\u001b[0m\n\u001b[1;32m    581\u001b[0m         \u001b[0;32mif\u001b[0m \u001b[0mthreading\u001b[0m\u001b[0;34m.\u001b[0m\u001b[0mcurrent_thread\u001b[0m\u001b[0;34m(\u001b[0m\u001b[0;34m)\u001b[0m \u001b[0;32mis\u001b[0m \u001b[0;32mnot\u001b[0m \u001b[0mworker_handler\u001b[0m\u001b[0;34m:\u001b[0m\u001b[0;34m\u001b[0m\u001b[0m\n\u001b[0;32m--> 582\u001b[0;31m             \u001b[0mworker_handler\u001b[0m\u001b[0;34m.\u001b[0m\u001b[0mjoin\u001b[0m\u001b[0;34m(\u001b[0m\u001b[0;34m)\u001b[0m\u001b[0;34m\u001b[0m\u001b[0m\n\u001b[0m\u001b[1;32m    583\u001b[0m \u001b[0;34m\u001b[0m\u001b[0m\n\u001b[1;32m    584\u001b[0m         \u001b[0;31m# Terminate workers which haven't already finished.\u001b[0m\u001b[0;34m\u001b[0m\u001b[0;34m\u001b[0m\u001b[0m\n",
      "\u001b[0;32m~/anaconda3/lib/python3.6/threading.py\u001b[0m in \u001b[0;36mjoin\u001b[0;34m(self, timeout)\u001b[0m\n\u001b[1;32m   1054\u001b[0m \u001b[0;34m\u001b[0m\u001b[0m\n\u001b[1;32m   1055\u001b[0m         \u001b[0;32mif\u001b[0m \u001b[0mtimeout\u001b[0m \u001b[0;32mis\u001b[0m \u001b[0;32mNone\u001b[0m\u001b[0;34m:\u001b[0m\u001b[0;34m\u001b[0m\u001b[0m\n\u001b[0;32m-> 1056\u001b[0;31m             \u001b[0mself\u001b[0m\u001b[0;34m.\u001b[0m\u001b[0m_wait_for_tstate_lock\u001b[0m\u001b[0;34m(\u001b[0m\u001b[0;34m)\u001b[0m\u001b[0;34m\u001b[0m\u001b[0m\n\u001b[0m\u001b[1;32m   1057\u001b[0m         \u001b[0;32melse\u001b[0m\u001b[0;34m:\u001b[0m\u001b[0;34m\u001b[0m\u001b[0m\n\u001b[1;32m   1058\u001b[0m             \u001b[0;31m# the behavior of a negative timeout isn't documented, but\u001b[0m\u001b[0;34m\u001b[0m\u001b[0;34m\u001b[0m\u001b[0m\n",
      "\u001b[0;32m~/anaconda3/lib/python3.6/threading.py\u001b[0m in \u001b[0;36m_wait_for_tstate_lock\u001b[0;34m(self, block, timeout)\u001b[0m\n\u001b[1;32m   1070\u001b[0m         \u001b[0;32mif\u001b[0m \u001b[0mlock\u001b[0m \u001b[0;32mis\u001b[0m \u001b[0;32mNone\u001b[0m\u001b[0;34m:\u001b[0m  \u001b[0;31m# already determined that the C code is done\u001b[0m\u001b[0;34m\u001b[0m\u001b[0m\n\u001b[1;32m   1071\u001b[0m             \u001b[0;32massert\u001b[0m \u001b[0mself\u001b[0m\u001b[0;34m.\u001b[0m\u001b[0m_is_stopped\u001b[0m\u001b[0;34m\u001b[0m\u001b[0m\n\u001b[0;32m-> 1072\u001b[0;31m         \u001b[0;32melif\u001b[0m \u001b[0mlock\u001b[0m\u001b[0;34m.\u001b[0m\u001b[0macquire\u001b[0m\u001b[0;34m(\u001b[0m\u001b[0mblock\u001b[0m\u001b[0;34m,\u001b[0m \u001b[0mtimeout\u001b[0m\u001b[0;34m)\u001b[0m\u001b[0;34m:\u001b[0m\u001b[0;34m\u001b[0m\u001b[0m\n\u001b[0m\u001b[1;32m   1073\u001b[0m             \u001b[0mlock\u001b[0m\u001b[0;34m.\u001b[0m\u001b[0mrelease\u001b[0m\u001b[0;34m(\u001b[0m\u001b[0;34m)\u001b[0m\u001b[0;34m\u001b[0m\u001b[0m\n\u001b[1;32m   1074\u001b[0m             \u001b[0mself\u001b[0m\u001b[0;34m.\u001b[0m\u001b[0m_stop\u001b[0m\u001b[0;34m(\u001b[0m\u001b[0;34m)\u001b[0m\u001b[0;34m\u001b[0m\u001b[0m\n",
      "\u001b[0;31mKeyboardInterrupt\u001b[0m: "
     ]
    }
   ],
   "source": [
    "my_perc.train(X, y, percentage=0.8, std=False, loss='log', penalty='none', alpha=1e-6,\n",
    "          power_t=0.7, max_iter=8000, it_interval=100, learning_rate='constant', eta0=1e-8,\n",
    "          threshold_unbalanced=0.6, class_weight={2: 2.00, 1: 1.55, 0: 4.0})"
   ]
  },
  {
   "cell_type": "code",
   "execution_count": 22,
   "metadata": {},
   "outputs": [
    {
     "data": {
      "text/plain": [
       "array([0., 0., 0., 0., 0., 0., 0., 0., 0., 0., 0., 0., 0., 0., 0., 0., 0.,\n",
       "       0., 0., 0., 0., 0., 0., 0., 0., 0., 0., 0., 0., 0., 0., 0., 0., 0.,\n",
       "       0., 0., 0., 0., 0., 0., 0., 0., 0., 0., 0., 0., 0., 0., 0., 0., 0.,\n",
       "       0., 0., 0., 0., 0., 0., 0., 0., 0., 0., 0., 0., 0., 0., 0., 0., 0.,\n",
       "       0., 0., 0., 0., 0., 0., 0., 0., 0., 0., 0., 0., 0., 0., 0., 0., 0.,\n",
       "       0., 0., 0., 0., 0., 0., 0., 0., 0., 0., 0., 0., 0., 0., 0., 0., 0.,\n",
       "       0., 0., 0., 0., 0., 0., 0., 0., 0., 0., 0., 0., 0., 0., 0., 0., 0.,\n",
       "       0.])"
      ]
     },
     "execution_count": 22,
     "metadata": {},
     "output_type": "execute_result"
    }
   ],
   "source": [
    "my_perc.predict(X,y)"
   ]
  },
  {
   "cell_type": "code",
   "execution_count": 23,
   "metadata": {},
   "outputs": [],
   "source": [
    "df = df_clean.copy()\n",
    "#df.dropna(axis=0, how='any', subset=['Urban'], inplace=True)\n",
    "\n",
    "#merge some age ranges together\n",
    "#dict_numage_to_agecat = {i : int(100*i//40) for i in df[\"NumericAge\"].unique()}\n",
    "X = df[traffic_columns]\n",
    "#unbalanced?\n",
    "#np.bincount(y[~np.isnan(y)].astype(int))\n",
    "y = df['Urban'].map(lambda x: int(x), na_action = 'ignore')\n",
    "my_perc = perc()"
   ]
  },
  {
   "cell_type": "code",
   "execution_count": 24,
   "metadata": {},
   "outputs": [
    {
     "name": "stdout",
     "output_type": "stream",
     "text": [
      "Warning: missing data found and removed. Old input shape: 2000, 14, new input shape: 1654, 14\n",
      "run=1 tscore=0.442835 vscore=0.403509\n",
      "run=2 tscore=0.442835 vscore=0.403509\n",
      "run=3 tscore=0.442835 vscore=0.403509\n",
      "run=4 tscore=0.442835 vscore=0.403509\n",
      "run=5 tscore=0.442835 vscore=0.403509\n",
      "run=6 tscore=0.442835 vscore=0.403509\n",
      "run=7 tscore=0.442835 vscore=0.403509\n",
      "run=8 tscore=0.442835 vscore=0.403509\n",
      "run=9 tscore=0.442835 vscore=0.403509\n",
      "run=10 tscore=0.442835 vscore=0.403509\n",
      "run=11 tscore=0.442835 vscore=0.403509\n",
      "run=12 tscore=0.442835 vscore=0.403509\n",
      "run=13 tscore=0.442835 vscore=0.403509\n",
      "run=14 tscore=0.442835 vscore=0.403509\n",
      "run=15 tscore=0.442835 vscore=0.403509\n",
      "run=16 tscore=0.442835 vscore=0.403509\n",
      "run=17 tscore=0.442835 vscore=0.403509\n",
      "run=18 tscore=0.442835 vscore=0.403509\n",
      "run=19 tscore=0.442835 vscore=0.403509\n",
      "run=20 tscore=0.442835 vscore=0.403509\n",
      "run=21 tscore=0.442835 vscore=0.403509\n",
      "run=22 tscore=0.442835 vscore=0.403509\n",
      "run=23 tscore=0.442835 vscore=0.403509\n",
      "run=24 tscore=0.442835 vscore=0.403509\n",
      "run=25 tscore=0.442835 vscore=0.403509\n",
      "run=26 tscore=0.442835 vscore=0.403509\n",
      "run=27 tscore=0.442835 vscore=0.403509\n",
      "run=28 tscore=0.442835 vscore=0.403509\n",
      "run=29 tscore=0.442835 vscore=0.403509\n",
      "run=30 tscore=0.442835 vscore=0.403509\n",
      "run=31 tscore=0.442835 vscore=0.403509\n",
      "run=32 tscore=0.442835 vscore=0.403509\n",
      "run=33 tscore=0.442835 vscore=0.403509\n",
      "run=34 tscore=0.442835 vscore=0.403509\n",
      "run=35 tscore=0.442835 vscore=0.403509\n",
      "run=36 tscore=0.442835 vscore=0.403509\n",
      "run=37 tscore=0.442835 vscore=0.403509\n",
      "run=38 tscore=0.442835 vscore=0.403509\n",
      "run=39 tscore=0.442835 vscore=0.403509\n",
      "run=40 tscore=0.442835 vscore=0.403509\n",
      "run=41 tscore=0.442835 vscore=0.403509\n",
      "run=42 tscore=0.442835 vscore=0.403509\n",
      "run=43 tscore=0.442835 vscore=0.403509\n",
      "run=44 tscore=0.442835 vscore=0.403509\n",
      "run=45 tscore=0.442835 vscore=0.403509\n",
      "run=46 tscore=0.442835 vscore=0.403509\n",
      "run=47 tscore=0.442835 vscore=0.403509\n",
      "run=48 tscore=0.442835 vscore=0.403509\n",
      "run=49 tscore=0.442835 vscore=0.403509\n",
      "run=50 tscore=0.442835 vscore=0.403509\n"
     ]
    },
    {
     "data": {
      "image/png": "[encoded data removed]",
      "text/plain": [
       "<matplotlib.figure.Figure at 0x1a0f6aada0>"
      ]
     },
     "metadata": {},
     "output_type": "display_data"
    }
   ],
   "source": [
    "my_perc.train(X, y, percentage=0.8, std=False, loss='hinge', penalty='none', alpha=1e-4,\n",
    "          power_t=0.5, max_iter=5000, it_interval=100, learning_rate='constant', eta0=1e-8,\n",
    "          threshold_unbalanced=0.6, class_weight=None)"
   ]
  },
  {
   "cell_type": "code",
   "execution_count": 25,
   "metadata": {},
   "outputs": [],
   "source": [
    "df = df_clean.copy()\n",
    "\n",
    "X = df[traffic_columns]\n",
    "y = df['OS_clean']\n",
    "my_perc = perc()"
   ]
  },
  {
   "cell_type": "code",
   "execution_count": 26,
   "metadata": {},
   "outputs": [
    {
     "name": "stdout",
     "output_type": "stream",
     "text": [
      "Warning: missing data found and removed. Old input shape: 2000, 14, new input shape: 1452, 14\n",
      "Performed standardization\n",
      "run=1 tscore=0.25475 vscore=0.265306\n",
      "run=2 tscore=0.255613 vscore=0.265306\n",
      "run=3 tscore=0.260794 vscore=0.268707\n",
      "run=4 tscore=0.265112 vscore=0.272109\n",
      "run=5 tscore=0.26943 vscore=0.278912\n",
      "run=6 tscore=0.272021 vscore=0.289116\n",
      "run=7 tscore=0.276339 vscore=0.292517\n",
      "run=8 tscore=0.279793 vscore=0.295918\n",
      "run=9 tscore=0.284974 vscore=0.295918\n",
      "run=10 tscore=0.288428 vscore=0.29932\n",
      "run=11 tscore=0.291019 vscore=0.302721\n",
      "run=12 tscore=0.294473 vscore=0.309524\n",
      "run=13 tscore=0.297927 vscore=0.316327\n",
      "run=14 tscore=0.303109 vscore=0.312925\n",
      "run=15 tscore=0.30829 vscore=0.316327\n",
      "run=16 tscore=0.312608 vscore=0.319728\n",
      "run=17 tscore=0.316062 vscore=0.319728\n",
      "run=18 tscore=0.321244 vscore=0.323129\n",
      "run=19 tscore=0.323834 vscore=0.329932\n",
      "run=20 tscore=0.324698 vscore=0.333333\n",
      "run=21 tscore=0.328152 vscore=0.333333\n",
      "run=22 tscore=0.334197 vscore=0.340136\n",
      "run=23 tscore=0.337651 vscore=0.336735\n",
      "run=24 tscore=0.341105 vscore=0.346939\n",
      "run=25 tscore=0.34456 vscore=0.353741\n",
      "run=26 tscore=0.346287 vscore=0.363946\n",
      "run=27 tscore=0.351468 vscore=0.370748\n",
      "run=28 tscore=0.356649 vscore=0.380952\n",
      "run=29 tscore=0.358377 vscore=0.384354\n",
      "run=30 tscore=0.363558 vscore=0.394558\n",
      "run=31 tscore=0.370466 vscore=0.394558\n",
      "run=32 tscore=0.374784 vscore=0.401361\n",
      "run=33 tscore=0.385147 vscore=0.414966\n",
      "run=34 tscore=0.388601 vscore=0.418367\n",
      "run=35 tscore=0.393782 vscore=0.421769\n",
      "run=36 tscore=0.3981 vscore=0.431973\n",
      "run=37 tscore=0.408463 vscore=0.438776\n",
      "run=38 tscore=0.42228 vscore=0.44898\n",
      "run=39 tscore=0.425734 vscore=0.462585\n",
      "run=40 tscore=0.432642 vscore=0.462585\n",
      "run=41 tscore=0.439551 vscore=0.465986\n",
      "run=42 tscore=0.44905 vscore=0.472789\n",
      "run=43 tscore=0.458549 vscore=0.472789\n",
      "run=44 tscore=0.467185 vscore=0.479592\n",
      "run=45 tscore=0.472366 vscore=0.486395\n",
      "run=46 tscore=0.47582 vscore=0.493197\n",
      "run=47 tscore=0.481865 vscore=0.5\n",
      "run=48 tscore=0.489637 vscore=0.506803\n",
      "run=49 tscore=0.490501 vscore=0.510204\n",
      "run=50 tscore=0.494819 vscore=0.513605\n",
      "run=51 tscore=0.496546 vscore=0.513605\n",
      "run=52 tscore=0.497409 vscore=0.513605\n",
      "run=53 tscore=0.502591 vscore=0.517007\n",
      "run=54 tscore=0.504318 vscore=0.520408\n",
      "run=55 tscore=0.505181 vscore=0.52381\n",
      "run=56 tscore=0.506045 vscore=0.520408\n",
      "run=57 tscore=0.507772 vscore=0.52381\n",
      "run=58 tscore=0.508636 vscore=0.530612\n",
      "run=59 tscore=0.51209 vscore=0.527211\n",
      "run=60 tscore=0.51468 vscore=0.534014\n",
      "run=61 tscore=0.515544 vscore=0.534014\n",
      "run=62 tscore=0.518135 vscore=0.534014\n",
      "run=63 tscore=0.519862 vscore=0.534014\n",
      "run=64 tscore=0.518998 vscore=0.534014\n",
      "run=65 tscore=0.521589 vscore=0.537415\n",
      "run=66 tscore=0.522453 vscore=0.534014\n",
      "run=67 tscore=0.52677 vscore=0.534014\n",
      "run=68 tscore=0.527634 vscore=0.537415\n",
      "run=69 tscore=0.52677 vscore=0.537415\n",
      "run=70 tscore=0.52677 vscore=0.537415\n"
     ]
    },
    {
     "data": {
      "image/png": "[encoded data removed]",
      "text/plain": [
       "<matplotlib.figure.Figure at 0x1a0e88ddd8>"
      ]
     },
     "metadata": {},
     "output_type": "display_data"
    }
   ],
   "source": [
    "my_perc.train(X, y, percentage=0.8, std=True, loss='log', penalty='none', alpha=1e-4,\n",
    "          power_t=0.5, max_iter=7000, it_interval=100, learning_rate='constant', eta0=1e-8,\n",
    "          threshold_unbalanced=0.6, class_weight=None)"
   ]
  },
  {
   "cell_type": "code",
   "execution_count": 27,
   "metadata": {},
   "outputs": [
    {
     "name": "stdout",
     "output_type": "stream",
     "text": [
      "['0.2' '0.1' '0.3' '0.0' nan '0.5' '0.6' '0.4' '0.7' '0.9' '0.8' '1.0']\n"
     ]
    }
   ],
   "source": [
    "df = df_clean.copy()\n",
    "\n",
    "X = df[traffic_columns]\n",
    "\n",
    "y = df['DataAllowance'].map(lambda x: '%.1f'%x, na_action = 'ignore')\n",
    "print(y.unique())\n",
    "my_perc = perc()"
   ]
  },
  {
   "cell_type": "code",
   "execution_count": 29,
   "metadata": {
    "scrolled": true
   },
   "outputs": [
    {
     "name": "stdout",
     "output_type": "stream",
     "text": [
      "Warning: missing data found and removed. Old input shape: 2000, 14, new input shape: 1636, 14\n",
      "run=1 tscore=0.0726172 vscore=0.0764331\n",
      "run=2 tscore=0.0733737 vscore=0.0796178\n",
      "run=3 tscore=0.0741301 vscore=0.0796178\n",
      "run=4 tscore=0.0748865 vscore=0.0796178\n",
      "run=5 tscore=0.0763994 vscore=0.0796178\n",
      "run=6 tscore=0.0771558 vscore=0.0796178\n",
      "run=7 tscore=0.0801815 vscore=0.0796178\n",
      "run=8 tscore=0.080938 vscore=0.0828025\n",
      "run=9 tscore=0.0816944 vscore=0.0828025\n",
      "run=10 tscore=0.0839637 vscore=0.0859873\n",
      "run=11 tscore=0.0847201 vscore=0.0859873\n",
      "run=12 tscore=0.0877458 vscore=0.0859873\n",
      "run=13 tscore=0.0907716 vscore=0.089172\n",
      "run=14 tscore=0.0930408 vscore=0.0923567\n",
      "run=15 tscore=0.0930408 vscore=0.0955414\n",
      "run=16 tscore=0.0930408 vscore=0.0955414\n",
      "run=17 tscore=0.0945537 vscore=0.0955414\n",
      "run=18 tscore=0.0953101 vscore=0.0955414\n",
      "run=19 tscore=0.0990923 vscore=0.101911\n",
      "run=20 tscore=0.102118 vscore=0.101911\n",
      "run=21 tscore=0.106657 vscore=0.105096\n",
      "run=22 tscore=0.108926 vscore=0.10828\n",
      "run=23 tscore=0.111195 vscore=0.10828\n",
      "run=24 tscore=0.111195 vscore=0.117834\n",
      "run=25 tscore=0.120272 vscore=0.117834\n",
      "run=26 tscore=0.125567 vscore=0.127389\n",
      "run=27 tscore=0.135401 vscore=0.133758\n",
      "run=28 tscore=0.145991 vscore=0.143312\n",
      "run=29 tscore=0.152799 vscore=0.149682\n",
      "run=30 tscore=0.16112 vscore=0.165605\n",
      "run=31 tscore=0.170197 vscore=0.175159\n",
      "run=32 tscore=0.18003 vscore=0.181529\n",
      "run=33 tscore=0.195159 vscore=0.187898\n",
      "run=34 tscore=0.201967 vscore=0.191083\n",
      "run=35 tscore=0.211044 vscore=0.200637\n",
      "run=36 tscore=0.215582 vscore=0.197452\n",
      "run=37 tscore=0.218608 vscore=0.200637\n",
      "run=38 tscore=0.22239 vscore=0.200637\n",
      "run=39 tscore=0.223147 vscore=0.200637\n",
      "run=40 tscore=0.223147 vscore=0.200637\n",
      "run=41 tscore=0.225416 vscore=0.200637\n",
      "run=42 tscore=0.226172 vscore=0.200637\n",
      "run=43 tscore=0.226172 vscore=0.200637\n",
      "run=44 tscore=0.226929 vscore=0.200637\n",
      "run=45 tscore=0.226929 vscore=0.200637\n",
      "run=46 tscore=0.227685 vscore=0.200637\n",
      "run=47 tscore=0.227685 vscore=0.203822\n",
      "run=48 tscore=0.227685 vscore=0.207006\n",
      "run=49 tscore=0.228442 vscore=0.207006\n",
      "run=50 tscore=0.228442 vscore=0.207006\n",
      "run=51 tscore=0.228442 vscore=0.207006\n",
      "run=52 tscore=0.228442 vscore=0.207006\n",
      "run=53 tscore=0.228442 vscore=0.207006\n",
      "run=54 tscore=0.228442 vscore=0.207006\n",
      "run=55 tscore=0.228442 vscore=0.207006\n",
      "run=56 tscore=0.229955 vscore=0.207006\n",
      "run=57 tscore=0.229955 vscore=0.207006\n",
      "run=58 tscore=0.229198 vscore=0.207006\n",
      "run=59 tscore=0.229198 vscore=0.203822\n",
      "run=60 tscore=0.229198 vscore=0.203822\n",
      "run=61 tscore=0.229955 vscore=0.203822\n",
      "run=62 tscore=0.230711 vscore=0.203822\n",
      "run=63 tscore=0.231467 vscore=0.203822\n",
      "run=64 tscore=0.232224 vscore=0.203822\n",
      "run=65 tscore=0.232224 vscore=0.203822\n",
      "run=66 tscore=0.234493 vscore=0.203822\n",
      "run=67 tscore=0.236006 vscore=0.203822\n",
      "run=68 tscore=0.237519 vscore=0.207006\n",
      "run=69 tscore=0.239032 vscore=0.203822\n",
      "run=70 tscore=0.240545 vscore=0.200637\n",
      "run=71 tscore=0.24357 vscore=0.200637\n",
      "run=72 tscore=0.24584 vscore=0.200637\n",
      "run=73 tscore=0.247352 vscore=0.203822\n",
      "run=74 tscore=0.251891 vscore=0.213376\n",
      "run=75 tscore=0.255673 vscore=0.219745\n",
      "run=76 tscore=0.260212 vscore=0.219745\n",
      "run=77 tscore=0.263994 vscore=0.219745\n",
      "run=78 tscore=0.268533 vscore=0.219745\n",
      "run=79 tscore=0.270802 vscore=0.235669\n",
      "run=80 tscore=0.273828 vscore=0.257962\n"
     ]
    },
    {
     "data": {
      "image/png": "[encoded data removed]",
      "text/plain": [
       "<matplotlib.figure.Figure at 0x1a1be0c048>"
      ]
     },
     "metadata": {},
     "output_type": "display_data"
    }
   ],
   "source": [
    "my_perc.train(X, y, percentage=0.8, std=False, pca=0, loss='log', penalty='none', alpha=1e-4,\n",
    "          power_t=0.5, max_iter=8000, it_interval=100, learning_rate='constant', eta0=1e-6,\n",
    "          threshold_unbalanced=0.6, class_weight=None)"
   ]
  },
  {
   "cell_type": "markdown",
   "metadata": {},
   "source": [
    "### MLP"
   ]
  },
  {
   "cell_type": "code",
   "execution_count": 71,
   "metadata": {},
   "outputs": [],
   "source": [
    "df = df_clean.copy()\n",
    "\n",
    "X = df[traffic_columns]\n",
    "y = df['OS_clean']\n",
    "my_MLP = MLP()"
   ]
  },
  {
   "cell_type": "code",
   "execution_count": 72,
   "metadata": {},
   "outputs": [
    {
     "name": "stdout",
     "output_type": "stream",
     "text": [
      "Warning: missing data found and removed. Old input shape: 2000, 14, new input shape: 1452, 14\n",
      "Performed standardization\n",
      "performed PCA, number of features: 13, explained variance for component:\n",
      " ['0.13', '0.11', '0.10', '0.08', '0.08', '0.08', '0.08', '0.07', '0.07', '0.07', '0.07', '0.06', '0.00']\n",
      "epoch=0 loss=1.3025007508996251 tscore=0.6198979591836735 vscore=0.6413043478260869\n",
      "epoch=1 loss=0.954709428752404 tscore=0.7397959183673469 vscore=0.7246376811594203\n",
      "epoch=2 loss=0.8684875795423861 tscore=0.7653061224489796 vscore=0.7608695652173914\n",
      "epoch=3 loss=0.7554265250740622 tscore=0.7729591836734694 vscore=0.7608695652173914\n",
      "epoch=4 loss=0.6308654669735569 tscore=0.798469387755102 vscore=0.7789855072463768\n",
      "epoch=5 loss=0.6056353661834872 tscore=0.8180272108843537 vscore=0.7971014492753623\n",
      "epoch=6 loss=0.6045125592722693 tscore=0.8333333333333334 vscore=0.8007246376811594\n",
      "epoch=7 loss=0.5875185065952769 tscore=0.8418367346938775 vscore=0.8079710144927537\n",
      "epoch=8 loss=0.5304394332073776 tscore=0.8401360544217688 vscore=0.8260869565217391\n",
      "epoch=9 loss=0.4681736621341568 tscore=0.8477891156462585 vscore=0.7934782608695652\n",
      "epoch=10 loss=0.5284360349377171 tscore=0.8239795918367347 vscore=0.8260869565217391\n"
     ]
    },
    {
     "name": "stderr",
     "output_type": "stream",
     "text": [
      "/Users/Renato/anaconda3/lib/python3.6/site-packages/sklearn/neural_network/multilayer_perceptron.py:564: ConvergenceWarning: Stochastic Optimizer: Maximum iterations (1) reached and the optimization hasn't converged yet.\n",
      "  % self.max_iter, ConvergenceWarning)\n"
     ]
    },
    {
     "name": "stdout",
     "output_type": "stream",
     "text": [
      "epoch=11 loss=0.5276559730643758 tscore=0.8324829931972789 vscore=0.8442028985507246\n",
      "epoch=12 loss=0.4967872080168851 tscore=0.8469387755102041 vscore=0.8079710144927537\n",
      "epoch=13 loss=0.41516687646158223 tscore=0.8767006802721088 vscore=0.8514492753623188\n",
      "epoch=14 loss=0.4180881506235546 tscore=0.8469387755102041 vscore=0.8079710144927537\n",
      "epoch=15 loss=0.46266672145734233 tscore=0.8707482993197279 vscore=0.8442028985507246\n",
      "epoch=16 loss=0.38028869571824325 tscore=0.8571428571428571 vscore=0.8297101449275363\n",
      "epoch=17 loss=0.46655558407548814 tscore=0.8316326530612245 vscore=0.8260869565217391\n",
      "epoch=18 loss=0.45100574590578485 tscore=0.8579931972789115 vscore=0.8297101449275363\n",
      "epoch=19 loss=0.4440460991177129 tscore=0.8579931972789115 vscore=0.8369565217391305\n",
      "epoch=20 loss=0.43325929301773075 tscore=0.8852040816326531 vscore=0.8659420289855072\n",
      "epoch=21 loss=0.4048855394040196 tscore=0.8435374149659864 vscore=0.8043478260869565\n",
      "epoch=22 loss=0.5115010785519517 tscore=0.8409863945578231 vscore=0.8043478260869565\n",
      "epoch=23 loss=0.4789173537376471 tscore=0.8486394557823129 vscore=0.8188405797101449\n",
      "epoch=24 loss=0.44721898390608095 tscore=0.8724489795918368 vscore=0.855072463768116\n",
      "epoch=25 loss=0.3812347172788153 tscore=0.8707482993197279 vscore=0.8333333333333334\n",
      "epoch=26 loss=0.3798886152810424 tscore=0.8511904761904762 vscore=0.8333333333333334\n",
      "epoch=27 loss=0.40001354479479745 tscore=0.8571428571428571 vscore=0.8369565217391305\n",
      "epoch=28 loss=0.38199484785013144 tscore=0.8801020408163265 vscore=0.8442028985507246\n",
      "epoch=29 loss=0.37204944595043854 tscore=0.8826530612244898 vscore=0.8333333333333334\n",
      "epoch=30 loss=0.3401012648281422 tscore=0.8818027210884354 vscore=0.8514492753623188\n",
      "epoch=31 loss=0.34547211866200817 tscore=0.8826530612244898 vscore=0.855072463768116\n",
      "epoch=32 loss=0.4167819077120297 tscore=0.8920068027210885 vscore=0.8405797101449275\n",
      "epoch=33 loss=0.38805151716706543 tscore=0.8826530612244898 vscore=0.8369565217391305\n",
      "epoch=34 loss=0.3500274133284023 tscore=0.8835034013605442 vscore=0.8297101449275363\n",
      "epoch=35 loss=0.3447026910989599 tscore=0.8809523809523809 vscore=0.855072463768116\n",
      "epoch=36 loss=0.3584140713759604 tscore=0.8894557823129252 vscore=0.8586956521739131\n",
      "epoch=37 loss=0.34647513376387007 tscore=0.8877551020408163 vscore=0.855072463768116\n",
      "epoch=38 loss=0.40211328747575287 tscore=0.8724489795918368 vscore=0.8333333333333334\n",
      "epoch=39 loss=0.39573917055941116 tscore=0.8818027210884354 vscore=0.8623188405797102\n",
      "epoch=40 loss=0.3958020641160832 tscore=0.8826530612244898 vscore=0.8731884057971014\n",
      "epoch=41 loss=0.3803930304996618 tscore=0.891156462585034 vscore=0.8623188405797102\n",
      "epoch=42 loss=0.33589544408800814 tscore=0.8996598639455783 vscore=0.8731884057971014\n",
      "epoch=43 loss=0.3229289103130292 tscore=0.8860544217687075 vscore=0.8659420289855072\n",
      "epoch=44 loss=0.3048268596211169 tscore=0.9022108843537415 vscore=0.8768115942028986\n",
      "epoch=45 loss=0.3471583160582818 tscore=0.907312925170068 vscore=0.8731884057971014\n",
      "epoch=46 loss=0.38063809272288845 tscore=0.8920068027210885 vscore=0.8731884057971014\n",
      "epoch=47 loss=0.34038116066473806 tscore=0.8639455782312925 vscore=0.822463768115942\n",
      "epoch=48 loss=0.43680917201026764 tscore=0.8715986394557823 vscore=0.855072463768116\n",
      "epoch=49 loss=0.4401047973636345 tscore=0.8809523809523809 vscore=0.8514492753623188\n"
     ]
    },
    {
     "data": {
      "image/png": "[encoded data removed]",
      "text/plain": [
       "<matplotlib.figure.Figure at 0x1a0f6aaeb8>"
      ]
     },
     "metadata": {},
     "output_type": "display_data"
    }
   ],
   "source": [
    "my_MLP.train(X, y, percentage=0.8, std=True, pca=None, epochs=50, threshold_unbalanced=0.6, \n",
    "             hidden_layer_sizes = (200,), batch_size = 100, learning_rate_init=1e-1, solver = 'adam', \n",
    "             learning_rate = 'constant', momentum = 0.0, nesterovs_momentum = False,\n",
    "             alpha = 0.0, tol = -1)"
   ]
  },
  {
   "cell_type": "code",
   "execution_count": 73,
   "metadata": {},
   "outputs": [
    {
     "data": {
      "text/plain": [
       "array(['Android', 'Android', 'Android', 'Android', 'Android', 'Android',\n",
       "       'Android', 'Android', 'Android', 'Android', 'Android', 'Android',\n",
       "       'Android', 'Android', 'Android', 'Android', 'Android', 'Android',\n",
       "       'Android', 'Android', 'Android', 'Android', 'Android', 'Android',\n",
       "       'Android', 'Android', 'Android', 'Android', 'Android', 'Android',\n",
       "       'Android', 'Android', 'Android', 'Android', 'Android', 'Android',\n",
       "       'Android', 'Android', 'Android', 'Android', 'Android', 'Android',\n",
       "       'Android', 'Android', 'iOS', 'Android', 'Android', 'Android',\n",
       "       'Android', 'Android', 'Android', 'Android', 'Android', 'Android',\n",
       "       'Android', 'Android', 'Android', 'Android', 'Android', 'Android',\n",
       "       'Android', 'Android', 'Android', 'Android', 'Android', 'Android',\n",
       "       'Android', 'Android', 'Android', 'Android', 'Android', 'Android',\n",
       "       'Android', 'Android', 'Android', 'Android', 'Android', 'Android',\n",
       "       'Android', 'Android', 'Android', 'Android', 'Android', 'Android',\n",
       "       'Android', 'Android', 'Android', 'Android', 'Android', 'Android',\n",
       "       'Android', 'Android', 'Android', 'Android', 'Android', 'Android',\n",
       "       'Android', 'Android', 'Android', 'Android', 'Android', 'Android',\n",
       "       'Android', 'Android', 'Android', 'Android', 'Android', 'Android',\n",
       "       'Android', 'Android', 'Android', 'Android', 'Android', 'Android',\n",
       "       'Android', 'Android', 'Android', 'Android', 'Android', 'Android',\n",
       "       'Android', 'Android', 'Android', 'Android', 'Android', 'Android',\n",
       "       'Android', 'Android', 'Android', 'Android', 'Android', 'Android',\n",
       "       'Android', 'Android', 'Android', 'Android', 'Android', 'Android',\n",
       "       'Android', 'Android', 'Android', 'Android', 'Android', 'Android',\n",
       "       'Android', 'Android', 'Android', 'Android', 'Android', 'Android',\n",
       "       'Android', 'Android', 'Android', 'Android', 'Android', 'Android',\n",
       "       'Android', 'Android', 'Android', 'Android', 'Android', 'Android',\n",
       "       'Android', 'Android', 'Android', 'Android', 'Android', 'Android',\n",
       "       'Android', 'Android', 'Android', 'Android', 'Android', 'Android',\n",
       "       'Android', 'Android', 'Android', 'Android', 'Android', 'Android',\n",
       "       'Android', 'Android', 'Android', 'Android', 'Android', 'Android',\n",
       "       'Android', 'Android', 'Android', 'Android', 'Android', 'Android',\n",
       "       'Android', 'Android', 'Android', 'Android', 'iOS', 'Android',\n",
       "       'Android', 'Android', 'Android', 'Android', 'Android', 'Android',\n",
       "       'Android', 'Android', 'Android', 'Android', 'Android', 'Android',\n",
       "       'Android', 'Android', 'Android', 'Android', 'iOS', 'Android',\n",
       "       'Android', 'Android', 'Android', 'Android', 'Android', 'Android',\n",
       "       'Android', 'Android', 'Android', 'Android', 'Android', 'Android',\n",
       "       'Android', 'Android', 'Android', 'Android', 'Android', 'Android',\n",
       "       'Android', 'Android', 'Android', 'Android', 'Android', 'Android',\n",
       "       'Android', 'Android', 'Android', 'Android', 'Android', 'Android',\n",
       "       'Android', 'Android', 'Android', 'Android', 'Android', 'Android',\n",
       "       'Android', 'Android', 'Android', 'Android', 'Android', 'Android',\n",
       "       'Android', 'Android', 'Android', 'Android', 'Android', 'Android',\n",
       "       'Android', 'Android', 'Android', 'Android', 'Android', 'Android',\n",
       "       'Android', 'Android', 'Android', 'Android', 'Android', 'Android',\n",
       "       'Android', 'Android', 'Android', 'Android', 'Android', 'Android',\n",
       "       'Android', 'Android', 'Android', 'Android', 'Android', 'Android',\n",
       "       'Android', 'Android', 'Android', 'Android', 'Android', 'Android',\n",
       "       'iOS', 'Android', 'Android', 'Android', 'Android', 'Android',\n",
       "       'Android', 'Android', 'Android', 'Android', 'Android', 'Android',\n",
       "       'Android', 'iOS', 'Android', 'Android', 'Android', 'Android',\n",
       "       'Android', 'Android', 'Android', 'Android', 'Android', 'Android',\n",
       "       'Android', 'iOS', 'Android', 'Android', 'Android', 'Android',\n",
       "       'Android', 'Android', 'Android', 'Android', 'Android', 'Android',\n",
       "       'Android', 'Android', 'Android', 'Android', 'Android', 'Android',\n",
       "       'Android', 'Android', 'Android', 'Android', 'Android', 'Android',\n",
       "       'Android', 'Android', 'Android', 'Android', 'Android', 'Android',\n",
       "       'Android', 'Android', 'Android', 'Android', 'Android', 'Android',\n",
       "       'Android', 'Android', 'Android', 'iOS', 'Android', 'Android',\n",
       "       'Android', 'Android', 'Android', 'Android', 'Android', 'Android',\n",
       "       'Android', 'Android', 'Android', 'iOS', 'Android', 'Android',\n",
       "       'Android', 'Android', 'Android', 'Android', 'Android', 'Android',\n",
       "       'Android', 'Android', 'Android', 'Android', 'Android', 'Android',\n",
       "       'iOS', 'Android', 'Android', 'Android', 'Android', 'Android',\n",
       "       'Android', 'Android', 'Android', 'Android', 'Android', 'Android',\n",
       "       'Android', 'Android', 'Android', 'Android', 'Android', 'Android',\n",
       "       'Android', 'Android', 'Android', 'Android', 'Android', 'Android',\n",
       "       'Android', 'Android', 'iOS', 'Android', 'Android', 'Android',\n",
       "       'Android', 'Android', 'Android', 'Android', 'Android', 'Android',\n",
       "       'Android', 'Android', 'Android', 'Android', 'Android', 'Android',\n",
       "       'Android', 'Android', 'Android', 'Android', 'Android', 'Android',\n",
       "       'Android', 'Android', 'Android', 'Android', 'Android', 'Android',\n",
       "       'Android', 'Android', 'Android', 'Android', 'iOS', 'Android',\n",
       "       'Android', 'Android', 'Android', 'Android', 'Android', 'Android',\n",
       "       'Android', 'Android', 'Android', 'Android', 'Android', 'Android',\n",
       "       'Android', 'Android', 'Android', 'Android', 'Android', 'Android',\n",
       "       'Android', 'Android', 'Android', 'Android', 'Android', 'Android',\n",
       "       'Android', 'Android', 'Android', 'Android', 'Android', 'Android',\n",
       "       'Android', 'Android', 'Android', 'Android', 'Android', 'Android',\n",
       "       'Android', 'Android', 'Android', 'Android', 'Android', 'Android',\n",
       "       'Android', 'Android', 'Android', 'Android', 'Android', 'Android',\n",
       "       'iOS', 'Android', 'Android', 'Android', 'Android', 'Android',\n",
       "       'Android', 'iOS', 'Android', 'Android', 'Android', 'Android',\n",
       "       'Android', 'Android', 'Android', 'Android', 'Android', 'Android',\n",
       "       'Android', 'Android', 'Android', 'iOS', 'Android', 'Android',\n",
       "       'Android', 'Android', 'Android', 'Android', 'Android', 'Android',\n",
       "       'Android', 'Android', 'Android', 'Android', 'Android', 'iOS',\n",
       "       'iOS', 'Android', 'Android', 'Android', 'Android', 'Android',\n",
       "       'Android', 'Android', 'Android', 'Android', 'Android', 'Android',\n",
       "       'Android', 'Android', 'Android', 'Android', 'Android', 'Android',\n",
       "       'Android', 'Android'], dtype='<U7')"
      ]
     },
     "execution_count": 73,
     "metadata": {},
     "output_type": "execute_result"
    }
   ],
   "source": [
    "my_MLP.predict(X,y)"
   ]
  },
  {
   "cell_type": "code",
   "execution_count": 78,
   "metadata": {},
   "outputs": [
    {
     "data": {
      "text/plain": [
       "{'Android': 858, 'iOS': 568, nan: 548, 'other': 26}"
      ]
     },
     "execution_count": 78,
     "metadata": {},
     "output_type": "execute_result"
    }
   ],
   "source": [
    "a = df_clean['OS_clean'].copy()\n",
    "d = dict()\n",
    "for i in a:\n",
    "    d[i] = d.get(i, 0) + 1\n",
    "d"
   ]
  },
  {
   "cell_type": "markdown",
   "metadata": {},
   "source": [
    "# Logistic Regression"
   ]
  },
  {
   "cell_type": "code",
   "execution_count": 25,
   "metadata": {},
   "outputs": [],
   "source": [
    "df = df_clean.copy()\n",
    "\n",
    "X = df[traffic_columns]\n",
    "y = df['OS_clean']\n",
    "my_lr = LogisticRegression()"
   ]
  },
  {
   "cell_type": "code",
   "execution_count": 27,
   "metadata": {},
   "outputs": [
    {
     "ename": "TypeError",
     "evalue": "__init__() got an unexpected keyword argument 'penalty'",
     "output_type": "error",
     "traceback": [
      "\u001b[0;31m---------------------------------------------------------------------------\u001b[0m",
      "\u001b[0;31mTypeError\u001b[0m                                 Traceback (most recent call last)",
      "\u001b[0;32m<ipython-input-27-8fc03472c6cc>\u001b[0m in \u001b[0;36m<module>\u001b[0;34m()\u001b[0m\n\u001b[1;32m      1\u001b[0m my_lr.train(X, y, percentage=0.8, std=True, pca=None, epochs=50, threshold_unbalanced=0.6, \n\u001b[1;32m      2\u001b[0m             \u001b[0mpenalty\u001b[0m\u001b[0;34m=\u001b[0m\u001b[0;34m\"l2\"\u001b[0m\u001b[0;34m,\u001b[0m \u001b[0mdual\u001b[0m\u001b[0;34m=\u001b[0m\u001b[0;32mFalse\u001b[0m\u001b[0;34m,\u001b[0m \u001b[0mtol\u001b[0m\u001b[0;34m=\u001b[0m\u001b[0;36m0.0001\u001b[0m\u001b[0;34m,\u001b[0m \u001b[0mC\u001b[0m\u001b[0;34m=\u001b[0m\u001b[0;36m1.0\u001b[0m\u001b[0;34m,\u001b[0m \u001b[0mfit_intercept\u001b[0m\u001b[0;34m=\u001b[0m\u001b[0;32mTrue\u001b[0m\u001b[0;34m,\u001b[0m \u001b[0mintercept_scaling\u001b[0m\u001b[0;34m=\u001b[0m\u001b[0;36m1\u001b[0m\u001b[0;34m,\u001b[0m\u001b[0;34m\u001b[0m\u001b[0m\n\u001b[0;32m----> 3\u001b[0;31m             class_weight=None,  solver=\"newton-cg\", max_iter=100, multi_class=\"multinomial\")\n\u001b[0m",
      "\u001b[0;32m<ipython-input-24-f6f53bebd401>\u001b[0m in \u001b[0;36mtrain\u001b[0;34m(self, X, y, percentage, std, pca, threshold_unbalanced, epochs, **args)\u001b[0m\n\u001b[1;32m     50\u001b[0m \u001b[0;34m\u001b[0m\u001b[0m\n\u001b[1;32m     51\u001b[0m         \u001b[0;31m#create logistic regression\u001b[0m\u001b[0;34m\u001b[0m\u001b[0;34m\u001b[0m\u001b[0m\n\u001b[0;32m---> 52\u001b[0;31m         \u001b[0mlog_regr_\u001b[0m \u001b[0;34m=\u001b[0m \u001b[0mLogisticRegression\u001b[0m\u001b[0;34m(\u001b[0m\u001b[0;34m**\u001b[0m\u001b[0margs\u001b[0m\u001b[0;34m)\u001b[0m\u001b[0;34m\u001b[0m\u001b[0m\n\u001b[0m\u001b[1;32m     53\u001b[0m \u001b[0;34m\u001b[0m\u001b[0m\n\u001b[1;32m     54\u001b[0m         \u001b[0mparam_warm\u001b[0m \u001b[0;34m=\u001b[0m \u001b[0;34m(\u001b[0m\u001b[0mlog_regr_\u001b[0m\u001b[0;34m,\u001b[0m \u001b[0mX\u001b[0m\u001b[0;34m,\u001b[0m \u001b[0my\u001b[0m\u001b[0;34m,\u001b[0m \u001b[0mpercentage\u001b[0m\u001b[0;34m,\u001b[0m \u001b[0mepochs\u001b[0m\u001b[0;34m,\u001b[0m \u001b[0mstd\u001b[0m\u001b[0;34m,\u001b[0m \u001b[0mpca\u001b[0m\u001b[0;34m)\u001b[0m\u001b[0;34m\u001b[0m\u001b[0m\n",
      "\u001b[0;31mTypeError\u001b[0m: __init__() got an unexpected keyword argument 'penalty'"
     ]
    }
   ],
   "source": [
    "my_lr.train(X, y, percentage=0.8, std=True, pca=None, epochs=50, threshold_unbalanced=0.6, \n",
    "            penalty=\"l2\", dual=False, tol=0.0001, C=1.0, fit_intercept=True, intercept_scaling=1, \n",
    "            class_weight=None,  solver=\"newton-cg\", max_iter=100, multi_class=\"multinomial\")"
   ]
  },
  {
   "cell_type": "code",
   "execution_count": null,
   "metadata": {},
   "outputs": [],
   "source": []
  }
 ],
 "metadata": {
  "kernelspec": {
   "display_name": "Python 3",
   "language": "python",
   "name": "python3"
  },
  "language_info": {
   "codemirror_mode": {
    "name": "ipython",
    "version": 3
   },
   "file_extension": ".py",
   "mimetype": "text/x-python",
   "name": "python",
   "nbconvert_exporter": "python",
   "pygments_lexer": "ipython3",
   "version": "3.6.4"
  }
 },
 "nbformat": 4,
 "nbformat_minor": 2
}
