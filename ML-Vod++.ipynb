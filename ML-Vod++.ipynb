{
 "cells": [
  {
   "cell_type": "markdown",
   "metadata": {},
   "source": [
    "# Vodafone Challenge\n",
    "## Scrap notebook\n",
    "- **Separate each test** you make with a markdown cell like this one (press M when the cursor is on a cell but it is not editing). \n",
    "- Put a **small description** on what you are doing and why you do so (like if you manipulate data in a specific way, or apply a particular definition of distance, write the intuition behind. Both for you to remmember later and for team members)\n",
    "- Make sure you are working with the **proper data** i.e. the data (and their transformation) that you with to use are defined before you do the analysis. Bugs could appear if you do not define something and Python retrieves older values for the variables you are using.\n",
    "- **Do not modify df_backup**, always work with a copy [like df = df_backup.copy()]\n",
    "- Add short line of description in the Summary section\n",
    "- For each test, write briefly which value of the parameter tried (like learning rate constant, tried eta0 large (10^-2) not well, smaller (10^-7) seem to work best. Then changed with learning rate adaptivive [which?] and tried ... large (10^-2) worked best).\n",
    "\n",
    "**For the best test, build pipeline: bulleted version of all things done on the dataset until the result. It could be a useful thing to do for each test actually**"
   ]
  },
  {
   "cell_type": "markdown",
   "metadata": {},
   "source": [
    "## Summary\n",
    "\n",
    "1. **K-means on traffic data**: tested for different k's, both standardized and not. Performs poorly.\n",
    "2. **preprocessing zip-urb** (Abetone, Montoro, Ginosa, Capannori, Vigo di Fassa, Scarpiera e San Piero)"
   ]
  },
  {
   "cell_type": "markdown",
   "metadata": {},
   "source": [
    "## Code\n",
    "### *setup*"
   ]
  },
  {
   "cell_type": "code",
   "execution_count": 100,
   "metadata": {
    "collapsed": true
   },
   "outputs": [],
   "source": [
    "%matplotlib inline\n",
    "\n",
    "import pandas as pd\n",
    "import numpy as np\n",
    "import matplotlib.pyplot as plt\n",
    "\n",
    "from sklearn.neighbors import KNeighborsClassifier\n",
    "from sklearn.decomposition import PCA\n",
    "\n",
    "from sklearn.linear_model import SGDClassifier\n",
    "\n",
    "pd.set_option('display.max_columns', None)\n",
    "np.set_printoptions(threshold=np.NaN)"
   ]
  },
  {
   "cell_type": "code",
   "execution_count": 6,
   "metadata": {
    "collapsed": true
   },
   "outputs": [],
   "source": [
    "df_backup = pd.read_csv('dataset_challenge_v5.TRAINING.csv')"
   ]
  },
  {
   "cell_type": "markdown",
   "metadata": {},
   "source": [
    "### Cleaning\n",
    "**DeviceOperatingSystem**: I preferred not to create a specific category for 'windows' because too few observations, however, if the 'other' category reveals to explain well, we can unpack it (in a new dataset)"
   ]
  },
  {
   "cell_type": "code",
   "execution_count": 7,
   "metadata": {
    "collapsed": false
   },
   "outputs": [
    {
     "name": "stdout",
     "output_type": "stream",
     "text": [
      "{'iOS': 568, nan: 548, 'Android': 858, 'Windows Mobile': 6, 'Proprietary': 5, 'Windows Phone': 7, 'BlackBerry OS': 1, 'Firefox': 1, 'Symbian^3': 1, 'BREW': 1, 'Series 40': 2, 'BB10': 1, 'VRTXmc': 1}\n"
     ]
    }
   ],
   "source": [
    "df_clean = df_backup.copy()\n",
    "\n",
    "del df_clean['Unnamed: 0']\n",
    "\n",
    "c = list(df_clean.columns)\n",
    "c[0] = 'ID'\n",
    "df_clean.columns = c\n",
    "\n",
    "df_clean['ZipCode'] = df_clean['ZipCode'].map(lambda x: '%05i' % x, na_action='ignore')\n",
    "\n",
    "traffic_columns = ['File-Transfer', 'Games',\n",
    "       'Instant-Messaging-Applications', 'Mail', 'Music-Streaming',\n",
    "       'Network-Operation', 'P2P-Applications', 'Security',\n",
    "       'Streaming-Applications', 'Terminals', 'Unclassified', 'VoIP',\n",
    "       'Web-Applications']\n",
    "df_clean[traffic_columns]\n",
    "\n",
    "cats = df_clean['CustomerAge'].astype('category').cat.categories\n",
    "d = {cat:(15+10*i)/100 for i,cat in enumerate(cats)}\n",
    "df_clean['NumericAge'] = df_clean['CustomerAge'].map(lambda x: d[x], na_action='ignore')\n",
    "\n",
    "d = {}\n",
    "for elem in df_clean['DeviceOperatingSystem']:\n",
    "    d[elem] = d.get(elem, 0) + 1\n",
    "print(d) #some categories have very few values, group them\n",
    "OS_other = []\n",
    "for key in d:\n",
    "    if d[key] < 10:\n",
    "        OS_other.append(key)\n",
    "        d[key] = 'other'\n",
    "    else:\n",
    "        d[key] = key\n",
    "df_clean['OS_clean'] = df_clean['DeviceOperatingSystem'].map(lambda x: d[x], na_action='ignore')"
   ]
  },
  {
   "cell_type": "code",
   "execution_count": 8,
   "metadata": {
    "collapsed": false
   },
   "outputs": [
    {
     "name": "stderr",
     "output_type": "stream",
     "text": [
      "/Users/Renato/anaconda3/lib/python3.6/site-packages/ipykernel_launcher.py:51: SettingWithCopyWarning: \n",
      "A value is trying to be set on a copy of a slice from a DataFrame\n",
      "\n",
      "See the caveats in the documentation: http://pandas.pydata.org/pandas-docs/stable/indexing.html#indexing-view-versus-copy\n"
     ]
    }
   ],
   "source": [
    "#Adding rural/urban information\n",
    "df_zip_istat = pd.read_csv('databases/database.csv')\n",
    "df_istat_urb = pd.read_csv('databases/it_postal_codes.csv/Foglio 2-Tabella 1.csv', error_bad_lines=False, sep = ';')\n",
    "my_urb_dict = {'Basso' : 0, 'Medio' : 1, 'Elevato' : 2}\n",
    "df_istat_urb['GradoUrbaniz'] = df_istat_urb['GradoUrbaniz'].map(lambda x: my_urb_dict[x], na_action = 'ignore')\n",
    "\n",
    "#check there are no datapoint for which we don't have zip but we've region\n",
    "df_clean['ZipCode'].isnull()\n",
    "df_clean['Region'][df_clean['ZipCode'].isnull()]\n",
    "len(df_clean['Region'][df_clean['ZipCode'].isnull()]) == np.sum(df_clean['Region'][df_clean['ZipCode'].isnull()].isnull())\n",
    "\n",
    "#we need to insert x for multiple cap cities\n",
    "isnan = lambda x: x != x\n",
    "#nan is unique type not equal to itself, so with this lambda function we get True only when the type is NaN\n",
    "\n",
    "for i in range(df_zip_istat.shape[0]):\n",
    "    cap = df_zip_istat.loc[i, 'cap/0']\n",
    "    cap  = '%05d' % cap\n",
    "    if not isnan(df_zip_istat.loc[i,'cap/1']):\n",
    "        if not isnan(df_zip_istat.loc[i,'cap/10']):   \n",
    "            cap = cap[:-2]+'xx'\n",
    "        else:\n",
    "            cap = cap[:-1]+'x'\n",
    "    df_zip_istat.loc[i, 'cap/0'] = cap\n",
    "\n",
    "d_zip_istat = df_zip_istat.set_index('cap/0').to_dict()['codice']\n",
    "d_istat_urb = df_istat_urb.set_index('ISTAT').to_dict()['GradoUrbaniz']\n",
    "\n",
    "mask = df_clean['ZipCode'].isnull()\n",
    "urban_col = np.zeros(df_clean.shape[0])\n",
    "urban_col_masked = urban_col[~ mask]\n",
    "d_zip_istat.update([('51021', 47023),( '83026', 64121),( '74025', 73007),( '55062', 46007),( '38039', 22217),('50037', 48053)])\n",
    "d_istat_urb.update([(22250, 0),( 78157, 1)])\n",
    "\n",
    "c = 0\n",
    "for i in df_clean['ZipCode'][~ mask]:\n",
    "    try:\n",
    "        temp = d_zip_istat[i]\n",
    "        urban_col_masked[c] = d_istat_urb[int(temp)]\n",
    "    except KeyError:\n",
    "        i = '%05d' % int(i)\n",
    "        if i[:-1]+'x' in d_zip_istat:\n",
    "            temp = d_zip_istat[i[:-1]+'x']\n",
    "        elif i[:-2]+'xx' in d_zip_istat:\n",
    "            temp = d_zip_istat[i[:-2]+'xx']\n",
    "        else:\n",
    "            raise()\n",
    "    c += 1\n",
    "    \n",
    "df_clean['Urban'] = df_clean['ZipCode'].copy()\n",
    "df_clean['Urban'][~ mask] = urban_col_masked"
   ]
  },
  {
   "cell_type": "markdown",
   "metadata": {},
   "source": [
    "### Class definition and useful dependencies\n",
    "Space that collects classes or function definition that come in handy throughtout the project"
   ]
  },
  {
   "cell_type": "code",
   "execution_count": 83,
   "metadata": {
    "collapsed": true
   },
   "outputs": [],
   "source": [
    "class buildTrain():\n",
    "    def __init__(self, X, y, perc=0.8, seed=None):\n",
    "        if seed is not None:\n",
    "            np.random.seed(seed)\n",
    "        n_data, n_features = X.shape\n",
    "        assert n_data == len(y)\n",
    "        \n",
    "        perm = np.random.random(n_data)\n",
    "        train_mask = perm < perc\n",
    "        valid_mask = ~ train_mask\n",
    "        \n",
    "        train_data = X[train_mask]\n",
    "        train_target = y[train_mask]\n",
    "        valid_data = X[valid_mask]\n",
    "        valid_target = y[valid_mask]\n",
    "        assert (len(train_data)+len(valid_data)) == n_data\n",
    "        \n",
    "        self.Xt = train_data\n",
    "        self.yt = train_target\n",
    "        self.Xv = valid_data\n",
    "        self.yv = valid_target\n",
    "        \n",
    "    def get_train(self):\n",
    "        return self.Xt, self.yt\n",
    "    \n",
    "    def get_valid(self):\n",
    "        return self.Xv, self.yv"
   ]
  },
  {
   "cell_type": "code",
   "execution_count": 84,
   "metadata": {
    "collapsed": true
   },
   "outputs": [],
   "source": [
    "class logger():\n",
    "    def __init__(self, verbose = True):\n",
    "        self.v = verbose\n",
    "        self.log_ = []\n",
    "        \n",
    "    def log_it(self, text):\n",
    "        #adds to log record\n",
    "        if not isinstance(text, str):\n",
    "            raise Exception('must pass text to logger')\n",
    "        if self.v:\n",
    "            print(text)\n",
    "        self.log_.append(text)\n",
    "        \n",
    "    def print_out(self, text):\n",
    "        if not isinstance(text, str):\n",
    "            raise Exception('must pass text to logger')\n",
    "        #doesn't add to log record\n",
    "        if self.v:\n",
    "            print(text)\n",
    "        \n",
    "    def show_img(self, array):\n",
    "        if not isinstance(array, np.ndarray):\n",
    "            raise Exception(1)\n",
    "        if self.v:\n",
    "            plt.imshow(array)\n",
    "        \n",
    "    def get_log(self):\n",
    "        return \"\\n\".join(self.log_)"
   ]
  },
  {
   "cell_type": "code",
   "execution_count": 11,
   "metadata": {
    "collapsed": true
   },
   "outputs": [],
   "source": [
    "def check_clusters(y, clust_labels, img_threshold=15, v=True):\n",
    "    #checks input\n",
    "    if y.ndim != 1: \n",
    "        raise Exception(2)\n",
    "    if len(y) != len(clust_labels):\n",
    "        raise Exception(4)\n",
    "    \n",
    "    #logger setup\n",
    "    my_log = logger(verbose=v)\n",
    "        \n",
    "    #build histogram of categories (how many point for each cat)\n",
    "    cats = {}\n",
    "    for i in y:\n",
    "        cats[i] = cats.get(i, 0) + 1\n",
    "    n_cats = len(cats)\n",
    "    \n",
    "    #build histogram of clusters (how many point in each cluster)\n",
    "    clusters = {}\n",
    "    for i in clust_labels:\n",
    "        clusters[i] = clusters.get(i, 0) + 1\n",
    "    n_clusters = len(clusters)\n",
    "        \n",
    "    #create mapping from categories to index (to easily store data)\n",
    "    #done because we assume y's values can be different from range(n_categories)\n",
    "    #cat_list useful to quickly go back (header of result matrix)\n",
    "    cat_map = {}\n",
    "    cat_list = []\n",
    "    for i, cat in enumerate(cats):\n",
    "        cat_map[cat] = i\n",
    "        cat_list.append(cat)\n",
    "    \n",
    "    #for each cluster, computes proportion of point belonging to each category\n",
    "    result = np.zeros((n_clusters, n_cats))\n",
    "    tot_per_clust = np.zeros((n_clusters,1), dtype=int)\n",
    "    for i, clust in enumerate(clusters):\n",
    "        labels = y[clust_labels == clust]\n",
    "        tot_per_clust[i] = clusters[clust]\n",
    "        for cat in labels:\n",
    "            result[i,cat_map[cat]] += 1\n",
    "            \n",
    "    #to compute percentage of category points\n",
    "    perc_cat = []\n",
    "    for clust in range(len(result)):\n",
    "        i_max = np.argmax(result[clust,:])\n",
    "        tot = cats[cat_list[i_max]]\n",
    "        perc_cat.append(result[clust, i_max] / tot * 100)\n",
    "        \n",
    "    #express each value as a proportion (normalization)\n",
    "    result = result / tot_per_clust * 100\n",
    "    \n",
    "    #show graphical representation if matrix not too big\n",
    "    if n_cats < img_threshold and n_clusters < img_threshold:\n",
    "        my_log.show_img(result)\n",
    "        \n",
    "    #for each cluster show the category that fits it best\n",
    "    for i,value in enumerate(np.argmax(result, axis=1)):\n",
    "        #frequency of category: number of datapoint of a specific category belonging to that cluster\n",
    "        #over the number of points in the cluster (variety within cluster)\n",
    "        #category clustering: number of datapoint of a specific category belonging to that cluster,\n",
    "        #over the total number of points of that category\n",
    "        my_log.log_it('cluster: %s --> top category: %s, frequency of category (variety within cluster): %.2f%%, category clustering: %.2f%%'\\\n",
    "              % (i, cat_list[value], result[i, value], perc_cat[i]))\n",
    "    score = np.sum(np.max(result, axis=1))/n_clusters\n",
    "    weighted = np.dot(np.max(result, axis=1), np.array(perc_cat))/100\n",
    "    #maybe it's best to weight the score by the category clustering index (see k-means example below)\n",
    "    my_log.log_it(\"Overall score (doesn't consider category clustering): %.2f%%, weighted: %.2f%%\"%(score, weighted))\n",
    "    return weighted, my_log.get_log()"
   ]
  },
  {
   "cell_type": "code",
   "execution_count": 12,
   "metadata": {
    "collapsed": true
   },
   "outputs": [],
   "source": [
    "def standardize(df, column):\n",
    "    if not isinstance(column, (str, int)):\n",
    "        raise Exception(1)\n",
    "    #returns a copy of the standardized column\n",
    "    c = df[column].copy()\n",
    "    mean = c.mean()\n",
    "    sd = c.std()\n",
    "    return (c - mean) / sd"
   ]
  },
  {
   "cell_type": "code",
   "execution_count": 13,
   "metadata": {
    "collapsed": true
   },
   "outputs": [],
   "source": [
    "def batch_std(df, columns):\n",
    "    if not isinstance(columns, str):\n",
    "        if len(columns) == 0:\n",
    "            raise Exception('nto enough columns')\n",
    "    else:\n",
    "        raise Exception('must be an array or list')\n",
    "    #returns a new dataframe with standardized columns\n",
    "    new_df = pd.DataFrame()\n",
    "    for column in columns:\n",
    "        temp = standardize(df, column)\n",
    "        new_df[column] = temp\n",
    "    return new_df"
   ]
  },
  {
   "cell_type": "code",
   "execution_count": 14,
   "metadata": {
    "collapsed": true
   },
   "outputs": [],
   "source": [
    "class test():\n",
    "    def __init__(self):\n",
    "        self.best = [0,0,0]\n",
    "        self.scores = []\n",
    "        \n",
    "    def update(self, score, k):\n",
    "        score, log = score\n",
    "        if score > self.best[0]:\n",
    "            self.best = score, k, log\n",
    "        self.scores.append((k, score))\n",
    "        \n",
    "    def get_result(self):\n",
    "        best = self.best\n",
    "        scores = self.scores\n",
    "        print('best weighted score: %.2f%%, number of clusters: %i' % (best[0], best[1]))\n",
    "        print('log of best: \\n%s' % best[2])\n",
    "        plt.figure()\n",
    "        plt.plot(*zip(*scores),'-')"
   ]
  },
  {
   "cell_type": "code",
   "execution_count": 197,
   "metadata": {
    "collapsed": false
   },
   "outputs": [],
   "source": [
    "def train_perc_warm(perc, X, y, epochs, eta0, percentage=0.8, f_eta=None, v=True):\n",
    "    if f_eta is None:\n",
    "        return lambda x: x\n",
    "    \n",
    "    data = buildTrain(X, y, percentage)\n",
    "    n_features = X.shape[1]\n",
    "    n_classes = len(y.unique())\n",
    "    coef = np.random.randn(n_classes, n_features) * 1e-2\n",
    "    intercept = np.random.randn(n_classes) * 1e-2\n",
    "    eta = eta0\n",
    "    \n",
    "    tscores = []\n",
    "    vscores = []\n",
    "    for epoch in range(epochs):\n",
    "        perc.set_params(eta0=eta)\n",
    "        perc.fit(*data.get_train(), coef_init = coef, intercept_init = intercept)\n",
    "        tscore = perc.score(*data.get_train())\n",
    "        vscore = perc.score(*data.get_valid())\n",
    "        if v:\n",
    "            print(\"run=%i tscore=%g vscore=%g\" % (epoch+1, tscore, vscore))\n",
    "        tscores.append(tscore)\n",
    "        vscores.append(vscore)\n",
    "        coef, intercept = perc.coef_, perc.intercept_\n",
    "        eta = f_eta(eta0, epoch)\n",
    "    if v:\n",
    "        plt.plot(np.arange(epochs), tscores, np.arange(epochs), vscores)\n",
    "        \n",
    "    return tscores, vscores"
   ]
  },
  {
   "cell_type": "code",
   "execution_count": 198,
   "metadata": {
    "collapsed": false
   },
   "outputs": [],
   "source": [
    "def train_perc_cold(perc, X, y, percentage=0.8, max_iter= 5000):\n",
    "    data = buildTrain(X, y, percentage)\n",
    "    \n",
    "    perc.set_params(max_iter=max_iter)\n",
    "    perc.fit(*data.get_train())\n",
    "    tscore = perc.score(*data.get_train())\n",
    "    vscore = perc.score(*data.get_valid())\n",
    "    print(\"tscore=%g vscore=%g\" % (tscore, vscore))\n",
    "        \n",
    "    return tscore, vscore"
   ]
  },
  {
   "cell_type": "code",
   "execution_count": 210,
   "metadata": {
    "collapsed": false
   },
   "outputs": [],
   "source": [
    "class perc():\n",
    "    def __init__(self, seed = None):\n",
    "        if seed is None:\n",
    "            seed = np.random.randint(66666)\n",
    "        self.seed = seed\n",
    "            \n",
    "    def train(self, X, y, percentage=0.8, loss = 'log', penalty = 'none', alpha = 0.0001, power_t = 0.5, \n",
    "               max_iter = 5000, it_interval = 100,\n",
    "               learning_rate='invscaling', eta0=1e-2):\n",
    "        \n",
    "        warm_start = True\n",
    "        #check learning_rate\n",
    "        if learning_rate == 'constant':\n",
    "            f_eta = lambda eta0, epoch: eta0\n",
    "        elif learning_rate == 'invscaling':\n",
    "            f_eta = lambda eta0, epoch: eta0 / ((epoch + 1) * it_interval)**power_t\n",
    "        elif learning_rate == 'optimal':\n",
    "            warm_start = False\n",
    "            f_eta = None\n",
    "        else:\n",
    "            raise Exception('not valid value')\n",
    "            \n",
    "        #compute epochs\n",
    "        epochs = max_iter // it_interval\n",
    "            \n",
    "        #create multiple perceptron\n",
    "        self.perc = perc = SGDClassifier(loss=loss, penalty=penalty, max_iter=it_interval,\n",
    "                             alpha=alpha, learning_rate=learning_rate, eta0=eta0,\n",
    "                             warm_start=warm_start, n_jobs=-1, power_t=power_t)\n",
    "        \n",
    "        self.warm_start = warm_start\n",
    "        param_warm = (perc, X, y, epochs, eta0, percentage, f_eta)\n",
    "        param_cold = (perc, X, y, percentage, max_iter)\n",
    "        \n",
    "        #perform analysis\n",
    "        np.random.seed(self.seed)\n",
    "        if self.warm_start:\n",
    "            tscores, vscores = train_perc_warm(*param_warm)\n",
    "        else:\n",
    "            tscores, vscores = train_perc_cold(*param_cold)\n",
    "            \n",
    "        #save settings\n",
    "        self.param_warm = param_warm\n",
    "        self.param_cold = param_cold\n",
    "        \n",
    "    def test(self, n=10):\n",
    "        param_warm, param_cold = self.param_warm, self.param_cold\n",
    "        \n",
    "        best = np.zeros(n)\n",
    "        worse = np.zeros(n)\n",
    "        for i in range(n):\n",
    "            np.random.seed(self.seed + np.random.randint(1001)*i)\n",
    "            if self.warm_start:\n",
    "                tscores, vscores = train_perc_warm(*param_warm, v=False)\n",
    "            else:\n",
    "                tscores, vscores = train_perc_cold(*param_cold)\n",
    "            best[i] = np.max(vscores)\n",
    "            worse[i] = np.min(vscores)\n",
    "        print('average best performance: %.2f%%, standard deviation: %f'%(best.mean(), best.std()))\n",
    "        plt.figure()\n",
    "        plt.plot(np.arange(n), worse, color='r', label='worse performances')\n",
    "        plt.plot(np.arange(n), best, color='g', label='best performances')\n",
    "        legend = plt.legend(loc='upper center', shadow=True)\n",
    "        plt.xlabel('samples')\n",
    "        plt.ylabel('test score')\n",
    "        plt.show()"
   ]
  },
  {
   "cell_type": "markdown",
   "metadata": {},
   "source": [
    "## Tests"
   ]
  },
  {
   "cell_type": "markdown",
   "metadata": {},
   "source": [
    "### K-means on traffic\n",
    "Just an exploratory study, let's see what we get..."
   ]
  },
  {
   "cell_type": "code",
   "execution_count": null,
   "metadata": {
    "collapsed": true,
    "scrolled": false
   },
   "outputs": [],
   "source": [
    "from sklearn.cluster import KMeans\n",
    "\n",
    "X = df_clean[traffic_columns]\n",
    "y = df_clean['Product']\n",
    "\n",
    "km = KMeans(n_clusters=6, init='k-means++', n_init=10, n_jobs=4)\n",
    "km.fit(X)\n",
    "score = check_clusters(y=y, clust_labels=km.labels_)"
   ]
  },
  {
   "cell_type": "markdown",
   "metadata": {},
   "source": [
    "now we try the same but with standardized columns, see the difference"
   ]
  },
  {
   "cell_type": "code",
   "execution_count": null,
   "metadata": {
    "collapsed": true
   },
   "outputs": [],
   "source": [
    "X_std = batch_std(df_clean, traffic_columns)\n",
    "y = df_clean['Product']\n",
    "\n",
    "km = KMeans(n_clusters=6, init='k-means++', n_init=10, n_jobs=4)\n",
    "km.fit(X_std)\n",
    "score = check_clusters(y=y, clust_labels=km.labels_)"
   ]
  },
  {
   "cell_type": "markdown",
   "metadata": {},
   "source": [
    "It seems to have improved. Still the clusters seem to separate pretty poorly. Let's see the optimal value of k based on our previous score (using standardized data which seem to make more sense). We set the same seed each time so that the results are comparable and not influenced by different initial centroid allocation."
   ]
  },
  {
   "cell_type": "code",
   "execution_count": null,
   "metadata": {
    "collapsed": true
   },
   "outputs": [],
   "source": [
    "my_test = test()\n",
    "\n",
    "np.random.seed(23453)\n",
    "X_std = batch_std(df_clean, traffic_columns)\n",
    "y = df_clean['Product']\n",
    "\n",
    "for k in range(2, 10):\n",
    "    km = KMeans(n_clusters=k, init='k-means++', n_init=10, n_jobs=4)\n",
    "    km.fit(X_std)\n",
    "    \n",
    "    score= check_clusters(y=y, clust_labels=km.labels_, v=False)\n",
    "    my_test.update(score, k)\n",
    "        \n",
    "my_test.get_result()"
   ]
  },
  {
   "cell_type": "markdown",
   "metadata": {},
   "source": [
    "### Hierarchical clustering on traffic data\n",
    "Same approach as for k-means, test difference between standardized and not."
   ]
  },
  {
   "cell_type": "code",
   "execution_count": null,
   "metadata": {
    "collapsed": true
   },
   "outputs": [],
   "source": [
    "from sklearn.cluster import AgglomerativeClustering\n",
    "\n",
    "my_test = test()\n",
    "X_std = batch_std(df_clean, traffic_columns)\n",
    "y = df_clean['Product']\n",
    "\n",
    "for k in range(2, 8):\n",
    "    clust = AgglomerativeClustering(n_clusters=k, linkage='ward', affinity='euclidean')\n",
    "    clust.fit(X_std)\n",
    "    score = check_clusters(y=y, clust_labels=clust.labels_, v=False)\n",
    "    my_test.update(score, k)\n",
    "\n",
    "my_test.get_result()"
   ]
  },
  {
   "cell_type": "markdown",
   "metadata": {},
   "source": [
    "try complete linkage"
   ]
  },
  {
   "cell_type": "code",
   "execution_count": null,
   "metadata": {
    "collapsed": true
   },
   "outputs": [],
   "source": [
    "from sklearn.cluster import AgglomerativeClustering\n",
    "\n",
    "my_test = test()\n",
    "X_std = batch_std(df_clean, traffic_columns)\n",
    "y = df_clean['Product']\n",
    "\n",
    "for k in range(2, 8):\n",
    "    clust = AgglomerativeClustering(n_clusters=k, linkage='complete', affinity='euclidean')\n",
    "    clust.fit(X_std)\n",
    "    score = check_clusters(y=y, clust_labels=clust.labels_, v=False)\n",
    "    my_test.update(score, k)\n",
    "\n",
    "my_test.get_result()"
   ]
  },
  {
   "cell_type": "markdown",
   "metadata": {},
   "source": [
    "### Perceptron (imputation of age data with traffic data)"
   ]
  },
  {
   "cell_type": "markdown",
   "metadata": {},
   "source": [
    "First of all we try to build a Perceptron to complete the age column keeping all the categories."
   ]
  },
  {
   "cell_type": "code",
   "execution_count": 216,
   "metadata": {
    "collapsed": false
   },
   "outputs": [],
   "source": [
    "X_std = batch_std(df_clean, traffic_columns)\n",
    "y = df_clean['Product']\n",
    "\n",
    "my_perc = perc()"
   ]
  },
  {
   "cell_type": "code",
   "execution_count": 217,
   "metadata": {
    "collapsed": false
   },
   "outputs": [
    {
     "name": "stdout",
     "output_type": "stream",
     "text": [
      "run=1 tscore=0.352909 vscore=0.358974\n",
      "run=2 tscore=0.366205 vscore=0.379487\n",
      "run=3 tscore=0.370083 vscore=0.379487\n",
      "run=4 tscore=0.369529 vscore=0.384615\n",
      "run=5 tscore=0.371745 vscore=0.384615\n",
      "run=6 tscore=0.371191 vscore=0.394872\n",
      "run=7 tscore=0.370083 vscore=0.394872\n",
      "run=8 tscore=0.370637 vscore=0.394872\n",
      "run=9 tscore=0.369529 vscore=0.384615\n",
      "run=10 tscore=0.368421 vscore=0.389744\n"
     ]
    },
    {
     "data": {
      "image/png": "[encoded data removed]",
      "text/plain": [
       "<matplotlib.figure.Figure at 0x23f67bda0b8>"
      ]
     },
     "metadata": {},
     "output_type": "display_data"
    }
   ],
   "source": [
    "my_perc.train(X_std, y, percentage=0.9, loss='log', penalty='none', alpha=1e-6,\n",
    "          power_t=0.5, max_iter=1000, it_interval=100, learning_rate='constant', eta0=1e-6)"
   ]
  },
  {
   "cell_type": "code",
   "execution_count": 213,
   "metadata": {
    "collapsed": false
   },
   "outputs": [
    {
     "name": "stdout",
     "output_type": "stream",
     "text": [
      "average best performance: 0.37%, standard deviation: 0.031236\n"
     ]
    },
    {
     "data": {
      "image/png": "[encoded data removed]",
      "text/plain": [
       "<matplotlib.figure.Figure at 0x23f6958dba8>"
      ]
     },
     "metadata": {},
     "output_type": "display_data"
    }
   ],
   "source": [
    "my_perc.test()"
   ]
  },
  {
   "cell_type": "code",
   "execution_count": null,
   "metadata": {
    "collapsed": true
   },
   "outputs": [],
   "source": []
  }
 ],
 "metadata": {
  "kernelspec": {
   "display_name": "Python 3",
   "language": "python",
   "name": "python3"
  },
  "language_info": {
   "codemirror_mode": {
    "name": "ipython",
    "version": 3
   },
   "file_extension": ".py",
   "mimetype": "text/x-python",
   "name": "python",
   "nbconvert_exporter": "python",
   "pygments_lexer": "ipython3",
   "version": "3.6.0"
  }
 },
 "nbformat": 4,
 "nbformat_minor": 2
}
