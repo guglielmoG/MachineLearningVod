{
 "cells": [
  {
   "cell_type": "markdown",
   "metadata": {},
   "source": [
    "# Vodafone Challenge\n",
    "## Scrap notebook\n",
    "- **Separate each test** you make with a markdown cell like this one (press M when the cursor is on a cell but it is not editing). \n",
    "- Put a **small description** on what you are doing and why you do so (like if you manipulate data in a specific way, or apply a particular definition of distance, write the intuition behind. Both for you to remmember later and for team members)\n",
    "- Make sure you are working with the **proper data** i.e. the data (and their transformation) that you with to use are defined before you do the analysis. Bugs could appear if you do not define something and Python retrieves older values for the variables you are using.\n",
    "- **Do not modify df_backup**, always work with a copy [like df = df_backup.copy()]\n",
    "- Add short line of description in the Summary section\n",
    "- For each test, write briefly which value of the parameter tried (like learning rate constant, tried eta0 large (10^-2) not well, smaller (10^-7) seem to work best. Then changed with learning rate adaptivive [which?] and tried ... large (10^-2) worked best).\n",
    "\n",
    "**For the best test, build pipeline: bulleted version of all things done on the dataset until the result. It could be a useful thing to do for each test actually**"
   ]
  },
  {
   "cell_type": "markdown",
   "metadata": {},
   "source": [
    "## Summary\n",
    "\n",
    "1. **K-means on traffic data**: tested for different k's, both standardized and not. Performs poorly.\n",
    "2. **preprocessing zip-urb** (Abetone, Montoro, Ginosa, Capannori, Vigo di Fassa, Scarpiera e San Piero)\n",
    "3. **Perc imputation**"
   ]
  },
  {
   "cell_type": "markdown",
   "metadata": {},
   "source": [
    "## Code\n",
    "### *setup*"
   ]
  },
  {
   "cell_type": "code",
   "execution_count": 2,
   "metadata": {
    "collapsed": true
   },
   "outputs": [],
   "source": [
    "%matplotlib inline\n",
    "\n",
    "import pandas as pd\n",
    "import numpy as np\n",
    "import matplotlib.pyplot as plt\n",
    "\n",
    "from sklearn.neighbors import KNeighborsClassifier\n",
    "from sklearn.decomposition import PCA\n",
    "\n",
    "from sklearn.linear_model import SGDClassifier\n",
    "\n",
    "pd.set_option('display.max_columns', None)\n",
    "np.set_printoptions(threshold=np.NaN)"
   ]
  },
  {
   "cell_type": "code",
   "execution_count": 3,
   "metadata": {
    "collapsed": true
   },
   "outputs": [],
   "source": [
    "df_backup = pd.read_csv('dataset_challenge_v5.TRAINING.csv')"
   ]
  },
  {
   "cell_type": "markdown",
   "metadata": {},
   "source": [
    "### Cleaning\n",
    "**DeviceOperatingSystem**: I preferred not to create a specific category for 'windows' because too few observations, however, if the 'other' category reveals to explain well, we can unpack it (in a new dataset)"
   ]
  },
  {
   "cell_type": "code",
   "execution_count": 4,
   "metadata": {
    "collapsed": false
   },
   "outputs": [
    {
     "name": "stdout",
     "output_type": "stream",
     "text": [
      "{'iOS': 568, nan: 548, 'Android': 858, 'Windows Mobile': 6, 'Proprietary': 5, 'Windows Phone': 7, 'BlackBerry OS': 1, 'Firefox': 1, 'Symbian^3': 1, 'BREW': 1, 'Series 40': 2, 'BB10': 1, 'VRTXmc': 1}\n"
     ]
    }
   ],
   "source": [
    "df_clean = df_backup.copy()\n",
    "\n",
    "del df_clean['Unnamed: 0']\n",
    "\n",
    "c = list(df_clean.columns)\n",
    "c[0] = 'ID'\n",
    "df_clean.columns = c\n",
    "\n",
    "df_clean['ZipCode'] = df_clean['ZipCode'].map(lambda x: '%05i' % x, na_action='ignore')\n",
    "\n",
    "traffic_columns = ['File-Transfer', 'Games',\n",
    "       'Instant-Messaging-Applications', 'Mail', 'Music-Streaming',\n",
    "       'Network-Operation', 'P2P-Applications', 'Security',\n",
    "       'Streaming-Applications', 'Terminals', 'Unclassified', 'VoIP',\n",
    "       'Web-Applications']\n",
    "df_clean[traffic_columns]\n",
    "\n",
    "cats = df_clean['CustomerAge'].astype('category').cat.categories\n",
    "d = {cat:(15+10*i)/100 for i,cat in enumerate(cats)}\n",
    "df_clean['NumericAge'] = df_clean['CustomerAge'].map(lambda x: d[x], na_action='ignore')\n",
    "\n",
    "d = {}\n",
    "for elem in df_clean['DeviceOperatingSystem']:\n",
    "    d[elem] = d.get(elem, 0) + 1\n",
    "print(d) #some categories have very few values, group them\n",
    "OS_other = []\n",
    "for key in d:\n",
    "    if d[key] < 10:\n",
    "        OS_other.append(key)\n",
    "        d[key] = 'other'\n",
    "    else:\n",
    "        d[key] = key\n",
    "df_clean['OS_clean'] = df_clean['DeviceOperatingSystem'].map(lambda x: d[x], na_action='ignore')"
   ]
  },
  {
   "cell_type": "code",
   "execution_count": 5,
   "metadata": {
    "collapsed": false
   },
   "outputs": [
    {
     "name": "stderr",
     "output_type": "stream",
     "text": [
      "/Users/Renato/anaconda3/lib/python3.6/site-packages/ipykernel_launcher.py:51: SettingWithCopyWarning: \n",
      "A value is trying to be set on a copy of a slice from a DataFrame\n",
      "\n",
      "See the caveats in the documentation: http://pandas.pydata.org/pandas-docs/stable/indexing.html#indexing-view-versus-copy\n"
     ]
    }
   ],
   "source": [
    "#Adding rural/urban information\n",
    "df_zip_istat = pd.read_csv('databases/database.csv')\n",
    "df_istat_urb = pd.read_csv('databases/it_postal_codes.csv/Foglio 2-Tabella 1.csv', error_bad_lines=False, sep = ';')\n",
    "my_urb_dict = {'Basso' : 0, 'Medio' : 1, 'Elevato' : 2}\n",
    "df_istat_urb['GradoUrbaniz'] = df_istat_urb['GradoUrbaniz'].map(lambda x: my_urb_dict[x], na_action = 'ignore')\n",
    "\n",
    "#check there are no datapoint for which we don't have zip but we've region\n",
    "df_clean['ZipCode'].isnull()\n",
    "df_clean['Region'][df_clean['ZipCode'].isnull()]\n",
    "len(df_clean['Region'][df_clean['ZipCode'].isnull()]) == np.sum(df_clean['Region'][df_clean['ZipCode'].isnull()].isnull())\n",
    "\n",
    "#we need to insert x for multiple cap cities\n",
    "isnan = lambda x: x != x\n",
    "#nan is unique type not equal to itself, so with this lambda function we get True only when the type is NaN\n",
    "\n",
    "for i in range(df_zip_istat.shape[0]):\n",
    "    cap = df_zip_istat.loc[i, 'cap/0']\n",
    "    cap  = '%05d' % cap\n",
    "    if not isnan(df_zip_istat.loc[i,'cap/1']):\n",
    "        if not isnan(df_zip_istat.loc[i,'cap/10']):   \n",
    "            cap = cap[:-2]+'xx'\n",
    "        else:\n",
    "            cap = cap[:-1]+'x'\n",
    "    df_zip_istat.loc[i, 'cap/0'] = cap\n",
    "\n",
    "d_zip_istat = df_zip_istat.set_index('cap/0').to_dict()['codice']\n",
    "d_istat_urb = df_istat_urb.set_index('ISTAT').to_dict()['GradoUrbaniz']\n",
    "\n",
    "mask = df_clean['ZipCode'].isnull()\n",
    "urban_col = np.zeros(df_clean.shape[0])\n",
    "urban_col_masked = urban_col[~ mask]\n",
    "d_zip_istat.update([('51021', 47023),( '83026', 64121),( '74025', 73007),( '55062', 46007),( '38039', 22217),('50037', 48053)])\n",
    "d_istat_urb.update([(22250, 0),( 78157, 1)])\n",
    "\n",
    "c = 0\n",
    "for i in df_clean['ZipCode'][~ mask]:\n",
    "    try:\n",
    "        temp = d_zip_istat[i]\n",
    "        urban_col_masked[c] = d_istat_urb[int(temp)]\n",
    "    except KeyError:\n",
    "        i = '%05d' % int(i)\n",
    "        if i[:-1]+'x' in d_zip_istat:\n",
    "            temp = d_zip_istat[i[:-1]+'x']\n",
    "        elif i[:-2]+'xx' in d_zip_istat:\n",
    "            temp = d_zip_istat[i[:-2]+'xx']\n",
    "        else:\n",
    "            raise()\n",
    "    c += 1\n",
    "    \n",
    "df_clean['Urban'] = df_clean['ZipCode'].copy()\n",
    "df_clean['Urban'][~ mask] = urban_col_masked"
   ]
  },
  {
   "cell_type": "markdown",
   "metadata": {},
   "source": [
    "### Class definition and useful dependencies\n",
    "Space that collects classes or function definition that come in handy throughtout the project"
   ]
  },
  {
   "cell_type": "code",
   "execution_count": 70,
   "metadata": {
    "collapsed": true
   },
   "outputs": [],
   "source": [
    "class buildTrain():\n",
    "    def __init__(self, X, y, perc=0.8, seed=None, std=False):\n",
    "        if seed is not None:\n",
    "            np.random.seed(seed)\n",
    "        n_data, n_features = X.shape\n",
    "        assert n_data == len(y)\n",
    "        \n",
    "        #check and remove nan values\n",
    "        temp = X.copy()\n",
    "        temp[y.name] = y.copy()\n",
    "        temp.dropna(axis=0, how='any', inplace=True)\n",
    "        \n",
    "        if temp.shape[0] < n_data:\n",
    "            print('Warning: missing data found and removed. Old input shape: %d, %d, new input shape: %d, %d'\n",
    "                  % (X.shape[0], X.shape[1]+1, *temp.shape))\n",
    "            X = temp\n",
    "            y = temp[y.name]\n",
    "            X.drop(y.name, axis=1, inplace=True)\n",
    "            n_data, _ = X.shape\n",
    "    \n",
    "        assert n_data == len(y)\n",
    "        \n",
    "        perm = np.random.random(n_data)\n",
    "        train_mask = perm < perc\n",
    "        valid_mask = ~ train_mask\n",
    "        \n",
    "        train_data = X[train_mask]\n",
    "        train_target = y[train_mask]\n",
    "        valid_data = X[valid_mask]\n",
    "        valid_target = y[valid_mask]\n",
    "        assert (len(train_data)+len(valid_data)) == n_data\n",
    "        \n",
    "        if std:\n",
    "            mean = train_data.mean()\n",
    "            std = train_data.std()\n",
    "            train_data = (train_data - mean) / std\n",
    "            valid_data = (valid_data - mean) / std\n",
    "        \n",
    "        self.Xt = train_data\n",
    "        self.yt = train_target\n",
    "        self.Xv = valid_data\n",
    "        self.yv = valid_target\n",
    "        \n",
    "    def get_train(self):\n",
    "        return self.Xt, self.yt\n",
    "    \n",
    "    def get_valid(self):\n",
    "        return self.Xv, self.yv"
   ]
  },
  {
   "cell_type": "code",
   "execution_count": 7,
   "metadata": {
    "collapsed": true
   },
   "outputs": [],
   "source": [
    "class logger():\n",
    "    def __init__(self, verbose = True):\n",
    "        self.v = verbose\n",
    "        self.log_ = []\n",
    "        \n",
    "    def log_it(self, text):\n",
    "        #adds to log record\n",
    "        if not isinstance(text, str):\n",
    "            raise Exception('must pass text to logger')\n",
    "        if self.v:\n",
    "            print(text)\n",
    "        self.log_.append(text)\n",
    "        \n",
    "    def print_out(self, text):\n",
    "        if not isinstance(text, str):\n",
    "            raise Exception('must pass text to logger')\n",
    "        #doesn't add to log record\n",
    "        if self.v:\n",
    "            print(text)\n",
    "        \n",
    "    def show_img(self, array):\n",
    "        if not isinstance(array, np.ndarray):\n",
    "            raise Exception(1)\n",
    "        if self.v:\n",
    "            plt.imshow(array)\n",
    "        \n",
    "    def get_log(self):\n",
    "        return \"\\n\".join(self.log_)"
   ]
  },
  {
   "cell_type": "code",
   "execution_count": 8,
   "metadata": {
    "collapsed": true
   },
   "outputs": [],
   "source": [
    "def check_clusters(y, clust_labels, img_threshold=15, v=True):\n",
    "    #checks input\n",
    "    if y.ndim != 1: \n",
    "        raise Exception(2)\n",
    "    if len(y) != len(clust_labels):\n",
    "        raise Exception(4)\n",
    "    \n",
    "    #logger setup\n",
    "    my_log = logger(verbose=v)\n",
    "        \n",
    "    #build histogram of categories (how many point for each cat)\n",
    "    cats = {}\n",
    "    for i in y:\n",
    "        cats[i] = cats.get(i, 0) + 1\n",
    "    n_cats = len(cats)\n",
    "    \n",
    "    #build histogram of clusters (how many point in each cluster)\n",
    "    clusters = {}\n",
    "    for i in clust_labels:\n",
    "        clusters[i] = clusters.get(i, 0) + 1\n",
    "    n_clusters = len(clusters)\n",
    "        \n",
    "    #create mapping from categories to index (to easily store data)\n",
    "    #done because we assume y's values can be different from range(n_categories)\n",
    "    #cat_list useful to quickly go back (header of result matrix)\n",
    "    cat_map = {}\n",
    "    cat_list = []\n",
    "    for i, cat in enumerate(cats):\n",
    "        cat_map[cat] = i\n",
    "        cat_list.append(cat)\n",
    "    \n",
    "    #for each cluster, computes proportion of point belonging to each category\n",
    "    result = np.zeros((n_clusters, n_cats))\n",
    "    tot_per_clust = np.zeros((n_clusters,1), dtype=int)\n",
    "    for i, clust in enumerate(clusters):\n",
    "        labels = y[clust_labels == clust]\n",
    "        tot_per_clust[i] = clusters[clust]\n",
    "        for cat in labels:\n",
    "            result[i,cat_map[cat]] += 1\n",
    "            \n",
    "    #to compute percentage of category points\n",
    "    perc_cat = []\n",
    "    for clust in range(len(result)):\n",
    "        i_max = np.argmax(result[clust,:])\n",
    "        tot = cats[cat_list[i_max]]\n",
    "        perc_cat.append(result[clust, i_max] / tot * 100)\n",
    "        \n",
    "    #express each value as a proportion (normalization)\n",
    "    result = result / tot_per_clust * 100\n",
    "    \n",
    "    #show graphical representation if matrix not too big\n",
    "    if n_cats < img_threshold and n_clusters < img_threshold:\n",
    "        my_log.show_img(result)\n",
    "        \n",
    "    #for each cluster show the category that fits it best\n",
    "    for i,value in enumerate(np.argmax(result, axis=1)):\n",
    "        #frequency of category: number of datapoint of a specific category belonging to that cluster\n",
    "        #over the number of points in the cluster (variety within cluster)\n",
    "        #category clustering: number of datapoint of a specific category belonging to that cluster,\n",
    "        #over the total number of points of that category\n",
    "        my_log.log_it('cluster: %s --> top category: %s, frequency of category (variety within cluster): %.2f%%, category clustering: %.2f%%'\\\n",
    "              % (i, cat_list[value], result[i, value], perc_cat[i]))\n",
    "    score = np.sum(np.max(result, axis=1))/n_clusters\n",
    "    weighted = np.dot(np.max(result, axis=1), np.array(perc_cat))/100\n",
    "    #maybe it's best to weight the score by the category clustering index (see k-means example below)\n",
    "    my_log.log_it(\"Overall score (doesn't consider category clustering): %.2f%%, weighted: %.2f%%\"%(score, weighted))\n",
    "    return weighted, my_log.get_log()"
   ]
  },
  {
   "cell_type": "code",
   "execution_count": 9,
   "metadata": {
    "collapsed": true
   },
   "outputs": [],
   "source": [
    "def standardize(df, column):\n",
    "    if not isinstance(column, (str, int)):\n",
    "        raise Exception(1)\n",
    "    #returns a copy of the standardized column\n",
    "    c = df[column].copy()\n",
    "    mean = c.mean()\n",
    "    sd = c.std()\n",
    "    return (c - mean) / sd"
   ]
  },
  {
   "cell_type": "code",
   "execution_count": 10,
   "metadata": {
    "collapsed": true
   },
   "outputs": [],
   "source": [
    "def batch_std(df, columns):\n",
    "    if not isinstance(columns, str):\n",
    "        if len(columns) == 0:\n",
    "            raise Exception('nto enough columns')\n",
    "    else:\n",
    "        raise Exception('must be an array or list')\n",
    "    #returns a new dataframe with standardized columns\n",
    "    new_df = pd.DataFrame()\n",
    "    for column in columns:\n",
    "        temp = standardize(df, column)\n",
    "        new_df[column] = temp\n",
    "    return new_df"
   ]
  },
  {
   "cell_type": "code",
   "execution_count": 11,
   "metadata": {
    "collapsed": true
   },
   "outputs": [],
   "source": [
    "class test():\n",
    "    def __init__(self):\n",
    "        self.best = [0,0,0]\n",
    "        self.scores = []\n",
    "        \n",
    "    def update(self, score, k):\n",
    "        score, log = score\n",
    "        if score > self.best[0]:\n",
    "            self.best = score, k, log\n",
    "        self.scores.append((k, score))\n",
    "        \n",
    "    def get_result(self):\n",
    "        best = self.best\n",
    "        scores = self.scores\n",
    "        print('best weighted score: %.2f%%, number of clusters: %i' % (best[0], best[1]))\n",
    "        print('log of best: \\n%s' % best[2])\n",
    "        plt.figure()\n",
    "        plt.plot(*zip(*scores),'-')"
   ]
  },
  {
   "cell_type": "code",
   "execution_count": 75,
   "metadata": {
    "collapsed": true
   },
   "outputs": [],
   "source": [
    "def train_perc_warm(perc, X, y, epochs, eta0, percentage=0.8, f_eta=None, std=False, v=True):\n",
    "    if f_eta is None:\n",
    "        return lambda x: x\n",
    "    \n",
    "    data = buildTrain(X, y, percentage, std)\n",
    "    n_features = X.shape[1]\n",
    "    n_classes = len(data.get_train()[1].unique())\n",
    "    if n_classes == 1:\n",
    "        raise Exception(1)\n",
    "    if n_classes == 2:\n",
    "        n_classes = 1\n",
    "        \n",
    "\n",
    "    \n",
    "    coef = np.random.randn(n_classes, n_features) * 1e-2\n",
    "    intercept = np.random.randn(n_classes) * 1e-2\n",
    "    eta = eta0\n",
    "    \n",
    "    tscores = []\n",
    "    vscores = []\n",
    "    for epoch in range(epochs):\n",
    "        perc.set_params(eta0=eta)\n",
    "        perc.fit(*data.get_train(), coef_init = coef, intercept_init = intercept)\n",
    "        tscore = perc.score(*data.get_train())\n",
    "        vscore = perc.score(*data.get_valid())\n",
    "        if v:\n",
    "            print(\"run=%i tscore=%g vscore=%g\" % (epoch+1, tscore, vscore))\n",
    "        tscores.append(tscore)\n",
    "        vscores.append(vscore)\n",
    "        coef, intercept = perc.coef_, perc.intercept_\n",
    "        eta = f_eta(eta0, epoch)\n",
    "    if v:\n",
    "        plt.figure()\n",
    "        plt.plot(np.arange(epochs), tscores, np.arange(epochs), vscores)\n",
    "        \n",
    "    return tscores, vscores, data.get_valid()"
   ]
  },
  {
   "cell_type": "code",
   "execution_count": 13,
   "metadata": {
    "collapsed": true
   },
   "outputs": [],
   "source": [
    "def train_perc_cold(perc, X, y, percentage=0.8, max_iter= 5000, std=False):\n",
    "    data = buildTrain(X, y, percentage, std)\n",
    "    \n",
    "    perc.set_params(max_iter=max_iter)\n",
    "    perc.fit(*data.get_train())\n",
    "    tscore = perc.score(*data.get_train())\n",
    "    vscore = perc.score(*data.get_valid())\n",
    "    print(\"tscore=%g vscore=%g\" % (tscore, vscore))\n",
    "        \n",
    "    return tscore, vscore, data.get_valid()"
   ]
  },
  {
   "cell_type": "code",
   "execution_count": 168,
   "metadata": {
    "collapsed": true
   },
   "outputs": [],
   "source": [
    "class perc():\n",
    "    def __init__(self, seed = None):\n",
    "        if seed is None:\n",
    "            seed = np.random.randint(666766)\n",
    "        self.seed = seed\n",
    "            \n",
    "    def train(self, X, y, percentage=0.8, std=False, loss = 'log', penalty = 'none', alpha = 0.0001, power_t = 0.5, \n",
    "               max_iter = 5000, it_interval = 100, threshold_unbalanced=0.6, class_weight=None, \n",
    "               learning_rate='invscaling', eta0=1e-2):\n",
    "        \n",
    "        warm_start = True\n",
    "        #check learning_rate\n",
    "        if learning_rate == 'constant':\n",
    "            f_eta = lambda eta0, epoch: eta0\n",
    "        elif learning_rate == 'invscaling':\n",
    "            f_eta = lambda eta0, epoch: eta0 / ((epoch + 1) * it_interval)**power_t\n",
    "        elif learning_rate == 'optimal':\n",
    "            warm_start = False\n",
    "            f_eta = None\n",
    "        else:\n",
    "            raise Exception('not valid value')\n",
    "            \n",
    "        unbalanced = False\n",
    "        \n",
    "        d_cat = {}\n",
    "        clean_y = y[~y.isnull()]\n",
    "        for i in clean_y:\n",
    "            d_cat[i] = d_cat.get(i, 0) + 1\n",
    "        max_cat = 0\n",
    "        max_num = 0\n",
    "        for cat in d_cat:\n",
    "            if d_cat[cat] > max_num:\n",
    "                max_cat = cat\n",
    "                max_num = d_cat[cat]\n",
    "                    \n",
    "        if max_num / len(clean_y) > threshold_unbalanced:\n",
    "            print('Warning: found unbalanced dataset, training using balanced setting for class_weight')\n",
    "            if class_weight is None:\n",
    "                \n",
    "                d_cat = {cat:1/(d_cat[cat]/len(clean_y)) for cat in d_cat}\n",
    "                class_weight = d_cat\n",
    "                print('Weights used:', {i:float('%.2f'%d_cat[i]) for i in d_cat})\n",
    "            unbalanced = True\n",
    "                \n",
    "            \n",
    "        #compute epochs\n",
    "        epochs = max_iter // it_interval\n",
    "            \n",
    "        #create multiple perceptron\n",
    "        perc_ = SGDClassifier(loss=loss, penalty=penalty, max_iter=it_interval,\n",
    "                             alpha=alpha, learning_rate=learning_rate, eta0=eta0,\n",
    "                             warm_start=warm_start, n_jobs=-1, power_t=power_t, class_weight=class_weight)\n",
    "\n",
    "        param_warm = (perc_, X, y, epochs, eta0, percentage, f_eta, std)\n",
    "        param_cold = (perc_, X, y, percentage, max_iter, std)\n",
    "        \n",
    "        #perform analysis\n",
    "        np.random.seed(self.seed)\n",
    "        if warm_start:\n",
    "            tscores, vscores, valid = train_perc_warm(*param_warm)\n",
    "        else:\n",
    "            tscores, vscores, valid = train_perc_cold(*param_cold)\n",
    "        \n",
    "        if unbalanced:\n",
    "            Xv, yv = valid\n",
    "            d_cat = {}\n",
    "            for i in yv:\n",
    "                d_cat[i] = d_cat.get(i, 0) + 1\n",
    "            max_cat = 0\n",
    "            max_num = 0\n",
    "            for cat in d_cat:\n",
    "                if d_cat[cat] > max_num:\n",
    "                    max_cat = cat\n",
    "                    max_num = d_cat[cat]\n",
    "            mask = yv != max_cat\n",
    "            if np.sum(mask) == 0:\n",
    "                raise Exception('No data in smaller part of valid set')\n",
    "            print(Xv.shape, yv.shape)\n",
    "            minority_score = perc_.score(Xv[mask], yv[mask])\n",
    "            majority_score = perc_.score(Xv[~mask], yv[~mask])\n",
    "            print('Score on smaller part (%.2f%%) of validation set (unbalanced case): %.2f' % \n",
    "                  (np.sum(mask)/len(yv)*100, minority_score))\n",
    "            print('Score on bigger part (%.2f%%) of validation set (unbalanced case): %.2f' % \n",
    "                  (np.sum(~mask)/len(yv)*100, majority_score))\n",
    "            print('Category histogram in validation set:', d_cat)\n",
    "            \n",
    "        #save settings\n",
    "        self.param_warm = param_warm\n",
    "        self.param_cold = param_cold\n",
    "        self.warm_start = warm_start\n",
    "        self.perc_ = perc_\n",
    "        \n",
    "    def test(self, n=10):\n",
    "        param_warm, param_cold = self.param_warm, self.param_cold\n",
    "        \n",
    "        best = np.zeros(n)\n",
    "        worse = np.zeros(n)\n",
    "        for i in range(n):\n",
    "            np.random.seed(np.random.randint(10001)*i)\n",
    "            if self.warm_start:\n",
    "                tscores, vscores,_ = train_perc_warm(*param_warm, v=False)\n",
    "            else:\n",
    "                tscores, vscores,_ = train_perc_cold(*param_cold)\n",
    "            best[i] = np.max(vscores)\n",
    "            worse[i] = np.min(vscores)\n",
    "        print('average best performance: %.2f%%, standard deviation: %f'%(best.mean(), best.std()))\n",
    "        plt.figure()\n",
    "        plt.plot(np.arange(n), worse, color='r', label='worse performances')\n",
    "        plt.plot(np.arange(n), best, color='g', label='best performances')\n",
    "        legend = plt.legend(loc='upper center', shadow=True)\n",
    "        plt.xlabel('samples')\n",
    "        plt.ylabel('test score')\n",
    "        plt.show()\n",
    "        \n",
    "    def predict(self, X, y):\n",
    "        perc_ = self.perc_\n",
    "        mask = np.isnan(y)\n",
    "        to_be_predicted = X[mask]\n",
    "        assert y.shape[0] == X.shape[0]\n",
    "        assert to_be_predicted.shape[0] != 0\n",
    "        return perc_.predict(to_be_predicted)"
   ]
  },
  {
   "cell_type": "markdown",
   "metadata": {},
   "source": [
    "## Questions\n",
    "1. How can we decide which approach to prefer between substituting with the mean of the column and using a trained supervised (with a certain accuracy), in the case of missing values?\n",
    "2. How do we handle parameters in ubalanced dataset?\n",
    "3. How can we pass as predictor something we don't know totally"
   ]
  },
  {
   "cell_type": "markdown",
   "metadata": {},
   "source": [
    "## Next Steps\n",
    "1. Train MLP (build interface if needed, should be needed)\n",
    "2. Predict age wrt traffic data for filling in the data\n",
    "3. Predict os wrt traffic data for filling in the data\n",
    "4. Predict urbaniz wrt traffic data for filling in the data\n",
    "5. Predict data allowance wrt traffic data for filling in the data\n",
    "6. Monthly data traffic\n",
    "7. others\n",
    "8. clusteringggg"
   ]
  },
  {
   "cell_type": "code",
   "execution_count": null,
   "metadata": {
    "collapsed": true
   },
   "outputs": [],
   "source": []
  },
  {
   "cell_type": "markdown",
   "metadata": {},
   "source": [
    "## Tests"
   ]
  },
  {
   "cell_type": "markdown",
   "metadata": {},
   "source": [
    "### K-means on traffic\n",
    "Just an exploratory study, let's see what we get..."
   ]
  },
  {
   "cell_type": "code",
   "execution_count": 15,
   "metadata": {
    "collapsed": false,
    "scrolled": true
   },
   "outputs": [
    {
     "name": "stdout",
     "output_type": "stream",
     "text": [
      "cluster: 0 --> top category: V-Bag, frequency of category (variety within cluster): 39.74%, category clustering: 12.30%\n",
      "cluster: 1 --> top category: V-Bag, frequency of category (variety within cluster): 38.95%, category clustering: 31.22%\n",
      "cluster: 2 --> top category: V-Pet, frequency of category (variety within cluster): 35.62%, category clustering: 25.00%\n",
      "cluster: 3 --> top category: V-Bag, frequency of category (variety within cluster): 39.75%, category clustering: 8.65%\n",
      "cluster: 4 --> top category: V-Bag, frequency of category (variety within cluster): 35.61%, category clustering: 23.92%\n",
      "cluster: 5 --> top category: V-Pet, frequency of category (variety within cluster): 42.65%, category clustering: 4.50%\n",
      "Overall score (doesn't consider category clustering): 38.72%, weighted: 39.83%\n"
     ]
    },
    {
     "data": {
      "image/png": "[encoded data removed]",
      "text/plain": [
       "<matplotlib.figure.Figure at 0x1a0d6b60f0>"
      ]
     },
     "metadata": {},
     "output_type": "display_data"
    }
   ],
   "source": [
    "from sklearn.cluster import KMeans\n",
    "\n",
    "X = df_clean[traffic_columns]\n",
    "y = df_clean['Product']\n",
    "\n",
    "km = KMeans(n_clusters=6, init='k-means++', n_init=10, n_jobs=4)\n",
    "km.fit(X)\n",
    "score = check_clusters(y=y, clust_labels=km.labels_)"
   ]
  },
  {
   "cell_type": "markdown",
   "metadata": {},
   "source": [
    "now we try the same but with standardized columns, see the difference"
   ]
  },
  {
   "cell_type": "code",
   "execution_count": 16,
   "metadata": {
    "collapsed": false
   },
   "outputs": [
    {
     "name": "stdout",
     "output_type": "stream",
     "text": [
      "cluster: 0 --> top category: V-Bag, frequency of category (variety within cluster): 36.93%, category clustering: 29.59%\n",
      "cluster: 1 --> top category: V-Bag, frequency of category (variety within cluster): 36.40%, category clustering: 55.00%\n",
      "cluster: 2 --> top category: V-Bag, frequency of category (variety within cluster): 41.44%, category clustering: 6.22%\n",
      "cluster: 3 --> top category: V-Bag, frequency of category (variety within cluster): 37.93%, category clustering: 8.92%\n",
      "cluster: 4 --> top category: V-Bag, frequency of category (variety within cluster): 33.33%, category clustering: 0.14%\n",
      "cluster: 5 --> top category: V-Bag, frequency of category (variety within cluster): 100.00%, category clustering: 0.14%\n",
      "Overall score (doesn't consider category clustering): 47.67%, weighted: 37.09%\n"
     ]
    },
    {
     "data": {
      "image/png": "[encoded data removed]",
      "text/plain": [
       "<matplotlib.figure.Figure at 0x1a0d2fcb70>"
      ]
     },
     "metadata": {},
     "output_type": "display_data"
    }
   ],
   "source": [
    "X_std = batch_std(df_clean, traffic_columns)\n",
    "y = df_clean['Product']\n",
    "\n",
    "km = KMeans(n_clusters=6, init='k-means++', n_init=10, n_jobs=4)\n",
    "km.fit(X_std)\n",
    "score = check_clusters(y=y, clust_labels=km.labels_)"
   ]
  },
  {
   "cell_type": "markdown",
   "metadata": {},
   "source": [
    "It seems to have improved. Still the clusters seem to separate pretty poorly. Let's see the optimal value of k based on our previous score (using standardized data which seem to make more sense). We set the same seed each time so that the results are comparable and not influenced by different initial centroid allocation."
   ]
  },
  {
   "cell_type": "code",
   "execution_count": 17,
   "metadata": {
    "collapsed": false
   },
   "outputs": [
    {
     "name": "stdout",
     "output_type": "stream",
     "text": [
      "best weighted score: 38.99%, number of clusters: 9\n",
      "log of best: \n",
      "cluster: 0 --> top category: V-Bag, frequency of category (variety within cluster): 36.94%, category clustering: 29.05%\n",
      "cluster: 1 --> top category: V-Pet, frequency of category (variety within cluster): 37.44%, category clustering: 12.73%\n",
      "cluster: 2 --> top category: V-Bag, frequency of category (variety within cluster): 36.88%, category clustering: 53.38%\n",
      "cluster: 3 --> top category: V-Bag, frequency of category (variety within cluster): 44.87%, category clustering: 4.73%\n",
      "cluster: 4 --> top category: V-Bag, frequency of category (variety within cluster): 37.50%, category clustering: 1.62%\n",
      "cluster: 5 --> top category: V-Pet, frequency of category (variety within cluster): 50.00%, category clustering: 0.62%\n",
      "cluster: 6 --> top category: V-Pet, frequency of category (variety within cluster): 50.00%, category clustering: 0.31%\n",
      "cluster: 7 --> top category: V-Bag, frequency of category (variety within cluster): 100.00%, category clustering: 0.54%\n",
      "cluster: 8 --> top category: V-Bag, frequency of category (variety within cluster): 50.00%, category clustering: 0.14%\n",
      "Overall score (doesn't consider category clustering): 49.29%, weighted: 38.99%\n"
     ]
    },
    {
     "data": {
      "image/png": "[encoded data removed]",
      "text/plain": [
       "<matplotlib.figure.Figure at 0x1a0f23b7f0>"
      ]
     },
     "metadata": {},
     "output_type": "display_data"
    }
   ],
   "source": [
    "my_test = test()\n",
    "\n",
    "np.random.seed(23453)\n",
    "X_std = batch_std(df_clean, traffic_columns)\n",
    "y = df_clean['Product']\n",
    "\n",
    "for k in range(2, 10):\n",
    "    km = KMeans(n_clusters=k, init='k-means++', n_init=10, n_jobs=4)\n",
    "    km.fit(X_std)\n",
    "    \n",
    "    score= check_clusters(y=y, clust_labels=km.labels_, v=False)\n",
    "    my_test.update(score, k)\n",
    "        \n",
    "my_test.get_result()"
   ]
  },
  {
   "cell_type": "markdown",
   "metadata": {},
   "source": [
    "### Hierarchical clustering on traffic data\n",
    "Same approach as for k-means, test difference between standardized and not."
   ]
  },
  {
   "cell_type": "code",
   "execution_count": 18,
   "metadata": {
    "collapsed": false
   },
   "outputs": [
    {
     "name": "stdout",
     "output_type": "stream",
     "text": [
      "best weighted score: 37.72%, number of clusters: 7\n",
      "log of best: \n",
      "cluster: 0 --> top category: V-Bag, frequency of category (variety within cluster): 39.15%, category clustering: 24.86%\n",
      "cluster: 1 --> top category: V-Bag, frequency of category (variety within cluster): 35.78%, category clustering: 62.03%\n",
      "cluster: 2 --> top category: V-Bag, frequency of category (variety within cluster): 43.18%, category clustering: 5.14%\n",
      "cluster: 3 --> top category: V-Bag, frequency of category (variety within cluster): 35.81%, category clustering: 7.16%\n",
      "cluster: 4 --> top category: V-Auto, frequency of category (variety within cluster): 50.00%, category clustering: 0.67%\n",
      "cluster: 5 --> top category: V-Bag, frequency of category (variety within cluster): 100.00%, category clustering: 0.54%\n",
      "cluster: 6 --> top category: V-Bag, frequency of category (variety within cluster): 100.00%, category clustering: 0.14%\n",
      "Overall score (doesn't consider category clustering): 57.70%, weighted: 37.72%\n"
     ]
    },
    {
     "data": {
      "image/png": "[encoded data removed]",
      "text/plain": [
       "<matplotlib.figure.Figure at 0x108e1cb38>"
      ]
     },
     "metadata": {},
     "output_type": "display_data"
    }
   ],
   "source": [
    "from sklearn.cluster import AgglomerativeClustering\n",
    "\n",
    "my_test = test()\n",
    "X_std = batch_std(df_clean, traffic_columns)\n",
    "y = df_clean['Product']\n",
    "\n",
    "for k in range(2, 8):\n",
    "    clust = AgglomerativeClustering(n_clusters=k, linkage='ward', affinity='euclidean')\n",
    "    clust.fit(X_std)\n",
    "    score = check_clusters(y=y, clust_labels=clust.labels_, v=False)\n",
    "    my_test.update(score, k)\n",
    "\n",
    "my_test.get_result()"
   ]
  },
  {
   "cell_type": "markdown",
   "metadata": {},
   "source": [
    "try complete linkage"
   ]
  },
  {
   "cell_type": "code",
   "execution_count": 19,
   "metadata": {
    "collapsed": false
   },
   "outputs": [
    {
     "name": "stdout",
     "output_type": "stream",
     "text": [
      "best weighted score: 38.60%, number of clusters: 7\n",
      "log of best: \n",
      "cluster: 0 --> top category: V-Bag, frequency of category (variety within cluster): 37.06%, category clustering: 98.65%\n",
      "cluster: 1 --> top category: V-Pet, frequency of category (variety within cluster): 50.00%, category clustering: 0.93%\n",
      "cluster: 2 --> top category: V-Pet, frequency of category (variety within cluster): 66.67%, category clustering: 0.62%\n",
      "cluster: 3 --> top category: V-Auto, frequency of category (variety within cluster): 50.00%, category clustering: 0.67%\n",
      "cluster: 4 --> top category: V-Bag, frequency of category (variety within cluster): 100.00%, category clustering: 0.54%\n",
      "cluster: 5 --> top category: V-Pet, frequency of category (variety within cluster): 100.00%, category clustering: 0.16%\n",
      "cluster: 6 --> top category: V-Bag, frequency of category (variety within cluster): 100.00%, category clustering: 0.14%\n",
      "Overall score (doesn't consider category clustering): 71.96%, weighted: 38.60%\n"
     ]
    },
    {
     "data": {
      "image/png": "[encoded data removed]",
      "text/plain": [
       "<matplotlib.figure.Figure at 0x1a0d2f47b8>"
      ]
     },
     "metadata": {},
     "output_type": "display_data"
    }
   ],
   "source": [
    "from sklearn.cluster import AgglomerativeClustering\n",
    "\n",
    "my_test = test()\n",
    "X_std = batch_std(df_clean, traffic_columns)\n",
    "y = df_clean['Product']\n",
    "\n",
    "for k in range(2, 8):\n",
    "    clust = AgglomerativeClustering(n_clusters=k, linkage='complete', affinity='euclidean')\n",
    "    clust.fit(X_std)\n",
    "    score = check_clusters(y=y, clust_labels=clust.labels_, v=False)\n",
    "    my_test.update(score, k)\n",
    "\n",
    "my_test.get_result()"
   ]
  },
  {
   "cell_type": "markdown",
   "metadata": {},
   "source": [
    "### Perceptron (imputation of age data with traffic data)"
   ]
  },
  {
   "cell_type": "markdown",
   "metadata": {},
   "source": [
    "First of all we try to build a Perceptron to complete the age column keeping all the categories."
   ]
  },
  {
   "cell_type": "code",
   "execution_count": 204,
   "metadata": {
    "collapsed": false
   },
   "outputs": [
    {
     "name": "stdout",
     "output_type": "stream",
     "text": [
      "{0.85: 2, 0.65: 1, 0.35: 0, 0.75: 1, 0.55: 1, 0.45: 1, 0.25: 0, 0.15: 0}\n"
     ]
    }
   ],
   "source": [
    "df = df_clean.copy()\n",
    "#df.dropna(axis=0, how='any', subset=['NumericAge'], inplace=True)\n",
    "\n",
    "#merge some age ranges together\n",
    "#dict_numage_to_agecat = {i : int(100*i//40) for i in df[\"NumericAge\"].unique()}\n",
    "dict_numage_to_agecat = {0.85: 2, 0.65: 1, 0.35: 0, 0.75: 1, 0.55: 1, 0.45: 1, 0.25: 0, 0.15: 0}\n",
    "print(dict_numage_to_agecat)\n",
    "df[\"NumericAge\"] = df[\"NumericAge\"].map(lambda x: dict_numage_to_agecat[x], na_action = 'ignore')\n",
    "X = df[traffic_columns]\n",
    "y = df['NumericAge']\n",
    "my_perc = perc()"
   ]
  },
  {
   "cell_type": "code",
   "execution_count": 210,
   "metadata": {
    "collapsed": false
   },
   "outputs": [
    {
     "name": "stdout",
     "output_type": "stream",
     "text": [
      "Warning: found unbalanced dataset, training using balanced setting for class_weight\n",
      "Warning: missing data found and removed. Old input shape: 2000, 14, new input shape: 1880, 14\n",
      "run=1 tscore=0.34618 vscore=0.371571\n",
      "run=2 tscore=0.34618 vscore=0.371571\n",
      "run=3 tscore=0.34618 vscore=0.371571\n",
      "run=4 tscore=0.34618 vscore=0.371571\n",
      "run=5 tscore=0.34618 vscore=0.371571\n",
      "run=6 tscore=0.34618 vscore=0.371571\n",
      "run=7 tscore=0.34618 vscore=0.371571\n",
      "run=8 tscore=0.557809 vscore=0.600998\n",
      "run=9 tscore=0.597025 vscore=0.61596\n",
      "run=10 tscore=0.617309 vscore=0.608479\n",
      "run=11 tscore=0.617985 vscore=0.613466\n",
      "run=12 tscore=0.618661 vscore=0.610973\n",
      "run=13 tscore=0.621366 vscore=0.610973\n",
      "run=14 tscore=0.620014 vscore=0.613466\n",
      "run=15 tscore=0.622718 vscore=0.610973\n",
      "run=16 tscore=0.622718 vscore=0.610973\n",
      "run=17 tscore=0.622718 vscore=0.610973\n",
      "run=18 tscore=0.628803 vscore=0.608479\n",
      "run=19 tscore=0.630156 vscore=0.603491\n",
      "run=20 tscore=0.634212 vscore=0.608479\n",
      "run=21 tscore=0.635565 vscore=0.613466\n",
      "run=22 tscore=0.638945 vscore=0.61596\n",
      "run=23 tscore=0.640974 vscore=0.618454\n",
      "run=24 tscore=0.638945 vscore=0.613466\n",
      "run=25 tscore=0.636241 vscore=0.605985\n",
      "run=26 tscore=0.638945 vscore=0.605985\n",
      "run=27 tscore=0.638945 vscore=0.61596\n",
      "run=28 tscore=0.636241 vscore=0.610973\n",
      "run=29 tscore=0.638269 vscore=0.613466\n",
      "run=30 tscore=0.639621 vscore=0.620948\n",
      "run=31 tscore=0.643678 vscore=0.610973\n",
      "run=32 tscore=0.637593 vscore=0.608479\n",
      "run=33 tscore=0.634212 vscore=0.593516\n",
      "run=34 tscore=0.635565 vscore=0.586035\n",
      "run=35 tscore=0.631508 vscore=0.588529\n",
      "run=36 tscore=0.632184 vscore=0.583541\n",
      "run=37 tscore=0.624746 vscore=0.583541\n",
      "run=38 tscore=0.626775 vscore=0.581047\n",
      "run=39 tscore=0.623394 vscore=0.571072\n",
      "run=40 tscore=0.621366 vscore=0.568579\n",
      "run=41 tscore=0.620014 vscore=0.568579\n",
      "run=42 tscore=0.618661 vscore=0.568579\n",
      "run=43 tscore=0.617309 vscore=0.563591\n",
      "run=44 tscore=0.616633 vscore=0.568579\n",
      "run=45 tscore=0.615281 vscore=0.566085\n",
      "run=46 tscore=0.615957 vscore=0.571072\n",
      "run=47 tscore=0.613928 vscore=0.571072\n",
      "run=48 tscore=0.613928 vscore=0.568579\n",
      "run=49 tscore=0.614604 vscore=0.571072\n",
      "run=50 tscore=0.614604 vscore=0.573566\n",
      "run=51 tscore=0.613252 vscore=0.573566\n",
      "run=52 tscore=0.608519 vscore=0.571072\n",
      "run=53 tscore=0.608519 vscore=0.571072\n",
      "run=54 tscore=0.609195 vscore=0.573566\n",
      "run=55 tscore=0.605815 vscore=0.573566\n",
      "run=56 tscore=0.605139 vscore=0.573566\n",
      "run=57 tscore=0.605139 vscore=0.571072\n",
      "run=58 tscore=0.605139 vscore=0.571072\n",
      "run=59 tscore=0.605139 vscore=0.571072\n",
      "run=60 tscore=0.605815 vscore=0.571072\n",
      "run=61 tscore=0.605815 vscore=0.571072\n",
      "run=62 tscore=0.606491 vscore=0.571072\n",
      "run=63 tscore=0.606491 vscore=0.571072\n",
      "run=64 tscore=0.606491 vscore=0.571072\n",
      "run=65 tscore=0.605815 vscore=0.571072\n",
      "run=66 tscore=0.605139 vscore=0.571072\n",
      "run=67 tscore=0.605815 vscore=0.571072\n",
      "run=68 tscore=0.606491 vscore=0.568579\n",
      "run=69 tscore=0.607167 vscore=0.568579\n",
      "run=70 tscore=0.607167 vscore=0.568579\n",
      "run=71 tscore=0.607167 vscore=0.568579\n",
      "run=72 tscore=0.607167 vscore=0.568579\n",
      "run=73 tscore=0.607167 vscore=0.568579\n",
      "run=74 tscore=0.607167 vscore=0.568579\n",
      "run=75 tscore=0.606491 vscore=0.571072\n",
      "run=76 tscore=0.606491 vscore=0.571072\n",
      "run=77 tscore=0.606491 vscore=0.568579\n",
      "run=78 tscore=0.607843 vscore=0.568579\n",
      "run=79 tscore=0.605815 vscore=0.566085\n",
      "run=80 tscore=0.607843 vscore=0.568579\n",
      "(401, 13) (401,)\n",
      "Score on smaller part (37.16%) of validation set (unbalanced case): 0.48\n",
      "Score on bigger part (62.84%) of validation set (unbalanced case): 0.62\n",
      "Category histogram in validation set: {1.0: 252, 0.0: 149}\n"
     ]
    },
    {
     "data": {
      "image/png": "[encoded data removed]",
      "text/plain": [
       "<matplotlib.figure.Figure at 0x1a10008ef0>"
      ]
     },
     "metadata": {},
     "output_type": "display_data"
    }
   ],
   "source": [
    "my_perc.train(X, y, percentage=0.8, std=True, loss='hinge', penalty='none', alpha=1e-6,\n",
    "          power_t=0.7, max_iter=8000, it_interval=100, learning_rate='constant', eta0=1e-6,\n",
    "          threshold_unbalanced=0.6, class_weight={2: 2.00, 1: 1.55, 0: 4.50})"
   ]
  },
  {
   "cell_type": "code",
   "execution_count": 84,
   "metadata": {
    "collapsed": true
   },
   "outputs": [
    {
     "data": {
      "text/plain": [
       "array([0., 1., 1., 0., 1., 0., 0., 1., 1., 1., 1., 0., 1., 0., 1., 0., 1.,\n",
       "       1., 0., 1., 1., 1., 1., 1., 1., 0., 1., 1., 0., 0., 1., 0., 0., 1.,\n",
       "       1., 1., 1., 1., 1., 1., 1., 1., 1., 0., 1., 1., 1., 1., 1., 0., 1.,\n",
       "       0., 0., 0., 1., 0., 0., 1., 1., 0., 1., 1., 0., 0., 0., 0., 0., 0.,\n",
       "       0., 0., 0., 0., 0., 1., 1., 1., 0., 0., 1., 0., 0., 1., 1., 1., 0.,\n",
       "       0., 0., 0., 1., 0., 1., 1., 0., 0., 1., 1., 1., 1., 0., 1., 1., 1.,\n",
       "       0., 1., 1., 1., 1., 1., 0., 0., 1., 1., 0., 1., 0., 0., 0., 0., 0.,\n",
       "       1.])"
      ]
     },
     "execution_count": 84,
     "metadata": {},
     "output_type": "execute_result"
    }
   ],
   "source": [
    "my_perc.predict(X,y)"
   ]
  },
  {
   "cell_type": "code",
   "execution_count": 213,
   "metadata": {
    "collapsed": true
   },
   "outputs": [],
   "source": [
    "df = df_clean.copy()\n",
    "#df.dropna(axis=0, how='any', subset=['Urban'], inplace=True)\n",
    "\n",
    "#merge some age ranges together\n",
    "#dict_numage_to_agecat = {i : int(100*i//40) for i in df[\"NumericAge\"].unique()}\n",
    "X = df[traffic_columns]\n",
    "#unbalanced?\n",
    "#np.bincount(y[~np.isnan(y)].astype(int))\n",
    "y = df['Urban'].map(lambda x: int(x), na_action = 'ignore')\n",
    "my_perc = perc()"
   ]
  },
  {
   "cell_type": "code",
   "execution_count": 214,
   "metadata": {
    "collapsed": false
   },
   "outputs": [
    {
     "name": "stdout",
     "output_type": "stream",
     "text": [
      "Warning: missing data found and removed. Old input shape: 2000, 14, new input shape: 1654, 14\n",
      "run=1 tscore=0.353303 vscore=0.292614\n",
      "run=2 tscore=0.357911 vscore=0.286932\n",
      "run=3 tscore=0.368664 vscore=0.286932\n",
      "run=4 tscore=0.372504 vscore=0.292614\n",
      "run=5 tscore=0.378648 vscore=0.306818\n",
      "run=6 tscore=0.378648 vscore=0.303977\n",
      "run=7 tscore=0.380952 vscore=0.3125\n",
      "run=8 tscore=0.380952 vscore=0.318182\n",
      "run=9 tscore=0.379416 vscore=0.321023\n",
      "run=10 tscore=0.380184 vscore=0.326705\n",
      "run=11 tscore=0.387865 vscore=0.332386\n",
      "run=12 tscore=0.394777 vscore=0.335227\n",
      "run=13 tscore=0.396313 vscore=0.340909\n",
      "run=14 tscore=0.397849 vscore=0.34375\n",
      "run=15 tscore=0.400154 vscore=0.340909\n",
      "run=16 tscore=0.404762 vscore=0.346591\n",
      "run=17 tscore=0.410906 vscore=0.346591\n",
      "run=18 tscore=0.410138 vscore=0.346591\n",
      "run=19 tscore=0.412442 vscore=0.352273\n",
      "run=20 tscore=0.414747 vscore=0.357955\n",
      "run=21 tscore=0.414747 vscore=0.357955\n",
      "run=22 tscore=0.418587 vscore=0.363636\n",
      "run=23 tscore=0.417819 vscore=0.363636\n",
      "run=24 tscore=0.419355 vscore=0.366477\n",
      "run=25 tscore=0.423195 vscore=0.363636\n",
      "run=26 tscore=0.427803 vscore=0.372159\n",
      "run=27 tscore=0.425499 vscore=0.375\n",
      "run=28 tscore=0.426267 vscore=0.375\n",
      "run=29 tscore=0.427803 vscore=0.375\n",
      "run=30 tscore=0.430876 vscore=0.375\n",
      "run=31 tscore=0.432412 vscore=0.375\n",
      "run=32 tscore=0.430876 vscore=0.377841\n",
      "run=33 tscore=0.432412 vscore=0.380682\n",
      "run=34 tscore=0.43318 vscore=0.377841\n",
      "run=35 tscore=0.436252 vscore=0.383523\n",
      "run=36 tscore=0.440092 vscore=0.383523\n",
      "run=37 tscore=0.434716 vscore=0.383523\n",
      "run=38 tscore=0.439324 vscore=0.372159\n",
      "run=39 tscore=0.434716 vscore=0.375\n",
      "run=40 tscore=0.433948 vscore=0.383523\n",
      "run=41 tscore=0.428571 vscore=0.386364\n",
      "run=42 tscore=0.423963 vscore=0.394886\n",
      "run=43 tscore=0.423963 vscore=0.400568\n",
      "run=44 tscore=0.423195 vscore=0.400568\n",
      "run=45 tscore=0.425499 vscore=0.400568\n",
      "run=46 tscore=0.426267 vscore=0.403409\n",
      "run=47 tscore=0.428571 vscore=0.403409\n",
      "run=48 tscore=0.427035 vscore=0.400568\n",
      "run=49 tscore=0.424731 vscore=0.397727\n",
      "run=50 tscore=0.422427 vscore=0.397727\n"
     ]
    },
    {
     "data": {
      "image/png": "[encoded data removed]",
      "text/plain": [
       "<matplotlib.figure.Figure at 0x1a19117c50>"
      ]
     },
     "metadata": {},
     "output_type": "display_data"
    }
   ],
   "source": [
    "my_perc.train(X, y, percentage=0.8, std=False, loss='hinge', penalty='none', alpha=1e-4,\n",
    "          power_t=0.5, max_iter=5000, it_interval=100, learning_rate='constant', eta0=1e-8,\n",
    "          threshold_unbalanced=0.6, class_weight=None)"
   ]
  },
  {
   "cell_type": "code",
   "execution_count": 197,
   "metadata": {
    "collapsed": true
   },
   "outputs": [],
   "source": [
    "df = df_clean.copy()\n",
    "\n",
    "X = df[traffic_columns]\n",
    "y = df['OS_clean']\n",
    "my_perc = perc()"
   ]
  },
  {
   "cell_type": "code",
   "execution_count": 201,
   "metadata": {
    "collapsed": false
   },
   "outputs": [
    {
     "name": "stdout",
     "output_type": "stream",
     "text": [
      "Warning: missing data found and removed. Old input shape: 2000, 14, new input shape: 1452, 14\n",
      "run=1 tscore=0.017331 vscore=0.0201342\n",
      "run=2 tscore=0.017331 vscore=0.0201342\n",
      "run=3 tscore=0.017331 vscore=0.0201342\n",
      "run=4 tscore=0.017331 vscore=0.0201342\n",
      "run=5 tscore=0.017331 vscore=0.0201342\n",
      "run=6 tscore=0.017331 vscore=0.0201342\n",
      "run=7 tscore=0.017331 vscore=0.0201342\n",
      "run=8 tscore=0.017331 vscore=0.0201342\n",
      "run=9 tscore=0.017331 vscore=0.0201342\n",
      "run=10 tscore=0.017331 vscore=0.0201342\n",
      "run=11 tscore=0.017331 vscore=0.0201342\n",
      "run=12 tscore=0.017331 vscore=0.0201342\n",
      "run=13 tscore=0.017331 vscore=0.0201342\n",
      "run=14 tscore=0.017331 vscore=0.0201342\n",
      "run=15 tscore=0.017331 vscore=0.0201342\n",
      "run=16 tscore=0.017331 vscore=0.0201342\n",
      "run=17 tscore=0.017331 vscore=0.0201342\n",
      "run=18 tscore=0.017331 vscore=0.0201342\n",
      "run=19 tscore=0.017331 vscore=0.0234899\n",
      "run=20 tscore=0.017331 vscore=0.0234899\n",
      "run=21 tscore=0.017331 vscore=0.0234899\n",
      "run=22 tscore=0.0181976 vscore=0.0268456\n",
      "run=23 tscore=0.0207972 vscore=0.0268456\n",
      "run=24 tscore=0.0225303 vscore=0.0268456\n",
      "run=25 tscore=0.0259965 vscore=0.033557\n",
      "run=26 tscore=0.0320624 vscore=0.0402685\n",
      "run=27 tscore=0.042461 vscore=0.0469799\n",
      "run=28 tscore=0.0658579 vscore=0.0704698\n",
      "run=29 tscore=0.092721 vscore=0.100671\n",
      "run=30 tscore=0.122184 vscore=0.167785\n",
      "run=31 tscore=0.167244 vscore=0.201342\n",
      "run=32 tscore=0.227036 vscore=0.248322\n",
      "run=33 tscore=0.300693 vscore=0.291946\n",
      "run=34 tscore=0.357019 vscore=0.355705\n",
      "run=35 tscore=0.425477 vscore=0.412752\n",
      "run=36 tscore=0.485269 vscore=0.479866\n",
      "run=37 tscore=0.532929 vscore=0.560403\n",
      "run=38 tscore=0.568458 vscore=0.59396\n",
      "run=39 tscore=0.573657 vscore=0.600671\n",
      "run=40 tscore=0.57539 vscore=0.607383\n",
      "run=41 tscore=0.57799 vscore=0.614094\n",
      "run=42 tscore=0.57799 vscore=0.620805\n",
      "run=43 tscore=0.577123 vscore=0.620805\n",
      "run=44 tscore=0.579723 vscore=0.620805\n",
      "run=45 tscore=0.579723 vscore=0.620805\n",
      "run=46 tscore=0.581456 vscore=0.61745\n",
      "run=47 tscore=0.582322 vscore=0.61745\n",
      "run=48 tscore=0.583189 vscore=0.620805\n",
      "run=49 tscore=0.583189 vscore=0.620805\n",
      "run=50 tscore=0.583189 vscore=0.620805\n",
      "run=51 tscore=0.583189 vscore=0.61745\n",
      "run=52 tscore=0.583189 vscore=0.61745\n",
      "run=53 tscore=0.584055 vscore=0.61745\n",
      "run=54 tscore=0.583189 vscore=0.61745\n",
      "run=55 tscore=0.583189 vscore=0.61745\n",
      "run=56 tscore=0.583189 vscore=0.61745\n",
      "run=57 tscore=0.583189 vscore=0.61745\n",
      "run=58 tscore=0.583189 vscore=0.61745\n",
      "run=59 tscore=0.583189 vscore=0.61745\n",
      "run=60 tscore=0.583189 vscore=0.61745\n",
      "run=61 tscore=0.584055 vscore=0.61745\n",
      "run=62 tscore=0.584055 vscore=0.61745\n",
      "run=63 tscore=0.584055 vscore=0.61745\n",
      "run=64 tscore=0.584055 vscore=0.61745\n",
      "run=65 tscore=0.584055 vscore=0.61745\n",
      "run=66 tscore=0.584055 vscore=0.61745\n",
      "run=67 tscore=0.584055 vscore=0.61745\n",
      "run=68 tscore=0.584055 vscore=0.61745\n",
      "run=69 tscore=0.584055 vscore=0.61745\n",
      "run=70 tscore=0.584055 vscore=0.61745\n"
     ]
    },
    {
     "data": {
      "image/png": "[encoded data removed]",
      "text/plain": [
       "<matplotlib.figure.Figure at 0x1a0fe4ca90>"
      ]
     },
     "metadata": {},
     "output_type": "display_data"
    }
   ],
   "source": [
    "my_perc.train(X, y, percentage=0.8, std=True, loss='log', penalty='none', alpha=1e-4,\n",
    "          power_t=0.5, max_iter=7000, it_interval=100, learning_rate='constant', eta0=1e-8,\n",
    "          threshold_unbalanced=0.6, class_weight=None)"
   ]
  },
  {
   "cell_type": "code",
   "execution_count": 185,
   "metadata": {
    "collapsed": false
   },
   "outputs": [
    {
     "name": "stdout",
     "output_type": "stream",
     "text": [
      "['0.2' '0.1' '0.3' '0.0' nan '0.5' '0.6' '0.4' '0.7' '0.9' '0.8' '1.0']\n"
     ]
    }
   ],
   "source": [
    "df = df_clean.copy()\n",
    "\n",
    "X = df[traffic_columns]\n",
    "\n",
    "y = df['DataAllowance'].map(lambda x: '%.1f'%x, na_action = 'ignore')\n",
    "print(y.unique())\n",
    "my_perc = perc()"
   ]
  },
  {
   "cell_type": "code",
   "execution_count": 196,
   "metadata": {
    "collapsed": false
   },
   "outputs": [
    {
     "name": "stdout",
     "output_type": "stream",
     "text": [
      "Warning: missing data found and removed. Old input shape: 2000, 14, new input shape: 1636, 14\n",
      "run=1 tscore=0.000777001 vscore=0\n",
      "run=2 tscore=0.000777001 vscore=0\n",
      "run=3 tscore=0.001554 vscore=0\n",
      "run=4 tscore=0.002331 vscore=0\n",
      "run=5 tscore=0.003108 vscore=0\n",
      "run=6 tscore=0.00621601 vscore=0\n",
      "run=7 tscore=0.00854701 vscore=0.0114613\n",
      "run=8 tscore=0.010101 vscore=0.0114613\n",
      "run=9 tscore=0.013209 vscore=0.017192\n",
      "run=10 tscore=0.017871 vscore=0.025788\n",
      "run=11 tscore=0.02331 vscore=0.0372493\n",
      "run=12 tscore=0.032634 vscore=0.0429799\n",
      "run=13 tscore=0.039627 vscore=0.0573066\n",
      "run=14 tscore=0.0512821 vscore=0.0630372\n",
      "run=15 tscore=0.0668221 vscore=0.0687679\n",
      "run=16 tscore=0.0924631 vscore=0.0916905\n",
      "run=17 tscore=0.118104 vscore=0.117479\n",
      "run=18 tscore=0.148407 vscore=0.157593\n",
      "run=19 tscore=0.177933 vscore=0.166189\n",
      "run=20 tscore=0.191142 vscore=0.180516\n",
      "run=21 tscore=0.199689 vscore=0.189112\n",
      "run=22 tscore=0.204351 vscore=0.200573\n",
      "run=23 tscore=0.20979 vscore=0.203438\n",
      "run=24 tscore=0.214452 vscore=0.206304\n",
      "run=25 tscore=0.219114 vscore=0.209169\n",
      "run=26 tscore=0.223776 vscore=0.209169\n",
      "run=27 tscore=0.224553 vscore=0.2149\n",
      "run=28 tscore=0.229992 vscore=0.2149\n",
      "run=29 tscore=0.232323 vscore=0.217765\n",
      "run=30 tscore=0.232323 vscore=0.22063\n",
      "run=31 tscore=0.239316 vscore=0.226361\n",
      "run=32 tscore=0.239316 vscore=0.243553\n",
      "run=33 tscore=0.238539 vscore=0.243553\n",
      "run=34 tscore=0.244755 vscore=0.246418\n",
      "run=35 tscore=0.249417 vscore=0.260745\n",
      "run=36 tscore=0.255633 vscore=0.25788\n",
      "run=37 tscore=0.264957 vscore=0.25788\n",
      "run=38 tscore=0.268065 vscore=0.252149\n",
      "run=39 tscore=0.268842 vscore=0.26361\n",
      "run=40 tscore=0.272727 vscore=0.272206\n",
      "run=41 tscore=0.286713 vscore=0.277937\n",
      "run=42 tscore=0.293706 vscore=0.275072\n",
      "run=43 tscore=0.298368 vscore=0.280802\n",
      "run=44 tscore=0.307692 vscore=0.275072\n",
      "run=45 tscore=0.3108 vscore=0.272206\n",
      "run=46 tscore=0.315462 vscore=0.272206\n",
      "run=47 tscore=0.320901 vscore=0.277937\n",
      "run=48 tscore=0.324786 vscore=0.280802\n",
      "run=49 tscore=0.325563 vscore=0.280802\n",
      "run=50 tscore=0.331002 vscore=0.286533\n",
      "run=51 tscore=0.332556 vscore=0.292264\n",
      "run=52 tscore=0.33411 vscore=0.30086\n",
      "run=53 tscore=0.337995 vscore=0.30659\n",
      "run=54 tscore=0.342657 vscore=0.318052\n",
      "run=55 tscore=0.347319 vscore=0.320917\n",
      "run=56 tscore=0.351204 vscore=0.326648\n",
      "run=57 tscore=0.351981 vscore=0.329513\n",
      "run=58 tscore=0.355866 vscore=0.329513\n",
      "run=59 tscore=0.358197 vscore=0.326648\n",
      "run=60 tscore=0.359751 vscore=0.329513\n",
      "run=61 tscore=0.359751 vscore=0.329513\n",
      "run=62 tscore=0.360528 vscore=0.329513\n",
      "run=63 tscore=0.362859 vscore=0.332378\n",
      "run=64 tscore=0.36519 vscore=0.332378\n",
      "run=65 tscore=0.364413 vscore=0.329513\n",
      "run=66 tscore=0.36519 vscore=0.329513\n",
      "run=67 tscore=0.364413 vscore=0.329513\n",
      "run=68 tscore=0.363636 vscore=0.332378\n",
      "run=69 tscore=0.363636 vscore=0.332378\n",
      "run=70 tscore=0.363636 vscore=0.329513\n",
      "run=71 tscore=0.363636 vscore=0.329513\n",
      "run=72 tscore=0.363636 vscore=0.329513\n",
      "run=73 tscore=0.363636 vscore=0.329513\n",
      "run=74 tscore=0.363636 vscore=0.329513\n",
      "run=75 tscore=0.363636 vscore=0.329513\n",
      "run=76 tscore=0.363636 vscore=0.329513\n",
      "run=77 tscore=0.363636 vscore=0.329513\n",
      "run=78 tscore=0.362082 vscore=0.329513\n",
      "run=79 tscore=0.362082 vscore=0.329513\n",
      "run=80 tscore=0.362082 vscore=0.326648\n"
     ]
    },
    {
     "data": {
      "image/png": "[encoded data removed]",
      "text/plain": [
       "<matplotlib.figure.Figure at 0x1a199a5ac8>"
      ]
     },
     "metadata": {},
     "output_type": "display_data"
    }
   ],
   "source": [
    "my_perc.train(X, y, percentage=0.8, std=False, loss='hinge', penalty='none', alpha=1e-4,\n",
    "          power_t=0.5, max_iter=8000, it_interval=100, learning_rate='constant', eta0=1e-8,\n",
    "          threshold_unbalanced=0.6, class_weight=None)"
   ]
  },
  {
   "cell_type": "code",
   "execution_count": null,
   "metadata": {
    "collapsed": true
   },
   "outputs": [],
   "source": []
  }
 ],
 "metadata": {
  "kernelspec": {
   "display_name": "Python 3",
   "language": "python",
   "name": "python3"
  },
  "language_info": {
   "codemirror_mode": {
    "name": "ipython",
    "version": 3
   },
   "file_extension": ".py",
   "mimetype": "text/x-python",
   "name": "python",
   "nbconvert_exporter": "python",
   "pygments_lexer": "ipython3",
   "version": "3.6.0"
  }
 },
 "nbformat": 4,
 "nbformat_minor": 2
}
