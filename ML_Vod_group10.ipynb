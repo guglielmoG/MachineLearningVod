{
 "cells": [
  {
   "cell_type": "markdown",
   "metadata": {},
   "source": [
    "# Vodafone Challenge\n",
    "## Scrap notebook\n",
    "- **Separate each test** you make with a markdown cell like this one (press M when the cursor is on a cell but it is not editing). \n",
    "- Put a **small description** on what you are doing and why you do so (like if you manipulate data in a specific way, or apply a particular definition of distance, write the intuition behind. Both for you to remmember later and for team members)\n",
    "- Make sure you are working with the **proper data** i.e. the data (and their transformation) that you with to use are defined before you do the analysis. Bugs could appear if you do not define something and Python retrieves older values for the variables you are using.\n",
    "- **Do not modify df_backup**, always work with a copy [like df = df_backup.copy()]\n",
    "- Add short line of description in the Summary section\n",
    "- For each test, write briefly which value of the parameter tried (like learning rate constant, tried eta0 large (10^-2) not well, smaller (10^-7) seem to work best. Then changed with learning rate adaptivive [which?] and tried ... large (10^-2) worked best).\n",
    "\n",
    "**For the best test, build pipeline: bulleted version of all things done on the dataset until the result. It could be a useful thing to do for each test actually**"
   ]
  },
  {
   "cell_type": "markdown",
   "metadata": {},
   "source": [
    "## Summary\n",
    "\n",
    "1. **K-means on traffic data**: tested for different k's, both standardized and not. Performs poorly.\n",
    "2. **Sample 2**: ..."
   ]
  },
  {
   "cell_type": "markdown",
   "metadata": {},
   "source": [
    "## Code\n",
    "### *setup*"
   ]
  },
  {
   "cell_type": "code",
   "execution_count": 2,
   "metadata": {
    "collapsed": true
   },
   "outputs": [],
   "source": [
    "%matplotlib inline\n",
    "\n",
    "import pandas as pd\n",
    "import numpy as np\n",
    "import matplotlib.pyplot as plt\n",
    "\n",
    "from sklearn.neighbors import KNeighborsClassifier\n",
    "from sklearn.decomposition import PCA\n",
    "\n",
    "pd.set_option('display.max_columns', None)"
   ]
  },
  {
   "cell_type": "code",
   "execution_count": 3,
   "metadata": {
    "collapsed": true
   },
   "outputs": [],
   "source": [
    "df_backup = pd.read_csv('dataset_challenge_v5.TRAINING.csv')"
   ]
  },
  {
   "cell_type": "markdown",
   "metadata": {},
   "source": [
    "### Baldassi's Cleaning\n",
    "**DeviceOperatingSystem**: I preferred not to create a specific category for 'windows' because too few observations, however, if the 'other' category reveals to explain well, we can unpack it (in a new dataset)"
   ]
  },
  {
   "cell_type": "code",
   "execution_count": 36,
   "metadata": {
    "collapsed": false
   },
   "outputs": [
    {
     "name": "stdout",
     "output_type": "stream",
     "text": [
      "{'iOS': 568, nan: 548, 'Android': 858, 'Windows Mobile': 6, 'Proprietary': 5, 'Windows Phone': 7, 'BlackBerry OS': 1, 'Firefox': 1, 'Symbian^3': 1, 'BREW': 1, 'Series 40': 2, 'BB10': 1, 'VRTXmc': 1}\n"
     ]
    }
   ],
   "source": [
    "df_clean = df_backup.copy()\n",
    "\n",
    "del df_clean['Unnamed: 0']\n",
    "\n",
    "c = list(df_clean.columns)\n",
    "c[0] = 'ID'\n",
    "df_clean.columns = c\n",
    "\n",
    "df_clean['ZipCode'] = df_clean['ZipCode'].map(lambda x: '%05i' % x, na_action='ignore')\n",
    "\n",
    "traffic_columns = ['File-Transfer', 'Games',\n",
    "       'Instant-Messaging-Applications', 'Mail', 'Music-Streaming',\n",
    "       'Network-Operation', 'P2P-Applications', 'Security',\n",
    "       'Streaming-Applications', 'Terminals', 'Unclassified', 'VoIP',\n",
    "       'Web-Applications']\n",
    "df_clean[traffic_columns]\n",
    "\n",
    "cats = df_clean['CustomerAge'].astype('category').cat.categories\n",
    "d = {cat:(15+10*i)/100 for i,cat in enumerate(cats)}\n",
    "df_clean['NumericAge'] = df_clean['CustomerAge'].map(lambda x: d[x], na_action='ignore')\n",
    "\n",
    "d = {}\n",
    "for elem in df_clean['DeviceOperatingSystem']:\n",
    "    d[elem] = d.get(elem, 0) + 1\n",
    "print(d) #some categories have very few values, group them\n",
    "OS_other = []\n",
    "for key in d:\n",
    "    if d[key] < 10:\n",
    "        OS_other.append(key)\n",
    "        d[key] = 'other'\n",
    "    else:\n",
    "        d[key] = key\n",
    "df_clean['OS_clean'] = df_clean['DeviceOperatingSystem'].map(lambda x: d[x], na_action='ignore')"
   ]
  },
  {
   "cell_type": "markdown",
   "metadata": {},
   "source": [
    "### Class definition and useful dependencies\n",
    "Space that collects classes or function definition that come in handy throughtout the project"
   ]
  },
  {
   "cell_type": "code",
   "execution_count": 41,
   "metadata": {
    "collapsed": true
   },
   "outputs": [],
   "source": [
    "class buildTrain():\n",
    "    def __init__(self, X, y, perc=0.8, seed=None):\n",
    "        if seed is not None:\n",
    "            np.random.seed(seed)\n",
    "        n_data, n_features = X.shape\n",
    "        assert n_data == len(y)\n",
    "        \n",
    "        perm = np.random.permutation(n_data)\n",
    "        n_train = int(n_data * perc)\n",
    "        train_mask = perm[:n_train]\n",
    "        valid_mask = perm[n_train:]\n",
    "        \n",
    "        assert (len(train_mask)+len(valid_mask)) == n_data\n",
    "        \n",
    "        train_data = X[train_mask]\n",
    "        train_target = y[train_mask]\n",
    "        valid_data = X[valid_mask]\n",
    "        valid_target = y[valid_mask]\n",
    "        assert (len(train_data)+len(valid_data)) == n_data\n",
    "        \n",
    "        self.Xt = train_data\n",
    "        self.yt = train_target\n",
    "        self.Xv = valid_data\n",
    "        self.yv = valid_target\n",
    "        \n",
    "    def get_train(self):\n",
    "        return self.Xt, self.yt\n",
    "    \n",
    "    def get_valid(self):\n",
    "        return self.Xv, self.yv"
   ]
  },
  {
   "cell_type": "code",
   "execution_count": 183,
   "metadata": {
    "collapsed": true
   },
   "outputs": [],
   "source": [
    "class logger():\n",
    "    def __init__(self, verbose = True):\n",
    "        self.v = verbose\n",
    "        self.log_ = []\n",
    "        \n",
    "    def log_it(self, text):\n",
    "        #adds to log record\n",
    "        if not isinstance(text, str):\n",
    "            raise Exception('must pass text to logger')\n",
    "        if self.v:\n",
    "            print(text)\n",
    "        self.log_.append(text)\n",
    "        \n",
    "    def print_out(self, text):\n",
    "        if not isinstance(text, str):\n",
    "            raise Exception('must pass text to logger')\n",
    "        #doesn't add to log record\n",
    "        if self.v:\n",
    "            print(text)\n",
    "        \n",
    "    def show_img(self, array):\n",
    "        if not isinstance(array, np.ndarray):\n",
    "            raise Exception(1)\n",
    "        if self.v:\n",
    "            plt.imshow(array)\n",
    "        \n",
    "    def get_log(self):\n",
    "        return \"\\n\".join(self.log_)"
   ]
  },
  {
   "cell_type": "code",
   "execution_count": 231,
   "metadata": {
    "collapsed": false
   },
   "outputs": [],
   "source": [
    "def check_clusters(y, clust_labels, img_threshold=15, v=True):\n",
    "    #checks input\n",
    "    if y.ndim != 1: \n",
    "        raise Exception(2)\n",
    "    if len(y) != len(clust_labels):\n",
    "        raise Exception(4)\n",
    "    \n",
    "    #logger setup\n",
    "    my_log = logger(verbose=v)\n",
    "        \n",
    "    #build histogram of categories (how many point for each cat)\n",
    "    cats = {}\n",
    "    for i in y:\n",
    "        cats[i] = cats.get(i, 0) + 1\n",
    "    n_cats = len(cats)\n",
    "    \n",
    "    #build histogram of clusters (how many point in each cluster)\n",
    "    clusters = {}\n",
    "    for i in clust_labels:\n",
    "        clusters[i] = clusters.get(i, 0) + 1\n",
    "    n_clusters = len(clusters)\n",
    "        \n",
    "    #create mapping from categories to index (to easily store data)\n",
    "    #done because we assume y's values can be different from range(n_categories)\n",
    "    #cat_list useful to quickly go back (header of result matrix)\n",
    "    cat_map = {}\n",
    "    cat_list = []\n",
    "    for i, cat in enumerate(cats):\n",
    "        cat_map[cat] = i\n",
    "        cat_list.append(cat)\n",
    "    \n",
    "    #for each cluster, computes proportion of point belonging to each category\n",
    "    result = np.zeros((n_clusters, n_cats))\n",
    "    tot_per_clust = np.zeros((n_clusters,1), dtype=int)\n",
    "    for i, clust in enumerate(clusters):\n",
    "        labels = y[clust_labels == clust]\n",
    "        tot_per_clust[i] = clusters[clust]\n",
    "        for cat in labels:\n",
    "            result[i,cat_map[cat]] += 1\n",
    "            \n",
    "    #to compute percentage of category points\n",
    "    perc_cat = []\n",
    "    for clust in range(len(result)):\n",
    "        i_max = np.argmax(result[clust,:])\n",
    "        tot = cats[cat_list[i_max]]\n",
    "        perc_cat.append(result[clust, i_max] / tot * 100)\n",
    "        \n",
    "    #express each value as a proportion (normalization)\n",
    "    result = result / tot_per_clust * 100\n",
    "    \n",
    "    #show graphical representation if matrix not too big\n",
    "    if n_cats < img_threshold and n_clusters < img_threshold:\n",
    "        my_log.show_img(result)\n",
    "        \n",
    "    #for each cluster show the category that fits it best\n",
    "    for i,value in enumerate(np.argmax(result, axis=1)):\n",
    "        #frequency of category: number of datapoint of a specific category belonging to that cluster\n",
    "        #over the number of points in the cluster (variety within cluster)\n",
    "        #category clustering: number of datapoint of a specific category belonging to that cluster,\n",
    "        #over the total number of points of that category\n",
    "        my_log.log_it('cluster: %s --> top category: %s, frequency of category (variety within cluster): %.2f%%, category clustering: %.2f%%'\\\n",
    "              % (i, cat_list[value], result[i, value], perc_cat[i]))\n",
    "    score = np.sum(np.max(result, axis=1))/n_clusters\n",
    "    weighted = np.dot(np.max(result, axis=1), np.array(perc_cat))/100\n",
    "    #maybe it's best to weight the score by the category clustering index (see k-means example below)\n",
    "    my_log.log_it(\"Overall score (doesn't consider category clustering): %.2f%%, weighted: %.2f%%\"%(score, weighted))\n",
    "    return weighted, my_log.get_log()"
   ]
  },
  {
   "cell_type": "code",
   "execution_count": 91,
   "metadata": {
    "collapsed": true
   },
   "outputs": [],
   "source": [
    "def standardize(df, column):\n",
    "    if not isinstance(column, (str, int)):\n",
    "        raise Exception(1)\n",
    "    #returns a copy of the standardized column\n",
    "    c = df[column].copy()\n",
    "    mean = c.mean()\n",
    "    sd = c.std()\n",
    "    return (c - mean) / sd"
   ]
  },
  {
   "cell_type": "code",
   "execution_count": 112,
   "metadata": {
    "collapsed": true
   },
   "outputs": [],
   "source": [
    "def batch_std(df, columns):\n",
    "    if not isinstance(columns, str):\n",
    "        if len(columns) == 0:\n",
    "            raise Exception('nto enough columns')\n",
    "    else:\n",
    "        raise Exception('must be an array or list')\n",
    "    #returns a new dataframe with standardized columns\n",
    "    new_df = pd.DataFrame()\n",
    "    for column in columns:\n",
    "        temp = standardize(df, column)\n",
    "        new_df[column] = temp\n",
    "    return new_df"
   ]
  },
  {
   "cell_type": "code",
   "execution_count": 212,
   "metadata": {
    "collapsed": true
   },
   "outputs": [],
   "source": [
    "class test():\n",
    "    def __init__(self):\n",
    "        self.best = [0,0,0]\n",
    "        self.scores = []\n",
    "        \n",
    "    def update(self, score, k):\n",
    "        score, log = score\n",
    "        if score > self.best[0]:\n",
    "            self.best = score, k, log\n",
    "        self.scores.append((k, score))\n",
    "        \n",
    "    def get_result(self):\n",
    "        best = self.best\n",
    "        scores = self.scores\n",
    "        print('best weighted score: %.2f%%, number of clusters: %i' % (best[0], best[1]))\n",
    "        print('log of best: \\n%s' % best[2])\n",
    "        plt.figure()\n",
    "        plt.plot(*zip(*scores),'-')"
   ]
  },
  {
   "cell_type": "markdown",
   "metadata": {},
   "source": [
    "## Tests"
   ]
  },
  {
   "cell_type": "markdown",
   "metadata": {},
   "source": [
    "### K-means on traffic\n",
    "Just an exploratory study, let's see what we get..."
   ]
  },
  {
   "cell_type": "code",
   "execution_count": 232,
   "metadata": {
    "collapsed": false,
    "scrolled": true
   },
   "outputs": [
    {
     "name": "stdout",
     "output_type": "stream",
     "text": [
      "cluster: 0 --> top category: V-Bag, frequency of category (variety within cluster): 39.74%, category clustering: 12.30%\n",
      "cluster: 1 --> top category: V-Bag, frequency of category (variety within cluster): 38.69%, category clustering: 31.22%\n",
      "cluster: 2 --> top category: V-Pet, frequency of category (variety within cluster): 35.46%, category clustering: 25.00%\n",
      "cluster: 3 --> top category: V-Bag, frequency of category (variety within cluster): 40.00%, category clustering: 8.11%\n",
      "cluster: 4 --> top category: V-Bag, frequency of category (variety within cluster): 35.81%, category clustering: 24.05%\n",
      "cluster: 5 --> top category: V-Pet, frequency of category (variety within cluster): 41.10%, category clustering: 4.66%\n",
      "Overall score (doesn't consider category clustering): 38.47%, weighted: 39.60%\n"
     ]
    },
    {
     "data": {
      "image/png": "[encoded data removed]",
      "text/plain": [
       "<matplotlib.figure.Figure at 0x13328a5e898>"
      ]
     },
     "metadata": {},
     "output_type": "display_data"
    }
   ],
   "source": [
    "from sklearn.cluster import KMeans\n",
    "\n",
    "X = df_clean[traffic_columns]\n",
    "y = df_clean['Product']\n",
    "\n",
    "km = KMeans(n_clusters=6, init='k-means++', n_init=10, n_jobs=4)\n",
    "km.fit(X)\n",
    "score = check_clusters(y=y, clust_labels=km.labels_)"
   ]
  },
  {
   "cell_type": "markdown",
   "metadata": {},
   "source": [
    "now we try the same but with standardized columns, see the difference"
   ]
  },
  {
   "cell_type": "code",
   "execution_count": 234,
   "metadata": {
    "collapsed": false
   },
   "outputs": [
    {
     "name": "stdout",
     "output_type": "stream",
     "text": [
      "cluster: 0 --> top category: V-Bag, frequency of category (variety within cluster): 36.39%, category clustering: 33.24%\n",
      "cluster: 1 --> top category: V-Bag, frequency of category (variety within cluster): 38.92%, category clustering: 8.78%\n",
      "cluster: 2 --> top category: V-Bag, frequency of category (variety within cluster): 36.88%, category clustering: 57.16%\n",
      "cluster: 3 --> top category: V-Pet, frequency of category (variety within cluster): 50.00%, category clustering: 0.31%\n",
      "cluster: 4 --> top category: V-Bag, frequency of category (variety within cluster): 100.00%, category clustering: 0.54%\n",
      "cluster: 5 --> top category: V-Bag, frequency of category (variety within cluster): 50.00%, category clustering: 0.14%\n",
      "Overall score (doesn't consider category clustering): 52.03%, weighted: 37.36%\n"
     ]
    },
    {
     "data": {
      "image/png": "[encoded data removed]",
      "text/plain": [
       "<matplotlib.figure.Figure at 0x133272acb70>"
      ]
     },
     "metadata": {},
     "output_type": "display_data"
    }
   ],
   "source": [
    "X_std = batch_std(df_clean, traffic_columns)\n",
    "y = df_clean['Product']\n",
    "\n",
    "km = KMeans(n_clusters=6, init='k-means++', n_init=10, n_jobs=4)\n",
    "km.fit(X_std)\n",
    "score = check_clusters(y=y, clust_labels=km.labels_)"
   ]
  },
  {
   "cell_type": "markdown",
   "metadata": {},
   "source": [
    "It seems to have improved. Still the clusters seem to separate pretty poorly. Let's see the optimal value of k based on our previous score (using standardized data which seem to make more sense). We set the same seed each time so that the results are comparable and not influenced by different initial centroid allocation."
   ]
  },
  {
   "cell_type": "code",
   "execution_count": 214,
   "metadata": {
    "collapsed": false
   },
   "outputs": [
    {
     "name": "stdout",
     "output_type": "stream",
     "text": [
      "best weighted score: 38.99%, number of clusters: 9\n",
      "log of best: \n",
      "cluster: 0 --> top category: V-Bag, frequency of category (variety within cluster): 36.94%, category clustering: 29.05%\n",
      "cluster: 1 --> top category: V-Pet, frequency of category (variety within cluster): 37.44%, category clustering: 12.73%\n",
      "cluster: 2 --> top category: V-Bag, frequency of category (variety within cluster): 36.88%, category clustering: 53.38%\n",
      "cluster: 3 --> top category: V-Bag, frequency of category (variety within cluster): 44.87%, category clustering: 4.73%\n",
      "cluster: 4 --> top category: V-Bag, frequency of category (variety within cluster): 37.50%, category clustering: 1.62%\n",
      "cluster: 5 --> top category: V-Pet, frequency of category (variety within cluster): 50.00%, category clustering: 0.62%\n",
      "cluster: 6 --> top category: V-Pet, frequency of category (variety within cluster): 50.00%, category clustering: 0.31%\n",
      "cluster: 7 --> top category: V-Bag, frequency of category (variety within cluster): 100.00%, category clustering: 0.54%\n",
      "cluster: 8 --> top category: V-Bag, frequency of category (variety within cluster): 50.00%, category clustering: 0.14%\n",
      "Overall score (doesn't consider category clustering): 49.29%, weighted: 38.99%\n"
     ]
    },
    {
     "data": {
      "image/png": "[encoded data removed]",
      "text/plain": [
       "<matplotlib.figure.Figure at 0x13328a98470>"
      ]
     },
     "metadata": {},
     "output_type": "display_data"
    }
   ],
   "source": [
    "my_test = test()\n",
    "\n",
    "np.random.seed(23453)\n",
    "X_std = batch_std(df_clean, traffic_columns)\n",
    "y = df_clean['Product']\n",
    "\n",
    "for k in range(2, 10):\n",
    "    km = KMeans(n_clusters=k, init='k-means++', n_init=10, n_jobs=4)\n",
    "    km.fit(X_std)\n",
    "    \n",
    "    score= check_clusters(y=y, clust_labels=km.labels_, v=False)\n",
    "    my_test.update(score, k)\n",
    "        \n",
    "my_test.get_result()"
   ]
  },
  {
   "cell_type": "markdown",
   "metadata": {},
   "source": [
    "### Hierarchical clustering on traffic data\n",
    "Same approach as for k-means, test difference between standardized and not."
   ]
  },
  {
   "cell_type": "code",
   "execution_count": 216,
   "metadata": {
    "collapsed": false
   },
   "outputs": [
    {
     "name": "stdout",
     "output_type": "stream",
     "text": [
      "best weighted score: 37.72%, number of clusters: 7\n",
      "log of best: \n",
      "cluster: 0 --> top category: V-Bag, frequency of category (variety within cluster): 39.15%, category clustering: 24.86%\n",
      "cluster: 1 --> top category: V-Bag, frequency of category (variety within cluster): 35.78%, category clustering: 62.03%\n",
      "cluster: 2 --> top category: V-Bag, frequency of category (variety within cluster): 43.18%, category clustering: 5.14%\n",
      "cluster: 3 --> top category: V-Bag, frequency of category (variety within cluster): 35.81%, category clustering: 7.16%\n",
      "cluster: 4 --> top category: V-Auto, frequency of category (variety within cluster): 50.00%, category clustering: 0.67%\n",
      "cluster: 5 --> top category: V-Bag, frequency of category (variety within cluster): 100.00%, category clustering: 0.54%\n",
      "cluster: 6 --> top category: V-Bag, frequency of category (variety within cluster): 100.00%, category clustering: 0.14%\n",
      "Overall score (doesn't consider category clustering): 57.70%, weighted: 37.72%\n"
     ]
    },
    {
     "data": {
      "image/png": "[encoded data removed]",
      "text/plain": [
       "<matplotlib.figure.Figure at 0x13328ad5978>"
      ]
     },
     "metadata": {},
     "output_type": "display_data"
    }
   ],
   "source": [
    "from sklearn.cluster import AgglomerativeClustering\n",
    "\n",
    "my_test = test()\n",
    "X_std = batch_std(df_clean, traffic_columns)\n",
    "y = df_clean['Product']\n",
    "\n",
    "for k in range(2, 8):\n",
    "    clust = AgglomerativeClustering(n_clusters=k, linkage='ward', affinity='euclidean')\n",
    "    clust.fit(X_std)\n",
    "    score = check_clusters(y=y, clust_labels=clust.labels_, v=False)\n",
    "    my_test.update(score, k)\n",
    "\n",
    "my_test.get_result()"
   ]
  },
  {
   "cell_type": "markdown",
   "metadata": {},
   "source": [
    "try complete linkage"
   ]
  },
  {
   "cell_type": "code",
   "execution_count": 217,
   "metadata": {
    "collapsed": false
   },
   "outputs": [
    {
     "name": "stdout",
     "output_type": "stream",
     "text": [
      "best weighted score: 38.60%, number of clusters: 7\n",
      "log of best: \n",
      "cluster: 0 --> top category: V-Bag, frequency of category (variety within cluster): 37.06%, category clustering: 98.65%\n",
      "cluster: 1 --> top category: V-Pet, frequency of category (variety within cluster): 50.00%, category clustering: 0.93%\n",
      "cluster: 2 --> top category: V-Pet, frequency of category (variety within cluster): 66.67%, category clustering: 0.62%\n",
      "cluster: 3 --> top category: V-Auto, frequency of category (variety within cluster): 50.00%, category clustering: 0.67%\n",
      "cluster: 4 --> top category: V-Bag, frequency of category (variety within cluster): 100.00%, category clustering: 0.54%\n",
      "cluster: 5 --> top category: V-Pet, frequency of category (variety within cluster): 100.00%, category clustering: 0.16%\n",
      "cluster: 6 --> top category: V-Bag, frequency of category (variety within cluster): 100.00%, category clustering: 0.14%\n",
      "Overall score (doesn't consider category clustering): 71.96%, weighted: 38.60%\n"
     ]
    },
    {
     "data": {
      "image/png": "[encoded data removed]",
      "text/plain": [
       "<matplotlib.figure.Figure at 0x13328af59e8>"
      ]
     },
     "metadata": {},
     "output_type": "display_data"
    }
   ],
   "source": [
    "from sklearn.cluster import AgglomerativeClustering\n",
    "\n",
    "my_test = test()\n",
    "X_std = batch_std(df_clean, traffic_columns)\n",
    "y = df_clean['Product']\n",
    "\n",
    "for k in range(2, 8):\n",
    "    clust = AgglomerativeClustering(n_clusters=k, linkage='complete', affinity='euclidean')\n",
    "    clust.fit(X_std)\n",
    "    score = check_clusters(y=y, clust_labels=clust.labels_, v=False)\n",
    "    my_test.update(score, k)\n",
    "\n",
    "my_test.get_result()"
   ]
  },
  {
   "cell_type": "code",
   "execution_count": 235,
   "metadata": {
    "collapsed": false
   },
   "outputs": [
    {
     "data": {
      "text/plain": [
       "Index(['ID', 'Product', 'CustomerAge', 'DataAllowance', 'DataArpu',\n",
       "       'DeviceFlag4G', 'DeviceFlagSmartphone', 'MonthlyDataTraffic',\n",
       "       'MonthlyVoiceTrafficCount', 'CustomerGender', 'CustomerImmigrant',\n",
       "       'DevicePrice', 'MonthlySmsTrafficCount', 'Province', 'Region',\n",
       "       'ZipCode', 'DeviceOperatingSystem', 'File-Transfer', 'Games',\n",
       "       'Instant-Messaging-Applications', 'Mail', 'Music-Streaming',\n",
       "       'Network-Operation', 'P2P-Applications', 'Security',\n",
       "       'Streaming-Applications', 'Terminals', 'Unclassified', 'VoIP',\n",
       "       'Web-Applications', 'NumericAge', 'OS_clean'],\n",
       "      dtype='object')"
      ]
     },
     "execution_count": 235,
     "metadata": {},
     "output_type": "execute_result"
    }
   ],
   "source": [
    "df_clean.columns"
   ]
  },
  {
   "cell_type": "code",
   "execution_count": 243,
   "metadata": {
    "collapsed": false
   },
   "outputs": [
    {
     "data": {
      "text/plain": [
       "[<matplotlib.lines.Line2D at 0x13328b39128>]"
      ]
     },
     "execution_count": 243,
     "metadata": {},
     "output_type": "execute_result"
    },
    {
     "data": {
      "image/png": "[encoded data removed]",
      "text/plain": [
       "<matplotlib.figure.Figure at 0x133289bf080>"
      ]
     },
     "metadata": {},
     "output_type": "display_data"
    }
   ],
   "source": [
    "df = pd.DataFrame()\n",
    "df['1'] = np.random.binomial(50, 0.5, size=1000)\n",
    "df['1']\n",
    "a=plt.plot(df_clean['NumericAge'], df_clean['DevicePrice'],'.')\n"
   ]
  },
  {
   "cell_type": "code",
   "execution_count": null,
   "metadata": {
    "collapsed": true
   },
   "outputs": [],
   "source": []
  }
 ],
 "metadata": {
  "kernelspec": {
   "display_name": "Python 3",
   "language": "python",
   "name": "python3"
  },
  "language_info": {
   "codemirror_mode": {
    "name": "ipython",
    "version": 3
   },
   "file_extension": ".py",
   "mimetype": "text/x-python",
   "name": "python",
   "nbconvert_exporter": "python",
   "pygments_lexer": "ipython3",
   "version": "3.6.0"
  }
 },
 "nbformat": 4,
 "nbformat_minor": 2
}
